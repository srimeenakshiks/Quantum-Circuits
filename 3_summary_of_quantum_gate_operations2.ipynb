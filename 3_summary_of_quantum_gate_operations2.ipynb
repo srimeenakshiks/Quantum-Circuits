{
  "cells": [
    {
      "cell_type": "markdown",
      "source": [
        "# Summary of Quantum Operations\n",
        " In this section we will go into the different operations that are available in Qiskit Terra. These are:\n",
        "\n",
        "- Single-qubit quantum gates\n",
        "- Multi-qubit quantum gates\n",
        "- Measurements\n",
        "- Reset\n",
        "- Conditionals\n",
        "- State initialization\n",
        "\n",
        "We will also show you how to use the three different simulators:\n",
        "\n",
        "- unitary_simulator\n",
        "- qasm_simulator\n",
        "- statevector_simulator"
      ],
      "metadata": {
        "id": "_e_WeU4clOYP"
      }
    },
    {
      "cell_type": "code",
      "source": [
        "!pip install qiskit\n",
        "!pip install qiskit-aer\n",
        "!pip install pylatexenc"
      ],
      "metadata": {
        "colab": {
          "base_uri": "https://localhost:8080/"
        },
        "id": "3BsIn1L8lph9",
        "outputId": "9e473606-2dc5-45e2-aa4a-1c827e191bc4"
      },
      "execution_count": null,
      "outputs": [
        {
          "output_type": "stream",
          "name": "stdout",
          "text": [
            "Requirement already satisfied: qiskit in /usr/local/lib/python3.10/dist-packages (1.1.1)\n",
            "Requirement already satisfied: rustworkx>=0.14.0 in /usr/local/lib/python3.10/dist-packages (from qiskit) (0.15.1)\n",
            "Requirement already satisfied: numpy<3,>=1.17 in /usr/local/lib/python3.10/dist-packages (from qiskit) (1.25.2)\n",
            "Requirement already satisfied: scipy>=1.5 in /usr/local/lib/python3.10/dist-packages (from qiskit) (1.13.1)\n",
            "Requirement already satisfied: sympy>=1.3 in /usr/local/lib/python3.10/dist-packages (from qiskit) (1.13.1)\n",
            "Requirement already satisfied: dill>=0.3 in /usr/local/lib/python3.10/dist-packages (from qiskit) (0.3.8)\n",
            "Requirement already satisfied: python-dateutil>=2.8.0 in /usr/local/lib/python3.10/dist-packages (from qiskit) (2.8.2)\n",
            "Requirement already satisfied: stevedore>=3.0.0 in /usr/local/lib/python3.10/dist-packages (from qiskit) (5.2.0)\n",
            "Requirement already satisfied: typing-extensions in /usr/local/lib/python3.10/dist-packages (from qiskit) (4.12.2)\n",
            "Requirement already satisfied: symengine>=0.11 in /usr/local/lib/python3.10/dist-packages (from qiskit) (0.11.0)\n",
            "Requirement already satisfied: six>=1.5 in /usr/local/lib/python3.10/dist-packages (from python-dateutil>=2.8.0->qiskit) (1.16.0)\n",
            "Requirement already satisfied: pbr!=2.1.0,>=2.0.0 in /usr/local/lib/python3.10/dist-packages (from stevedore>=3.0.0->qiskit) (6.0.0)\n",
            "Requirement already satisfied: mpmath<1.4,>=1.1.0 in /usr/local/lib/python3.10/dist-packages (from sympy>=1.3->qiskit) (1.3.0)\n",
            "Requirement already satisfied: qiskit-aer in /usr/local/lib/python3.10/dist-packages (0.14.2)\n",
            "Requirement already satisfied: qiskit>=0.45.2 in /usr/local/lib/python3.10/dist-packages (from qiskit-aer) (1.1.1)\n",
            "Requirement already satisfied: numpy>=1.16.3 in /usr/local/lib/python3.10/dist-packages (from qiskit-aer) (1.25.2)\n",
            "Requirement already satisfied: scipy>=1.0 in /usr/local/lib/python3.10/dist-packages (from qiskit-aer) (1.13.1)\n",
            "Requirement already satisfied: psutil>=5 in /usr/local/lib/python3.10/dist-packages (from qiskit-aer) (5.9.5)\n",
            "Requirement already satisfied: rustworkx>=0.14.0 in /usr/local/lib/python3.10/dist-packages (from qiskit>=0.45.2->qiskit-aer) (0.15.1)\n",
            "Requirement already satisfied: sympy>=1.3 in /usr/local/lib/python3.10/dist-packages (from qiskit>=0.45.2->qiskit-aer) (1.13.1)\n",
            "Requirement already satisfied: dill>=0.3 in /usr/local/lib/python3.10/dist-packages (from qiskit>=0.45.2->qiskit-aer) (0.3.8)\n",
            "Requirement already satisfied: python-dateutil>=2.8.0 in /usr/local/lib/python3.10/dist-packages (from qiskit>=0.45.2->qiskit-aer) (2.8.2)\n",
            "Requirement already satisfied: stevedore>=3.0.0 in /usr/local/lib/python3.10/dist-packages (from qiskit>=0.45.2->qiskit-aer) (5.2.0)\n",
            "Requirement already satisfied: typing-extensions in /usr/local/lib/python3.10/dist-packages (from qiskit>=0.45.2->qiskit-aer) (4.12.2)\n",
            "Requirement already satisfied: symengine>=0.11 in /usr/local/lib/python3.10/dist-packages (from qiskit>=0.45.2->qiskit-aer) (0.11.0)\n",
            "Requirement already satisfied: six>=1.5 in /usr/local/lib/python3.10/dist-packages (from python-dateutil>=2.8.0->qiskit>=0.45.2->qiskit-aer) (1.16.0)\n",
            "Requirement already satisfied: pbr!=2.1.0,>=2.0.0 in /usr/local/lib/python3.10/dist-packages (from stevedore>=3.0.0->qiskit>=0.45.2->qiskit-aer) (6.0.0)\n",
            "Requirement already satisfied: mpmath<1.4,>=1.1.0 in /usr/local/lib/python3.10/dist-packages (from sympy>=1.3->qiskit>=0.45.2->qiskit-aer) (1.3.0)\n",
            "Requirement already satisfied: pylatexenc in /usr/local/lib/python3.10/dist-packages (2.10)\n"
          ]
        }
      ]
    },
    {
      "cell_type": "code",
      "execution_count": null,
      "metadata": {
        "ExecuteTime": {
          "end_time": "2021-07-31T05:10:06.399483Z",
          "start_time": "2021-07-31T05:10:06.113598Z"
        },
        "id": "OtmzQBPZkcOW"
      },
      "outputs": [],
      "source": [
        "# Useful additional packages\n",
        "import matplotlib.pyplot as plt\n",
        "import numpy as np\n",
        "from math import pi"
      ]
    },
    {
      "cell_type": "code",
      "execution_count": null,
      "metadata": {
        "ExecuteTime": {
          "end_time": "2021-07-31T05:10:07.863361Z",
          "start_time": "2021-07-31T05:10:06.401320Z"
        },
        "id": "NqbBJclukcOa"
      },
      "outputs": [],
      "source": [
        "from qiskit import QuantumCircuit, ClassicalRegister, QuantumRegister, transpile\n",
        "from qiskit.visualization import circuit_drawer\n",
        "from qiskit.quantum_info import state_fidelity\n",
        "from qiskit_aer import UnitarySimulator\n",
        "\n",
        "#backend = BasicAer.get_backend('unitary_simulator')\n",
        "backend = UnitarySimulator(precision='single')"
      ]
    },
    {
      "cell_type": "markdown",
      "source": [
        "## Single Qubit Quantum states <a name=\"single_states\"/>\n",
        "\n",
        "A single qubit quantum state can be written as\n",
        "\n",
        "$$\\left|\\psi\\right\\rangle = \\alpha\\left|0\\right\\rangle + \\beta \\left|1\\right\\rangle$$\n",
        "\n",
        "\n",
        "where $\\alpha$ and $\\beta$ are complex numbers. In a measurement the probability of the bit being in $\\left|0\\right\\rangle$ is $|\\alpha|^2$ and $\\left|1\\right\\rangle$ is $|\\beta|^2$. As a vector this is\n",
        "\n",
        "$$\n",
        "\\left|\\psi\\right\\rangle =  \n",
        "\\begin{pmatrix}\n",
        "\\alpha \\\\\n",
        "\\beta\n",
        "\\end{pmatrix}.\n",
        "$$\n",
        "\n",
        "Note, due to the conservation of probability $|\\alpha|^2+ |\\beta|^2 = 1$ and since global phase is undetectable $\\left|\\psi\\right\\rangle := e^{i\\delta} \\left|\\psi\\right\\rangle$ we only require two real numbers to describe a single qubit quantum state.\n",
        "\n",
        "A convenient representation is\n",
        "\n",
        "$$\\left|\\psi\\right\\rangle = \\cos(\\theta/2)\\left|0\\right\\rangle + \\sin(\\theta/2)e^{i\\phi}\\left|1\\right\\rangle$$\n",
        "\n",
        "where $0\\leq \\phi < 2\\pi$, and $0\\leq \\theta \\leq \\pi$.  From this, it is clear that there is a one-to-one correspondence between qubit states ($\\mathbb{C}^2$) and the points on the surface of a unit sphere ($\\mathbb{S}^2$). This is called the Bloch sphere representation of a qubit state.\n",
        "\n",
        "Quantum gates/operations are usually represented as matrices. A gate which acts on a qubit is represented by a $2\\times 2$ unitary matrix $U$. The action of the quantum gate is found by multiplying the matrix representing the gate with the vector which represents the quantum state.\n",
        "\n",
        "$$\\left|\\psi'\\right\\rangle = U\\left|\\psi\\right\\rangle$$\n",
        "\n",
        "A general unitary must be able to take the $\\left|0\\right\\rangle$ to the above state. That is\n",
        "\n",
        "$$\n",
        "U = \\begin{pmatrix}\n",
        "\\cos(\\theta/2) & a \\\\\n",
        "e^{i\\phi}\\sin(\\theta/2) & b\n",
        "\\end{pmatrix}\n",
        "$$\n",
        "\n",
        "where $a$ and $b$ are complex numbers constrained such that $U^\\dagger U = I$ for all $0\\leq\\theta\\leq\\pi$ and $0\\leq \\phi<2\\pi$. This gives 3 constraints and as such $a\\rightarrow -e^{i\\lambda}\\sin(\\theta/2)$ and $b\\rightarrow e^{i\\lambda+i\\phi}\\cos(\\theta/2)$ where $0\\leq \\lambda<2\\pi$ giving\n",
        "\n",
        "$$\n",
        "U(\\theta, \\phi, \\lambda) =\n",
        "    \\begin{pmatrix}\n",
        "        \\cos\\left(\\frac{\\theta}{2}\\right)          & -e^{i\\lambda}\\sin\\left(\\frac{\\theta}{2}\\right) \\\\\n",
        "        e^{i\\phi}\\sin\\left(\\frac{\\theta}{2}\\right) & e^{i(\\phi+\\lambda)}\\cos\\left(\\frac{\\theta}{2}\\right)\n",
        "    \\end{pmatrix}\n",
        "$$\n",
        "\n",
        "This is the most general form of a single qubit unitary."
      ],
      "metadata": {
        "id": "5Di_nc6MlyAE"
      }
    },
    {
      "cell_type": "markdown",
      "source": [
        "## Single-Qubit Gates <a name=\"single_gates\"/>\n",
        "\n",
        "The single-qubit gates available are:\n",
        "- U gate\n",
        "- P gate\n",
        "- Identity gate\n",
        "- Pauli gates\n",
        "- Clifford gates\n",
        "- $C3$ gates\n",
        "- Standard rotation gates\n",
        "\n",
        "We have provided a backend: `unitary_simulator` to allow you to calculate the unitary matrices."
      ],
      "metadata": {
        "id": "CdmJs2Kal6_u"
      }
    },
    {
      "cell_type": "code",
      "execution_count": null,
      "metadata": {
        "ExecuteTime": {
          "end_time": "2021-07-31T05:10:08.577924Z",
          "start_time": "2021-07-31T05:10:08.575044Z"
        },
        "id": "5jB2vHOAkcOb"
      },
      "outputs": [],
      "source": [
        "q = QuantumRegister(1)"
      ]
    },
    {
      "cell_type": "markdown",
      "source": [
        "### U gate\n",
        "\n",
        "In Qiskit we give you access to the general unitary using the $u$ gate, which has the following matrix form\n",
        "\n",
        "$$\n",
        "U(\\theta, \\phi, \\lambda) =\n",
        "    \\begin{pmatrix}\n",
        "        \\cos\\left(\\frac{\\theta}{2}\\right)          & -e^{i\\lambda}\\sin\\left(\\frac{\\theta}{2}\\right) \\\\\n",
        "        e^{i\\phi}\\sin\\left(\\frac{\\theta}{2}\\right) & e^{i(\\phi+\\lambda)}\\cos\\left(\\frac{\\theta}{2}\\right)\n",
        "    \\end{pmatrix}\n",
        "$$\n"
      ],
      "metadata": {
        "id": "3DsB2YRimllL"
      }
    },
    {
      "cell_type": "code",
      "execution_count": null,
      "metadata": {
        "ExecuteTime": {
          "end_time": "2021-07-31T05:10:09.406278Z",
          "start_time": "2021-07-31T05:10:09.398661Z"
        },
        "colab": {
          "base_uri": "https://localhost:8080/",
          "height": 127
        },
        "id": "hVsgFw0hkcOb",
        "outputId": "921836fc-74d5-47eb-d48b-02216d30c231"
      },
      "outputs": [
        {
          "output_type": "execute_result",
          "data": {
            "text/plain": [
              "<Figure size 287.294x117.056 with 1 Axes>"
            ],
            "image/png": "[encoded data removed]"
          },
          "metadata": {},
          "execution_count": 5
        }
      ],
      "source": [
        "qc = QuantumCircuit(q)\n",
        "qc.u(pi/2,pi/4,pi/8,q)\n",
        "qc.draw('mpl')"
      ]
    },
    {
      "cell_type": "code",
      "execution_count": null,
      "metadata": {
        "ExecuteTime": {
          "end_time": "2021-07-31T05:10:10.420628Z",
          "start_time": "2021-07-31T05:10:10.342207Z"
        },
        "colab": {
          "base_uri": "https://localhost:8080/"
        },
        "id": "OwrO-WcQkcOe",
        "outputId": "13218291-18b8-4cba-fc18-857b28d59b90"
      },
      "outputs": [
        {
          "output_type": "stream",
          "name": "stdout",
          "text": [
            "Operator([[ 0.707+0.j   , -0.653-0.271j],\n",
            "          [ 0.5  +0.5j  ,  0.271+0.653j]],\n",
            "         input_dims=(2,), output_dims=(2,))\n"
          ]
        }
      ],
      "source": [
        "#job = backend.run(transpile(qc, backend))\n",
        "job = backend.run(qc)\n",
        "un = job.result().get_unitary(qc, decimals=3)\n",
        "print(un)"
      ]
    },
    {
      "cell_type": "markdown",
      "source": [
        "*italicized text*<div class=\"alert alert-info\">\n",
        "Note on U gate deprecation\n",
        "\n",
        "The QuantumCircuit methods $u1$, $u2$ and $u3$ are now deprecated. Instead, the following replacements should be used.\n",
        "\n",
        "- $u1(\\lambda) = p(\\lambda) = u(0, 0, \\lambda)$\n",
        "\n",
        "- $u2(\\phi, \\lambda) = u(\\frac{\\pi}{2}, \\phi, \\lambda) = p(\\frac{\\pi}{2} + \\phi) \\cdot sx \\cdot p(\\frac{\\pi}{2} - \\lambda)$\n",
        "\n",
        "- $u3(\\theta, \\phi, \\lambda) = u(\\theta, \\phi, \\lambda) = p(\\phi + \\pi) \\cdot sx \\cdot p(\\theta + \\pi) \\cdot sx \\cdot p(\\lambda)$\n",
        "\n",
        "```python\n",
        "# qc.u1(lambda) is now:\n",
        "qc.p(lambda)\n",
        "\n",
        "# qc.u2(phi, lambda) is now:\n",
        "qc.u(pi/2, phi, lambda)\n",
        "\n",
        "# qc.u3(theta, phi, lambda) is now:\n",
        "qc.u(theta, phi, lambda)\n",
        "```\n",
        "</div>"
      ],
      "metadata": {
        "id": "ZRJRFEt-m_CM"
      }
    },
    {
      "cell_type": "code",
      "execution_count": null,
      "metadata": {
        "colab": {
          "base_uri": "https://localhost:8080/"
        },
        "id": "5PZX3uJYkcOe",
        "outputId": "1931a3d4-a7dd-4bb2-d619-120df09aae4e"
      },
      "outputs": [
        {
          "output_type": "execute_result",
          "data": {
            "text/plain": [
              "['_ATOL_DEFAULT',\n",
              " '_MAX_TOL',\n",
              " '_RTOL_DEFAULT',\n",
              " '__abstractmethods__',\n",
              " '__add__',\n",
              " '__and__',\n",
              " '__array__',\n",
              " '__array_priority__',\n",
              " '__call__',\n",
              " '__class__',\n",
              " '__delattr__',\n",
              " '__dict__',\n",
              " '__dir__',\n",
              " '__doc__',\n",
              " '__eq__',\n",
              " '__format__',\n",
              " '__ge__',\n",
              " '__getattribute__',\n",
              " '__gt__',\n",
              " '__hash__',\n",
              " '__init__',\n",
              " '__init_subclass__',\n",
              " '__le__',\n",
              " '__lt__',\n",
              " '__matmul__',\n",
              " '__module__',\n",
              " '__mul__',\n",
              " '__ne__',\n",
              " '__neg__',\n",
              " '__new__',\n",
              " '__pow__',\n",
              " '__radd__',\n",
              " '__reduce__',\n",
              " '__reduce_ex__',\n",
              " '__repr__',\n",
              " '__rmul__',\n",
              " '__rsub__',\n",
              " '__setattr__',\n",
              " '__sizeof__',\n",
              " '__slots__',\n",
              " '__str__',\n",
              " '__sub__',\n",
              " '__subclasshook__',\n",
              " '__truediv__',\n",
              " '__weakref__',\n",
              " '__xor__',\n",
              " '_abc_impl',\n",
              " '_add',\n",
              " '_append_instruction',\n",
              " '_data',\n",
              " '_einsum_matmul',\n",
              " '_init_instruction',\n",
              " '_input_dim',\n",
              " '_instruction_to_matrix',\n",
              " '_ipython_display_',\n",
              " '_multiply',\n",
              " '_op_shape',\n",
              " '_output_dim',\n",
              " '_qargs',\n",
              " '_tensor',\n",
              " 'adjoint',\n",
              " 'apply_permutation',\n",
              " 'atol',\n",
              " 'compose',\n",
              " 'conjugate',\n",
              " 'copy',\n",
              " 'data',\n",
              " 'dim',\n",
              " 'dot',\n",
              " 'draw',\n",
              " 'equiv',\n",
              " 'expand',\n",
              " 'from_circuit',\n",
              " 'from_label',\n",
              " 'input_dims',\n",
              " 'is_unitary',\n",
              " 'num_qubits',\n",
              " 'output_dims',\n",
              " 'power',\n",
              " 'qargs',\n",
              " 'reshape',\n",
              " 'reverse_qargs',\n",
              " 'rtol',\n",
              " 'settings',\n",
              " 'tensor',\n",
              " 'to_instruction',\n",
              " 'to_matrix',\n",
              " 'to_operator',\n",
              " 'transpose']"
            ]
          },
          "metadata": {},
          "execution_count": 7
        }
      ],
      "source": [
        "dir(un)"
      ]
    },
    {
      "cell_type": "markdown",
      "source": [
        "### P gate\n",
        "\n",
        "The $p(\\lambda)= u(0, 0, \\lambda)$ gate has the matrix form\n",
        "\n",
        "$$\n",
        "p(\\lambda) =\n",
        "\\begin{pmatrix}\n",
        "1 & 0 \\\\\n",
        "0 & e^{i \\lambda}\n",
        "\\end{pmatrix},\n",
        "$$\n",
        "\n",
        "which is useful as it allows us to apply a quantum phase."
      ],
      "metadata": {
        "id": "SggZGag6nGKi"
      }
    },
    {
      "cell_type": "code",
      "execution_count": null,
      "metadata": {
        "ExecuteTime": {
          "end_time": "2021-07-31T05:10:51.997454Z",
          "start_time": "2021-07-31T05:10:51.992620Z"
        },
        "colab": {
          "base_uri": "https://localhost:8080/",
          "height": 127
        },
        "id": "M4qssvezkcOf",
        "outputId": "9c6bde49-73bd-4865-a9a7-cedcd6064d3c"
      },
      "outputs": [
        {
          "output_type": "execute_result",
          "data": {
            "text/plain": [
              "<Figure size 203.683x117.056 with 1 Axes>"
            ],
            "image/png": "[encoded data removed]"
          },
          "metadata": {},
          "execution_count": 8
        }
      ],
      "source": [
        "qc = QuantumCircuit(q)\n",
        "qc.p(pi/2,q)\n",
        "qc.draw('mpl')"
      ]
    },
    {
      "cell_type": "code",
      "execution_count": null,
      "metadata": {
        "ExecuteTime": {
          "end_time": "2021-07-31T05:10:58.149042Z",
          "start_time": "2021-07-31T05:10:58.138158Z"
        },
        "colab": {
          "base_uri": "https://localhost:8080/"
        },
        "id": "2svrOQegkcOg",
        "outputId": "152fe6c3-88d9-4adb-f699-16443acf2608"
      },
      "outputs": [
        {
          "output_type": "stream",
          "name": "stdout",
          "text": [
            "Operator([[1.+0.j, 0.+0.j],\n",
            "          [0.+0.j, 0.+1.j]],\n",
            "         input_dims=(2,), output_dims=(2,))\n"
          ]
        }
      ],
      "source": [
        "job = backend.run(qc)\n",
        "un = job.result().get_unitary(qc, decimals=3)\n",
        "print(un)"
      ]
    },
    {
      "cell_type": "markdown",
      "metadata": {
        "id": "9k4nd_ACkcOi"
      },
      "source": [
        "### Identity gate\n",
        "\n",
        "The identity gate is $Id = p(0)$."
      ]
    },
    {
      "cell_type": "code",
      "execution_count": null,
      "metadata": {
        "ExecuteTime": {
          "end_time": "2021-07-31T05:11:00.799001Z",
          "start_time": "2021-07-31T05:11:00.794172Z"
        },
        "colab": {
          "base_uri": "https://localhost:8080/",
          "height": 127
        },
        "id": "I6rlPiQukcOk",
        "outputId": "6ad0c448-b305-4c03-82a6-9eee72289bde"
      },
      "outputs": [
        {
          "output_type": "execute_result",
          "data": {
            "text/plain": [
              "<Figure size 203.683x117.056 with 1 Axes>"
            ],
            "image/png": "[encoded data removed]"
          },
          "metadata": {},
          "execution_count": 10
        }
      ],
      "source": [
        "qc = QuantumCircuit(q)\n",
        "qc.id(q)\n",
        "qc.draw('mpl')"
      ]
    },
    {
      "cell_type": "code",
      "execution_count": null,
      "metadata": {
        "ExecuteTime": {
          "end_time": "2021-07-31T05:11:03.627749Z",
          "start_time": "2021-07-31T05:11:03.619164Z"
        },
        "colab": {
          "base_uri": "https://localhost:8080/"
        },
        "id": "6mDHEYFPkcOl",
        "outputId": "455184c1-21b3-4578-ccea-4cf24a860b95"
      },
      "outputs": [
        {
          "output_type": "stream",
          "name": "stdout",
          "text": [
            "Operator([[1.+0.j, 0.+0.j],\n",
            "          [0.+0.j, 1.+0.j]],\n",
            "         input_dims=(2,), output_dims=(2,))\n"
          ]
        }
      ],
      "source": [
        "job = backend.run(qc)\n",
        "res = job.result()\n",
        "un = res.get_unitary(qc, decimals=3)\n",
        "print(un)"
      ]
    },
    {
      "cell_type": "markdown",
      "metadata": {
        "id": "mDqo43VxkcOn"
      },
      "source": [
        "### Pauli gates\n",
        "\n",
        "#### $X$: bit-flip gate\n",
        "\n",
        "The bit-flip gate $X$ is defined as:\n",
        "\n",
        "$$\n",
        "X   =  \n",
        "\\begin{pmatrix}\n",
        "0 & 1\\\\\n",
        "1 & 0\n",
        "\\end{pmatrix}= u(\\pi,0,\\pi)\n",
        "$$"
      ]
    },
    {
      "cell_type": "code",
      "execution_count": null,
      "metadata": {
        "ExecuteTime": {
          "end_time": "2021-07-31T05:11:05.287138Z",
          "start_time": "2021-07-31T05:11:05.281859Z"
        },
        "colab": {
          "base_uri": "https://localhost:8080/",
          "height": 127
        },
        "id": "51unRFrBkcOn",
        "outputId": "033aa876-9a35-4b27-9d15-6d42fc51493d"
      },
      "outputs": [
        {
          "output_type": "execute_result",
          "data": {
            "text/plain": [
              "<Figure size 203.683x117.056 with 1 Axes>"
            ],
            "image/png": "[encoded data removed]"
          },
          "metadata": {},
          "execution_count": 12
        }
      ],
      "source": [
        "qc = QuantumCircuit(q)\n",
        "qc.x(q)\n",
        "qc.draw('mpl')"
      ]
    },
    {
      "cell_type": "code",
      "execution_count": null,
      "metadata": {
        "ExecuteTime": {
          "end_time": "2021-07-31T05:11:07.285569Z",
          "start_time": "2021-07-31T05:11:07.276242Z"
        },
        "colab": {
          "base_uri": "https://localhost:8080/"
        },
        "id": "SaP64GOikcOo",
        "outputId": "49c2df2e-6715-4bea-e3f2-0078467e8866"
      },
      "outputs": [
        {
          "output_type": "stream",
          "name": "stdout",
          "text": [
            "Operator([[0.+0.j, 1.+0.j],\n",
            "          [1.+0.j, 0.+0.j]],\n",
            "         input_dims=(2,), output_dims=(2,))\n"
          ]
        }
      ],
      "source": [
        "job = backend.run(qc)\n",
        "res = job.result()\n",
        "un = res.get_unitary(qc, decimals=3)\n",
        "print(un)"
      ]
    },
    {
      "cell_type": "markdown",
      "metadata": {
        "id": "L063JVwSkcOp"
      },
      "source": [
        "#### $Y$: bit- and phase-flip gate\n",
        "\n",
        "The $Y$ gate is defined as:\n",
        "\n",
        "$$\n",
        "Y  =\n",
        "\\begin{pmatrix}\n",
        "0 & -i\\\\\n",
        "i & 0\n",
        "\\end{pmatrix}=u(\\pi,\\pi/2,\\pi/2)\n",
        "$$"
      ]
    },
    {
      "cell_type": "code",
      "execution_count": null,
      "metadata": {
        "ExecuteTime": {
          "end_time": "2021-07-31T05:11:09.274252Z",
          "start_time": "2021-07-31T05:11:09.270141Z"
        },
        "colab": {
          "base_uri": "https://localhost:8080/",
          "height": 127
        },
        "id": "GaClKyHvkcOp",
        "outputId": "f7f97a19-82a7-4421-a76d-134e48d8f9a6"
      },
      "outputs": [
        {
          "output_type": "execute_result",
          "data": {
            "text/plain": [
              "<Figure size 203.683x117.056 with 1 Axes>"
            ],
            "image/png": "[encoded data removed]"
          },
          "metadata": {},
          "execution_count": 14
        }
      ],
      "source": [
        "qc = QuantumCircuit(q)\n",
        "qc.y(q)\n",
        "qc.draw('mpl')"
      ]
    },
    {
      "cell_type": "code",
      "execution_count": null,
      "metadata": {
        "ExecuteTime": {
          "end_time": "2021-07-31T05:11:11.878524Z",
          "start_time": "2021-07-31T05:11:11.868931Z"
        },
        "colab": {
          "base_uri": "https://localhost:8080/"
        },
        "id": "8pS7MAOjkcOq",
        "outputId": "465738e1-44a7-4423-bac1-7d0e363918eb"
      },
      "outputs": [
        {
          "output_type": "stream",
          "name": "stdout",
          "text": [
            "Operator([[0.-0.j, 0.-1.j],\n",
            "          [0.+1.j, 0.+0.j]],\n",
            "         input_dims=(2,), output_dims=(2,))\n"
          ]
        }
      ],
      "source": [
        "job = backend.run(qc)\n",
        "res = job.result()\n",
        "un = res.get_unitary(qc, decimals=3)\n",
        "print(un)"
      ]
    },
    {
      "cell_type": "markdown",
      "metadata": {
        "id": "anjkQVc8kcOq"
      },
      "source": [
        "#### $Z$: phase-flip gate\n",
        "\n",
        "The phase-flip gate $Z$ is defined as:\n",
        "\n",
        "$$\n",
        "Z =\n",
        "\\begin{pmatrix}\n",
        "1 & 0\\\\\n",
        "0 & -1\n",
        "\\end{pmatrix}=p(\\pi)\n",
        "$$"
      ]
    },
    {
      "cell_type": "code",
      "execution_count": null,
      "metadata": {
        "ExecuteTime": {
          "end_time": "2021-07-31T05:11:13.903719Z",
          "start_time": "2021-07-31T05:11:13.898408Z"
        },
        "colab": {
          "base_uri": "https://localhost:8080/",
          "height": 127
        },
        "id": "KdDfaKRqkcOr",
        "outputId": "9eab8b79-5391-44c2-e3e7-d5cef3e43ada"
      },
      "outputs": [
        {
          "output_type": "execute_result",
          "data": {
            "text/plain": [
              "<Figure size 203.683x117.056 with 1 Axes>"
            ],
            "image/png": "[encoded data removed]"
          },
          "metadata": {},
          "execution_count": 16
        }
      ],
      "source": [
        "qc = QuantumCircuit(q)\n",
        "qc.z(q)\n",
        "qc.draw('mpl')"
      ]
    },
    {
      "cell_type": "code",
      "execution_count": null,
      "metadata": {
        "ExecuteTime": {
          "end_time": "2021-07-31T05:11:17.430999Z",
          "start_time": "2021-07-31T05:11:17.420906Z"
        },
        "colab": {
          "base_uri": "https://localhost:8080/"
        },
        "id": "5R_rrXgXkcOr",
        "outputId": "c9b1ffb7-65f5-4768-9009-1cce75c97a63"
      },
      "outputs": [
        {
          "output_type": "stream",
          "name": "stdout",
          "text": [
            "{'0': 1.0}\n"
          ]
        }
      ],
      "source": [
        "from qiskit_aer import StatevectorSimulator\n",
        "backend = StatevectorSimulator()\n",
        "job = backend.run(qc)\n",
        "res = job.result()\n",
        "un = res.get_counts(qc)\n",
        "print(un)"
      ]
    },
    {
      "cell_type": "code",
      "execution_count": null,
      "metadata": {
        "colab": {
          "base_uri": "https://localhost:8080/",
          "height": 429
        },
        "id": "sOC4a5BtkcOs",
        "outputId": "995ac587-74fc-4fbf-c756-8f79bf207d1c"
      },
      "outputs": [
        {
          "output_type": "execute_result",
          "data": {
            "text/plain": [
              "<Figure size 640x480 with 1 Axes>"
            ],
            "image/png": "[encoded data removed]"
          },
          "metadata": {},
          "execution_count": 18
        }
      ],
      "source": [
        "from qiskit.visualization import plot_histogram\n",
        "plot_histogram(un)"
      ]
    },
    {
      "cell_type": "markdown",
      "metadata": {
        "id": "KTLf8dTSkcOs"
      },
      "source": [
        "### Clifford gates\n",
        "\n",
        "#### Hadamard gate\n",
        "\n",
        "$$\n",
        "H =\n",
        "\\frac{1}{\\sqrt{2}}\n",
        "\\begin{pmatrix}\n",
        "1 & 1\\\\\n",
        "1 & -1\n",
        "\\end{pmatrix}= u(\\pi/2,0,\\pi)\n",
        "$$"
      ]
    },
    {
      "cell_type": "code",
      "execution_count": null,
      "metadata": {
        "ExecuteTime": {
          "end_time": "2021-07-31T05:11:24.374244Z",
          "start_time": "2021-07-31T05:11:24.369684Z"
        },
        "colab": {
          "base_uri": "https://localhost:8080/",
          "height": 127
        },
        "id": "4FxpQQ3WkcOs",
        "outputId": "8a09ff51-ba8b-48e3-e9bd-dc6521fa201c"
      },
      "outputs": [
        {
          "output_type": "execute_result",
          "data": {
            "text/plain": [
              "<Figure size 203.683x117.056 with 1 Axes>"
            ],
            "image/png": "[encoded data removed]"
          },
          "metadata": {},
          "execution_count": 19
        }
      ],
      "source": [
        "qc = QuantumCircuit(q)\n",
        "qc.h(q)\n",
        "qc.draw('mpl')"
      ]
    },
    {
      "cell_type": "code",
      "execution_count": null,
      "metadata": {
        "ExecuteTime": {
          "end_time": "2021-07-31T05:11:24.964793Z",
          "start_time": "2021-07-31T05:11:24.956019Z"
        },
        "colab": {
          "base_uri": "https://localhost:8080/"
        },
        "id": "wlXSs_99kcOt",
        "outputId": "a83bfcb5-b423-4265-c2c6-8a96269aaadd"
      },
      "outputs": [
        {
          "output_type": "stream",
          "name": "stdout",
          "text": [
            "Operator([[ 0.707+0.j,  0.707-0.j],\n",
            "          [ 0.707+0.j, -0.707+0.j]],\n",
            "         input_dims=(2,), output_dims=(2,))\n"
          ]
        }
      ],
      "source": [
        "backend = UnitarySimulator(precision='single')\n",
        "job = backend.run(qc)\n",
        "un=job.result().get_unitary(qc, decimals=3)\n",
        "print(un)"
      ]
    },
    {
      "cell_type": "markdown",
      "metadata": {
        "id": "Gzop6pzxkcOt"
      },
      "source": [
        "#### $S$ (or, $\\sqrt{Z}$ phase) gate\n",
        "\n",
        "$$\n",
        "S =\n",
        "\\begin{pmatrix}\n",
        "1 & 0\\\\\n",
        "0 & i\n",
        "\\end{pmatrix}= p(\\pi/2)\n",
        "$$"
      ]
    },
    {
      "cell_type": "code",
      "execution_count": null,
      "metadata": {
        "ExecuteTime": {
          "end_time": "2021-07-31T05:11:27.577029Z",
          "start_time": "2021-07-31T05:11:27.572229Z"
        },
        "colab": {
          "base_uri": "https://localhost:8080/",
          "height": 127
        },
        "id": "k2GW5ullkcOt",
        "outputId": "c3ee7943-09d2-4806-9740-eb73e0389a65"
      },
      "outputs": [
        {
          "output_type": "execute_result",
          "data": {
            "text/plain": [
              "<Figure size 287.294x117.056 with 1 Axes>"
            ],
            "image/png": "[encoded data removed]"
          },
          "metadata": {},
          "execution_count": 21
        }
      ],
      "source": [
        "qc = QuantumCircuit(q)\n",
        "qc.h(q)\n",
        "qc.s(q)\n",
        "qc.draw('mpl')"
      ]
    },
    {
      "cell_type": "code",
      "execution_count": null,
      "metadata": {
        "ExecuteTime": {
          "end_time": "2021-07-31T05:11:30.150288Z",
          "start_time": "2021-07-31T05:11:30.141012Z"
        },
        "colab": {
          "base_uri": "https://localhost:8080/"
        },
        "id": "L0-cL-eykcOu",
        "outputId": "7dd10dfc-0ab1-4b50-f8ab-f77e9f82135a"
      },
      "outputs": [
        {
          "output_type": "stream",
          "name": "stdout",
          "text": [
            "Operator([[ 0.707+0.j   ,  0.707-0.j   ],\n",
            "          [-0.   +0.707j, -0.   -0.707j]],\n",
            "         input_dims=(2,), output_dims=(2,))\n"
          ]
        }
      ],
      "source": [
        "job = backend.run(qc)\n",
        "un=job.result().get_unitary(qc, decimals=3)\n",
        "print(un)"
      ]
    },
    {
      "cell_type": "code",
      "execution_count": null,
      "metadata": {
        "colab": {
          "base_uri": "https://localhost:8080/",
          "height": 565
        },
        "id": "tWtHpNfekcOu",
        "outputId": "6745d11d-6b76-47ec-fa88-ab847d682687"
      },
      "outputs": [
        {
          "output_type": "execute_result",
          "data": {
            "text/plain": [
              "<Figure size 1600x800 with 2 Axes>"
            ],
            "image/png": "[encoded data removed]"
          },
          "metadata": {},
          "execution_count": 23
        }
      ],
      "source": [
        "from qiskit.quantum_info import DensityMatrix\n",
        "from qiskit.visualization import plot_state_city\n",
        "dm = DensityMatrix(qc)\n",
        "plot_state_city(dm, color=['midnightblue', 'crimson'], title=\"New State City\")"
      ]
    },
    {
      "cell_type": "code",
      "execution_count": null,
      "metadata": {
        "colab": {
          "base_uri": "https://localhost:8080/",
          "height": 565
        },
        "id": "OPZ0ucrPkcOv",
        "outputId": "5e87702f-5adf-4935-a31e-211f0de03a59"
      },
      "outputs": [
        {
          "output_type": "execute_result",
          "data": {
            "text/plain": [
              "<Figure size 1600x800 with 2 Axes>"
            ],
            "image/png": "[encoded data removed]"
          },
          "metadata": {},
          "execution_count": 24
        }
      ],
      "source": [
        "qc = QuantumCircuit(q)\n",
        "qc.h(q)\n",
        "qc.sdg(q)\n",
        "qc.draw('mpl')\n",
        "job = backend.run(qc)\n",
        "un=job.result().get_unitary(qc, decimals=3)\n",
        "dm = DensityMatrix(qc)\n",
        "plot_state_city(dm, color=['midnightblue', 'crimson'], title=\"New State City\")"
      ]
    },
    {
      "cell_type": "markdown",
      "metadata": {
        "id": "pnPGvWMAkcOv"
      },
      "source": [
        "#### $S^{\\dagger}$ (or, conjugate of $\\sqrt{Z}$ phase) gate\n",
        "\n",
        "$$\n",
        "S^{\\dagger} =\n",
        "\\begin{pmatrix}\n",
        "1 & 0\\\\\n",
        "0 & -i\n",
        "\\end{pmatrix}= p(-\\pi/2)\n",
        "$$\n"
      ]
    },
    {
      "cell_type": "code",
      "execution_count": null,
      "metadata": {
        "ExecuteTime": {
          "end_time": "2021-07-31T05:11:31.674786Z",
          "start_time": "2021-07-31T05:11:31.669677Z"
        },
        "colab": {
          "base_uri": "https://localhost:8080/",
          "height": 127
        },
        "id": "4QNn7_LGkcOx",
        "outputId": "c86156ee-3140-4b99-d25a-61fe32fbdceb"
      },
      "outputs": [
        {
          "output_type": "execute_result",
          "data": {
            "text/plain": [
              "<Figure size 203.683x117.056 with 1 Axes>"
            ],
            "image/png": "[encoded data removed]"
          },
          "metadata": {},
          "execution_count": 25
        }
      ],
      "source": [
        "qc = QuantumCircuit(q)\n",
        "qc.sdg(q)\n",
        "qc.draw('mpl')"
      ]
    },
    {
      "cell_type": "code",
      "execution_count": null,
      "metadata": {
        "ExecuteTime": {
          "end_time": "2021-07-31T05:11:34.228098Z",
          "start_time": "2021-07-31T05:11:34.218323Z"
        },
        "colab": {
          "base_uri": "https://localhost:8080/"
        },
        "id": "A9hhx6UQkcOy",
        "outputId": "ef99a9eb-fa9e-4c00-adb1-142e160cc41d"
      },
      "outputs": [
        {
          "output_type": "stream",
          "name": "stdout",
          "text": [
            "Operator([[1.+0.j, 0.+0.j],\n",
            "          [0.-0.j, 0.-1.j]],\n",
            "         input_dims=(2,), output_dims=(2,))\n"
          ]
        }
      ],
      "source": [
        "job = backend.run(transpile(qc, backend))\n",
        "job.result().get_unitary(qc, decimals=3)"
      ]
    },
    {
      "cell_type": "markdown",
      "metadata": {
        "id": "mWdM8Hq8kcO0"
      },
      "source": [
        "### $C3$ gates\n",
        "#### $T$ (or, $\\sqrt{S}$ phase) gate\n",
        "\n",
        "$$\n",
        "T =\n",
        "\\begin{pmatrix}\n",
        "1 & 0\\\\\n",
        "0 & e^{i \\pi/4}\n",
        "\\end{pmatrix}= p(\\pi/4)\n",
        "$$"
      ]
    },
    {
      "cell_type": "code",
      "execution_count": null,
      "metadata": {
        "ExecuteTime": {
          "end_time": "2021-07-31T05:11:35.573569Z",
          "start_time": "2021-07-31T05:11:35.568858Z"
        },
        "colab": {
          "base_uri": "https://localhost:8080/",
          "height": 127
        },
        "id": "SmtEeMKwkcO0",
        "outputId": "696b0645-e84a-45ab-fd15-851465230113"
      },
      "outputs": [
        {
          "output_type": "execute_result",
          "data": {
            "text/plain": [
              "<Figure size 203.683x117.056 with 1 Axes>"
            ],
            "image/png": "[encoded data removed]"
          },
          "metadata": {},
          "execution_count": 27
        }
      ],
      "source": [
        "qc = QuantumCircuit(q)\n",
        "qc.t(q)\n",
        "qc.draw('mpl')"
      ]
    },
    {
      "cell_type": "code",
      "execution_count": null,
      "metadata": {
        "ExecuteTime": {
          "end_time": "2021-07-31T05:11:38.030353Z",
          "start_time": "2021-07-31T05:11:38.020798Z"
        },
        "colab": {
          "base_uri": "https://localhost:8080/"
        },
        "id": "9dROi0njkcO0",
        "outputId": "e1c90443-ca8d-4996-a6f5-3a30400d35ea"
      },
      "outputs": [
        {
          "output_type": "stream",
          "name": "stdout",
          "text": [
            "Operator([[1.   +0.j   , 0.   +0.j   ],\n",
            "          [0.   +0.j   , 0.707+0.707j]],\n",
            "         input_dims=(2,), output_dims=(2,))\n"
          ]
        }
      ],
      "source": [
        "job = backend.run(transpile(qc, backend))\n",
        "job.result().get_unitary(qc, decimals=3)"
      ]
    },
    {
      "cell_type": "markdown",
      "metadata": {
        "id": "xe2-4NUOkcO1"
      },
      "source": [
        "#### $T^{\\dagger}$ (or, conjugate of $\\sqrt{S}$ phase) gate\n",
        "\n",
        "$$\n",
        "T^{\\dagger} =  \n",
        "\\begin{pmatrix}\n",
        "1 & 0\\\\\n",
        "0 & e^{-i \\pi/4}\n",
        "\\end{pmatrix}= p(-\\pi/4)\n",
        "$$"
      ]
    },
    {
      "cell_type": "code",
      "execution_count": null,
      "metadata": {
        "ExecuteTime": {
          "end_time": "2021-07-31T05:11:39.747528Z",
          "start_time": "2021-07-31T05:11:39.742799Z"
        },
        "colab": {
          "base_uri": "https://localhost:8080/",
          "height": 127
        },
        "id": "JlClKG3ekcO1",
        "outputId": "c5ee758c-dd55-4323-95cd-0e934d8652d3"
      },
      "outputs": [
        {
          "output_type": "execute_result",
          "data": {
            "text/plain": [
              "<Figure size 203.683x117.056 with 1 Axes>"
            ],
            "image/png": "[encoded data removed]"
          },
          "metadata": {},
          "execution_count": 29
        }
      ],
      "source": [
        "qc = QuantumCircuit(q)\n",
        "qc.tdg(q)\n",
        "qc.draw('mpl')"
      ]
    },
    {
      "cell_type": "code",
      "execution_count": null,
      "metadata": {
        "ExecuteTime": {
          "end_time": "2021-07-31T05:11:43.129450Z",
          "start_time": "2021-07-31T05:11:43.119304Z"
        },
        "colab": {
          "base_uri": "https://localhost:8080/"
        },
        "id": "UiL6FcCOkcO1",
        "outputId": "ec3665f6-e667-41ab-cf86-550e057c8337"
      },
      "outputs": [
        {
          "output_type": "stream",
          "name": "stdout",
          "text": [
            "Operator([[1.   +0.j   , 0.   +0.j   ],\n",
            "          [0.   +0.j   , 0.707-0.707j]],\n",
            "         input_dims=(2,), output_dims=(2,))\n"
          ]
        }
      ],
      "source": [
        "job = backend.run(transpile(qc, backend))\n",
        "job.result().get_unitary(qc, decimals=3)"
      ]
    },
    {
      "cell_type": "markdown",
      "metadata": {
        "id": "TEwgUaaOkcO1"
      },
      "source": [
        "### Standard Rotations\n",
        "\n",
        "The standard rotation gates are those that define rotations around the Paulis $P=\\{X,Y,Z\\}$. They are defined as\n",
        "\n",
        "$$ R_P(\\theta) = \\exp(-i \\theta P/2) = \\cos(\\theta/2)I -i \\sin(\\theta/2)P$$\n",
        "\n",
        "#### Rotation around X-axis\n",
        "\n",
        "$$\n",
        "R_x(\\theta) =\n",
        "\\begin{pmatrix}\n",
        "\\cos(\\theta/2) & -i\\sin(\\theta/2)\\\\\n",
        "-i\\sin(\\theta/2) & \\cos(\\theta/2)\n",
        "\\end{pmatrix} = u(\\theta, -\\pi/2,\\pi/2)\n",
        "$$"
      ]
    },
    {
      "cell_type": "code",
      "execution_count": null,
      "metadata": {
        "ExecuteTime": {
          "end_time": "2021-07-31T05:11:43.968605Z",
          "start_time": "2021-07-31T05:11:43.963670Z"
        },
        "colab": {
          "base_uri": "https://localhost:8080/",
          "height": 127
        },
        "id": "zu16kOm4kcO2",
        "outputId": "b2257bf4-3f6c-42b1-95c9-1e41da58f031"
      },
      "outputs": [
        {
          "output_type": "execute_result",
          "data": {
            "text/plain": [
              "<Figure size 203.683x117.056 with 1 Axes>"
            ],
            "image/png": "[encoded data removed]"
          },
          "metadata": {},
          "execution_count": 31
        }
      ],
      "source": [
        "qc = QuantumCircuit(q)\n",
        "qc.rx(pi/2,q)\n",
        "qc.draw('mpl')"
      ]
    },
    {
      "cell_type": "code",
      "execution_count": null,
      "metadata": {
        "ExecuteTime": {
          "end_time": "2021-07-31T05:11:47.140262Z",
          "start_time": "2021-07-31T05:11:47.128900Z"
        },
        "colab": {
          "base_uri": "https://localhost:8080/"
        },
        "id": "465OzxuKkcO2",
        "outputId": "136292eb-8a9b-4e5c-ddbe-3ff02261f5bc"
      },
      "outputs": [
        {
          "output_type": "stream",
          "name": "stdout",
          "text": [
            "Operator([[0.707+0.j   , 0.   -0.707j],\n",
            "          [0.   -0.707j, 0.707+0.j   ]],\n",
            "         input_dims=(2,), output_dims=(2,))\n"
          ]
        }
      ],
      "source": [
        "job = backend.run(transpile(qc, backend))\n",
        "job.result().get_unitary(qc, decimals=3)"
      ]
    },
    {
      "cell_type": "markdown",
      "metadata": {
        "id": "vjwbYJgAkcO3"
      },
      "source": [
        "#### Rotation around Y-axis\n",
        "\n",
        "$$\n",
        "R_y(\\theta) =\n",
        "\\begin{pmatrix}\n",
        "\\cos(\\theta/2) & - \\sin(\\theta/2)\\\\\n",
        "\\sin(\\theta/2) & \\cos(\\theta/2).\n",
        "\\end{pmatrix} =u(\\theta,0,0)\n",
        "$$"
      ]
    },
    {
      "cell_type": "code",
      "execution_count": null,
      "metadata": {
        "ExecuteTime": {
          "end_time": "2021-07-31T05:11:48.483090Z",
          "start_time": "2021-07-31T05:11:48.477062Z"
        },
        "colab": {
          "base_uri": "https://localhost:8080/",
          "height": 127
        },
        "id": "yQ8ricuykcO3",
        "outputId": "68fcf82e-ed42-423b-e48d-2580469b0000"
      },
      "outputs": [
        {
          "output_type": "execute_result",
          "data": {
            "text/plain": [
              "<Figure size 203.683x117.056 with 1 Axes>"
            ],
            "image/png": "[encoded data removed]"
          },
          "metadata": {},
          "execution_count": 33
        }
      ],
      "source": [
        "qc = QuantumCircuit(q)\n",
        "qc.ry(pi/2,q)\n",
        "qc.draw('mpl')"
      ]
    },
    {
      "cell_type": "code",
      "execution_count": null,
      "metadata": {
        "ExecuteTime": {
          "end_time": "2021-07-31T05:11:51.011307Z",
          "start_time": "2021-07-31T05:11:51.001011Z"
        },
        "colab": {
          "base_uri": "https://localhost:8080/"
        },
        "id": "vArpbTSbkcO4",
        "outputId": "cfdea311-1900-48fa-c835-bafa34ceb52f"
      },
      "outputs": [
        {
          "output_type": "stream",
          "name": "stdout",
          "text": [
            "Operator([[ 0.707+0.j, -0.707+0.j],\n",
            "          [ 0.707+0.j,  0.707+0.j]],\n",
            "         input_dims=(2,), output_dims=(2,))\n"
          ]
        }
      ],
      "source": [
        "job = backend.run(transpile(qc, backend))\n",
        "job.result().get_unitary(qc, decimals=3)"
      ]
    },
    {
      "cell_type": "markdown",
      "metadata": {
        "id": "n83ws03WkcO4"
      },
      "source": [
        "#### Rotation around Z-axis\n",
        "\n",
        "$$\n",
        "R_z(\\phi) =\n",
        "\\begin{pmatrix}\n",
        "e^{-i \\phi/2} & 0 \\\\\n",
        "0 & e^{i \\phi/2}\n",
        "\\end{pmatrix}\\equiv p(\\phi)\n",
        "$$\n",
        "\n",
        "Note that here we have used an equivalent as it is different to $p$ by a global phase $e^{-i \\phi/2}$."
      ]
    },
    {
      "cell_type": "code",
      "execution_count": null,
      "metadata": {
        "ExecuteTime": {
          "end_time": "2021-07-31T05:11:51.729618Z",
          "start_time": "2021-07-31T05:11:51.724574Z"
        },
        "colab": {
          "base_uri": "https://localhost:8080/",
          "height": 127
        },
        "id": "blp6wmJikcO4",
        "outputId": "88477837-4410-48d1-e28f-f6c2ea75f5af"
      },
      "outputs": [
        {
          "output_type": "execute_result",
          "data": {
            "text/plain": [
              "<Figure size 203.683x117.056 with 1 Axes>"
            ],
            "image/png": "[encoded data removed]"
          },
          "metadata": {},
          "execution_count": 35
        }
      ],
      "source": [
        "qc = QuantumCircuit(q)\n",
        "qc.rz(pi/2,q)\n",
        "qc.draw('mpl')"
      ]
    },
    {
      "cell_type": "code",
      "execution_count": null,
      "metadata": {
        "ExecuteTime": {
          "end_time": "2021-07-31T05:11:54.372720Z",
          "start_time": "2021-07-31T05:11:54.363623Z"
        },
        "colab": {
          "base_uri": "https://localhost:8080/"
        },
        "id": "NP6iZz14kcO5",
        "outputId": "70e8dfbc-49e2-47c4-bbf1-9b369f589ceb"
      },
      "outputs": [
        {
          "output_type": "stream",
          "name": "stdout",
          "text": [
            "Operator([[0.707-0.707j, 0.   +0.j   ],\n",
            "          [0.   +0.j   , 0.707+0.707j]],\n",
            "         input_dims=(2,), output_dims=(2,))\n"
          ]
        }
      ],
      "source": [
        "job = backend.run(transpile(qc, backend))\n",
        "job.result().get_unitary(qc, decimals=3)"
      ]
    },
    {
      "cell_type": "markdown",
      "metadata": {
        "id": "GpfmxSclkcO5"
      },
      "source": [
        "Note this is different due only to a global phase."
      ]
    },
    {
      "cell_type": "markdown",
      "metadata": {
        "id": "u91-j6CjkcO5"
      },
      "source": [
        "## Multi-Qubit Gates <a name=\"multi_gates\"/>\n",
        "\n",
        "### Mathematical Preliminaries\n",
        "\n",
        "The space of a quantum computer grows exponentially with the number of qubits. For $n$ qubits the complex vector space has dimension $d=2^n$. To describe states of a multi-qubit system, the tensor product is used to \"glue together\" operators and basis vectors.\n",
        "\n",
        "Let's start by considering a 2-qubit system. Given two operators $A$ and $B$ that each act on one qubit, the joint operator $A \\otimes B$ acting on two qubits is\n",
        "\n",
        "$$\\begin{equation}\n",
        "\tA\\otimes B =\n",
        "\t\\begin{pmatrix}\n",
        "\t\tA_{00} \\begin{pmatrix}\n",
        "\t\t\tB_{00} & B_{01} \\\\\n",
        "\t\t\tB_{10} & B_{11}\n",
        "\t\t\\end{pmatrix} & A_{01} \t\\begin{pmatrix}\n",
        "\t\t\t\tB_{00} & B_{01} \\\\\n",
        "\t\t\t\tB_{10} & B_{11}\n",
        "\t\t\t\\end{pmatrix} \\\\\n",
        "\t\tA_{10} \t\\begin{pmatrix}\n",
        "\t\t\t\t\tB_{00} & B_{01} \\\\\n",
        "\t\t\t\t\tB_{10} & B_{11}\n",
        "\t\t\t\t\\end{pmatrix} & A_{11} \t\\begin{pmatrix}\n",
        "\t\t\t\t\t\t\tB_{00} & B_{01} \\\\\n",
        "\t\t\t\t\t\t\tB_{10} & B_{11}\n",
        "\t\t\t\t\t\t\\end{pmatrix}\n",
        "\t\\end{pmatrix},\n",
        "\\end{equation}$$\n",
        "\n",
        "where $A_{jk}$ and $B_{lm}$ are the matrix elements of $A$ and $B$, respectively.\n",
        "\n",
        "Analogously, the basis vectors for the 2-qubit system are formed using the tensor product of basis vectors for a single qubit:\n",
        "$$\\begin{equation}\\begin{split}\n",
        "\t\\left|{00}\\right\\rangle &= \\begin{pmatrix}\n",
        "\t\t1 \\begin{pmatrix}\n",
        "\t\t\t1  \\\\\n",
        "\t\t\t0\n",
        "\t\t\\end{pmatrix} \\\\\n",
        "\t\t0 \\begin{pmatrix}\n",
        "\t\t\t1  \\\\\n",
        "\t\t\t0\n",
        "\t\t\\end{pmatrix}\n",
        "\t\\end{pmatrix} = \\begin{pmatrix} 1 \\\\ 0 \\\\ 0 \\\\0 \\end{pmatrix}~~~\\left|{01}\\right\\rangle = \\begin{pmatrix}\n",
        "\t1 \\begin{pmatrix}\n",
        "\t0 \\\\\n",
        "\t1\n",
        "\t\\end{pmatrix} \\\\\n",
        "\t0 \\begin{pmatrix}\n",
        "\t0  \\\\\n",
        "\t1\n",
        "\t\\end{pmatrix}\n",
        "\t\\end{pmatrix} = \\begin{pmatrix}0 \\\\ 1 \\\\ 0 \\\\ 0 \\end{pmatrix}\\end{split}\n",
        "\\end{equation}$$\n",
        "    \n",
        "$$\\begin{equation}\\begin{split}\\left|{10}\\right\\rangle = \\begin{pmatrix}\n",
        "\t0\\begin{pmatrix}\n",
        "\t1  \\\\\n",
        "\t0\n",
        "\t\\end{pmatrix} \\\\\n",
        "\t1\\begin{pmatrix}\n",
        "\t1 \\\\\n",
        "\t0\n",
        "\t\\end{pmatrix}\n",
        "\t\\end{pmatrix} = \\begin{pmatrix} 0 \\\\ 0 \\\\ 1 \\\\ 0 \\end{pmatrix}~~~ \t\\left|{11}\\right\\rangle = \\begin{pmatrix}\n",
        "\t0 \\begin{pmatrix}\n",
        "\t0  \\\\\n",
        "\t1\n",
        "\t\\end{pmatrix} \\\\\n",
        "\t1\\begin{pmatrix}\n",
        "\t0  \\\\\n",
        "\t1\n",
        "\t\\end{pmatrix}\n",
        "\t\\end{pmatrix} = \\begin{pmatrix} 0 \\\\ 0 \\\\ 0 \\\\1 \\end{pmatrix}\\end{split}\n",
        "\\end{equation}.$$\n",
        "\n",
        "Note we've introduced a shorthand for the tensor product of basis vectors, wherein $\\left|0\\right\\rangle \\otimes \\left|0\\right\\rangle$ is written as $\\left|00\\right\\rangle$. The state of an $n$-qubit system can be described using the $n$-fold tensor product of single-qubit basis vectors. Notice that the basis vectors for a 2-qubit system are 4-dimensional; in general, the basis vectors of an $n$-qubit system are $2^{n}$-dimensional, as noted earlier.\n",
        "\n",
        "### Basis vector ordering in Qiskit\n",
        "\n",
        "Within the physics community, the qubits of a multi-qubit systems are typically ordered with the first qubit on the left-most side of the tensor product and the last qubit on the right-most side. For instance, if the first qubit is in state $\\left|0\\right\\rangle$ and second is in state $\\left|1\\right\\rangle$, their joint state would be $\\left|01\\right\\rangle$. Qiskit uses a slightly different ordering of the qubits, in which the qubits are represented from the most significant bit (MSB) on the left to the least significant bit (LSB) on the right (little-endian). This is similar to bitstring representation on classical computers, and enables easy conversion from bitstrings to integers after measurements are performed. For the example just given, the joint state would be represented as $\\left|10\\right\\rangle$. Importantly, *this change in the representation of multi-qubit states affects the way multi-qubit gates are represented in Qiskit*, as discussed below.\n",
        "\n",
        "The representation used in Qiskit enumerates the basis vectors in increasing order of the integers they represent. For instance, the basis vectors for a 2-qubit system would be ordered as $\\left|00\\right\\rangle$, $\\left|01\\right\\rangle$, $\\left|10\\right\\rangle$, and $\\left|11\\right\\rangle$. Thinking of the basis vectors as bit strings, they encode the integers 0,1,2 and 3, respectively.\n",
        "\n",
        "\n",
        "### Controlled operations on qubits\n",
        "\n",
        "A common multi-qubit gate involves the application of a gate to one qubit, conditioned on the state of another qubit. For instance, we might want to flip the state of the second qubit when the first qubit is in $\\left|0\\right\\rangle$. Such gates are known as _controlled gates_. The standard multi-qubit gates consist of two-qubit gates and three-qubit gates. The two-qubit gates are:\n",
        "- controlled Pauli gates\n",
        "- controlled Hadamard gate\n",
        "- controlled rotation gates\n",
        "- controlled phase gate\n",
        "- controlled u3 gate\n",
        "- swap gate\n",
        "\n",
        "The three-qubit gates are:\n",
        "- Toffoli gate\n",
        "- Fredkin gate"
      ]
    },
    {
      "cell_type": "markdown",
      "metadata": {
        "id": "cUc71lg7kcO6"
      },
      "source": [
        "## Two-qubit gates <a name=\"two_gates\"/>\n",
        "\n",
        "Most of the two-qubit gates are of the controlled type (the SWAP gate being the exception). In general, a controlled two-qubit gate $C_{U}$ acts to apply the single-qubit unitary $U$ to the second qubit when the state of the first qubit is in $\\left|1\\right\\rangle$. Suppose $U$ has a matrix representation\n",
        "\n",
        "$$U = \\begin{pmatrix} u_{00} & u_{01} \\\\ u_{10} & u_{11}\\end{pmatrix}.$$\n",
        "\n",
        "We can work out the action of $C_{U}$ as follows. Recall that the basis vectors for a two-qubit system are ordered as $\\left|00\\right\\rangle, \\left|01\\right\\rangle, \\left|10\\right\\rangle, \\left|11\\right\\rangle$. Suppose the **control qubit** is **qubit 0** (which, according to Qiskit's convention, is one the _right-hand_ side of the tensor product). If the control qubit is in $\\left|1\\right\\rangle$, $U$ should be applied to the **target** (qubit 1, on the _left-hand_ side of the tensor product). Therefore, under the action of $C_{U}$, the basis vectors are transformed according to\n",
        "\n",
        "$$\\begin{align*}\n",
        "C_{U}: \\underset{\\text{qubit}~1}{\\left|0\\right\\rangle}\\otimes \\underset{\\text{qubit}~0}{\\left|0\\right\\rangle} &\\rightarrow \\underset{\\text{qubit}~1}{\\left|0\\right\\rangle}\\otimes \\underset{\\text{qubit}~0}{\\left|0\\right\\rangle}\\\\\n",
        "C_{U}: \\underset{\\text{qubit}~1}{\\left|0\\right\\rangle}\\otimes \\underset{\\text{qubit}~0}{\\left|1\\right\\rangle} &\\rightarrow \\underset{\\text{qubit}~1}{U\\left|0\\right\\rangle}\\otimes \\underset{\\text{qubit}~0}{\\left|1\\right\\rangle}\\\\\n",
        "C_{U}: \\underset{\\text{qubit}~1}{\\left|1\\right\\rangle}\\otimes \\underset{\\text{qubit}~0}{\\left|0\\right\\rangle} &\\rightarrow \\underset{\\text{qubit}~1}{\\left|1\\right\\rangle}\\otimes \\underset{\\text{qubit}~0}{\\left|0\\right\\rangle}\\\\\n",
        "C_{U}: \\underset{\\text{qubit}~1}{\\left|1\\right\\rangle}\\otimes \\underset{\\text{qubit}~0}{\\left|1\\right\\rangle} &\\rightarrow \\underset{\\text{qubit}~1}{U\\left|1\\right\\rangle}\\otimes \\underset{\\text{qubit}~0}{\\left|1\\right\\rangle}\\\\\n",
        "\\end{align*}.$$\n",
        "\n",
        "In matrix form, the action of $C_{U}$ is\n",
        "\n",
        "$$\\begin{equation}\n",
        "\tC_U = \\begin{pmatrix}\n",
        "\t1 & 0 & 0 & 0 \\\\\n",
        "\t0 & u_{00} & 0 & u_{01} \\\\\n",
        "\t0 & 0 & 1 & 0 \\\\\n",
        "\t0 & u_{10} &0 & u_{11}\n",
        "\t\t\\end{pmatrix}.\n",
        "\\end{equation}$$\n",
        "\n",
        "To work out these matrix elements, let\n",
        "\n",
        "$$C_{(jk), (lm)} = \\left(\\underset{\\text{qubit}~1}{\\left\\langle j \\right|} \\otimes \\underset{\\text{qubit}~0}{\\left\\langle k \\right|}\\right) C_{U} \\left(\\underset{\\text{qubit}~1}{\\left| l \\right\\rangle} \\otimes \\underset{\\text{qubit}~0}{\\left| m \\right\\rangle}\\right),$$\n",
        "\n",
        "compute the action of $C_{U}$ (given above), and compute the inner products.\n",
        "\n",
        "As shown in the examples below, this operation is implemented in Qiskit as `cU(q[0],q[1])`.\n",
        "\n",
        "\n",
        "If **qubit 1 is the control and qubit 0 is the target**, then the basis vectors are transformed according to\n",
        "$$\\begin{align*}\n",
        "C_{U}: \\underset{\\text{qubit}~1}{\\left|0\\right\\rangle}\\otimes \\underset{\\text{qubit}~0}{\\left|0\\right\\rangle} &\\rightarrow \\underset{\\text{qubit}~1}{\\left|0\\right\\rangle}\\otimes \\underset{\\text{qubit}~0}{\\left|0\\right\\rangle}\\\\\n",
        "C_{U}: \\underset{\\text{qubit}~1}{\\left|0\\right\\rangle}\\otimes \\underset{\\text{qubit}~0}{\\left|1\\right\\rangle} &\\rightarrow \\underset{\\text{qubit}~1}{\\left|0\\right\\rangle}\\otimes \\underset{\\text{qubit}~0}{\\left|1\\right\\rangle}\\\\\n",
        "C_{U}: \\underset{\\text{qubit}~1}{\\left|1\\right\\rangle}\\otimes \\underset{\\text{qubit}~0}{\\left|0\\right\\rangle} &\\rightarrow \\underset{\\text{qubit}~1}{\\left|1\\right\\rangle}\\otimes \\underset{\\text{qubit}~0}{U\\left|0\\right\\rangle}\\\\\n",
        "C_{U}: \\underset{\\text{qubit}~1}{\\left|1\\right\\rangle}\\otimes \\underset{\\text{qubit}~0}{\\left|1\\right\\rangle} &\\rightarrow \\underset{\\text{qubit}~1}{\\left|1\\right\\rangle}\\otimes \\underset{\\text{qubit}~0}{U\\left|1\\right\\rangle}\\\\\n",
        "\\end{align*},$$\n",
        "\n",
        "\n",
        "which implies the matrix form of $C_{U}$ is\n",
        "$$\\begin{equation}\n",
        "\tC_U = \\begin{pmatrix}\n",
        "\t1 & 0 & 0  & 0 \\\\\n",
        "\t0 & 1 & 0 & 0 \\\\\n",
        "\t0 & 0 & u_{00} & u_{01} \\\\\n",
        "\t0 & 0 & u_{10} & u_{11}\n",
        "\t\t\\end{pmatrix}.\n",
        "\\end{equation}$$"
      ]
    },
    {
      "cell_type": "code",
      "execution_count": null,
      "metadata": {
        "ExecuteTime": {
          "end_time": "2021-07-31T05:11:57.864527Z",
          "start_time": "2021-07-31T05:11:57.861603Z"
        },
        "id": "BqHu9Em3kcO6"
      },
      "outputs": [],
      "source": [
        "q = QuantumRegister(2)"
      ]
    },
    {
      "cell_type": "markdown",
      "metadata": {
        "id": "GfOYzt1CkcO6"
      },
      "source": [
        "### Controlled Pauli Gates\n",
        "\n",
        "#### Controlled-X (or, Controlled-NOT) gate\n",
        "The Controlled-NOT gate flips the `target` qubit when the control qubit is in the state $\\left|1\\right\\rangle$. If we take the MSB as the control qubit (e.g. `cx(q[1],q[0])`), then the matrix would look like\n",
        "\n",
        "$$\n",
        "C_X =\n",
        "\\begin{pmatrix}\n",
        "1 & 0 & 0 & 0\\\\\n",
        "0 & 1 & 0 & 0\\\\\n",
        "0 & 0 & 0 & 1\\\\\n",
        "0 & 0 & 1 & 0\n",
        "\\end{pmatrix}.\n",
        "$$\n",
        "\n",
        "However, when the LSB is the control qubit, (e.g. `cx(q[0],q[1])`), this gate is equivalent to the following matrix:\n",
        "\n",
        "$$\n",
        "C_X =\n",
        "\\begin{pmatrix}\n",
        "1 & 0 & 0 & 0\\\\\n",
        "0 & 0 & 0 & 1\\\\\n",
        "0 & 0 & 1 & 0\\\\\n",
        "0 & 1 & 0 & 0\n",
        "\\end{pmatrix}.\n",
        "$$\n",
        "\n"
      ]
    },
    {
      "cell_type": "code",
      "execution_count": null,
      "metadata": {
        "ExecuteTime": {
          "end_time": "2021-07-31T05:11:59.251955Z",
          "start_time": "2021-07-31T05:11:59.245837Z"
        },
        "colab": {
          "base_uri": "https://localhost:8080/",
          "height": 191
        },
        "id": "pB6dhOQnkcO7",
        "outputId": "b35fe3f9-61d7-41cf-eea9-3e59025a26b2"
      },
      "outputs": [
        {
          "output_type": "execute_result",
          "data": {
            "text/plain": [
              "<Figure size 221.914x200.667 with 1 Axes>"
            ],
            "image/png": "[encoded data removed]"
          },
          "metadata": {},
          "execution_count": 38
        }
      ],
      "source": [
        "qc = QuantumCircuit(q)\n",
        "qc.cx(q[0],q[1])\n",
        "qc.draw('mpl')"
      ]
    },
    {
      "cell_type": "code",
      "execution_count": null,
      "metadata": {
        "ExecuteTime": {
          "end_time": "2021-07-31T05:12:02.300793Z",
          "start_time": "2021-07-31T05:12:02.292637Z"
        },
        "colab": {
          "base_uri": "https://localhost:8080/"
        },
        "id": "hVpNVvlrkcO7",
        "outputId": "7eed79dc-310e-4227-f3df-a9b125737251"
      },
      "outputs": [
        {
          "output_type": "stream",
          "name": "stdout",
          "text": [
            "Operator([[1.+0.j, 0.+0.j, 0.+0.j, 0.+0.j],\n",
            "          [0.+0.j, 0.+0.j, 0.+0.j, 1.+0.j],\n",
            "          [0.+0.j, 0.+0.j, 1.+0.j, 0.+0.j],\n",
            "          [0.+0.j, 1.+0.j, 0.+0.j, 0.+0.j]],\n",
            "         input_dims=(2, 2), output_dims=(2, 2))\n"
          ]
        }
      ],
      "source": [
        "job = backend.run(transpile(qc, backend))\n",
        "job.result().get_unitary(qc, decimals=3)"
      ]
    },
    {
      "cell_type": "markdown",
      "metadata": {
        "id": "yTQ5xSDJkcO7"
      },
      "source": [
        "#### Controlled $Y$ gate\n",
        "\n",
        "Apply the $Y$ gate to the target qubit if the control qubit is the MSB\n",
        "\n",
        "$$\n",
        "C_Y =\n",
        "\\begin{pmatrix}\n",
        "1 & 0 & 0 & 0\\\\\n",
        "0 & 1 & 0 & 0\\\\\n",
        "0 & 0 & 0 & -i\\\\\n",
        "0 & 0 & i & 0\n",
        "\\end{pmatrix},\n",
        "$$\n",
        "\n",
        "or when the LSB is the control\n",
        "\n",
        "$$\n",
        "C_Y =\n",
        "\\begin{pmatrix}\n",
        "1 & 0 & 0 & 0\\\\\n",
        "0 & 0 & 0 & -i\\\\\n",
        "0 & 0 & 1 & 0\\\\\n",
        "0 & i & 0 & 0\n",
        "\\end{pmatrix}.\n",
        "$$"
      ]
    },
    {
      "cell_type": "code",
      "execution_count": null,
      "metadata": {
        "ExecuteTime": {
          "end_time": "2021-07-31T05:12:04.293988Z",
          "start_time": "2021-07-31T05:12:04.285941Z"
        },
        "colab": {
          "base_uri": "https://localhost:8080/",
          "height": 191
        },
        "id": "4uL7wNkTkcO7",
        "outputId": "a0f5e77a-de44-4420-e161-4fb8d1d59960"
      },
      "outputs": [
        {
          "output_type": "execute_result",
          "data": {
            "text/plain": [
              "<Figure size 221.914x200.667 with 1 Axes>"
            ],
            "image/png": "[encoded data removed]"
          },
          "metadata": {},
          "execution_count": 40
        }
      ],
      "source": [
        "qc = QuantumCircuit(q)\n",
        "qc.cy(q[0],q[1])\n",
        "qc.draw('mpl')"
      ]
    },
    {
      "cell_type": "code",
      "execution_count": null,
      "metadata": {
        "ExecuteTime": {
          "end_time": "2021-07-31T05:12:07.042556Z",
          "start_time": "2021-07-31T05:12:07.031367Z"
        },
        "colab": {
          "base_uri": "https://localhost:8080/"
        },
        "id": "E-ytyzAUkcO8",
        "outputId": "2dff2d49-9fde-40de-affa-bcd380da7cfd"
      },
      "outputs": [
        {
          "output_type": "stream",
          "name": "stdout",
          "text": [
            "Operator([[1.+0.j, 0.+0.j, 0.+0.j, 0.+0.j],\n",
            "          [0.-0.j, 0.-0.j, 0.-0.j, 0.-1.j],\n",
            "          [0.+0.j, 0.+0.j, 1.+0.j, 0.+0.j],\n",
            "          [0.+0.j, 0.+1.j, 0.+0.j, 0.+0.j]],\n",
            "         input_dims=(2, 2), output_dims=(2, 2))\n"
          ]
        }
      ],
      "source": [
        "job = backend.run(transpile(qc, backend))\n",
        "job.result().get_unitary(qc, decimals=3)"
      ]
    },
    {
      "cell_type": "markdown",
      "metadata": {
        "id": "mYSEzgLRkcO8"
      },
      "source": [
        "#### Controlled $Z$ (or, controlled Phase-Flip) gate\n",
        "\n",
        "Similarly, the controlled Z gate flips the phase of the target qubit if the control qubit is $\\left|1\\right\\rangle$. The matrix looks the same regardless of whether the MSB or LSB is the control qubit:\n",
        "\n",
        "$$\n",
        "C_Z =\n",
        "\\begin{pmatrix}\n",
        "1 & 0 & 0 & 0\\\\\n",
        "0 & 1 & 0 & 0\\\\\n",
        "0 & 0 & 1 & 0\\\\\n",
        "0 & 0 & 0 & -1\n",
        "\\end{pmatrix}\n",
        "$$\n"
      ]
    },
    {
      "cell_type": "code",
      "execution_count": null,
      "metadata": {
        "ExecuteTime": {
          "end_time": "2021-07-31T05:12:08.397786Z",
          "start_time": "2021-07-31T05:12:08.392065Z"
        },
        "colab": {
          "base_uri": "https://localhost:8080/",
          "height": 191
        },
        "id": "h8jf1Or4kcO9",
        "outputId": "767a864c-ff2f-48af-e46a-8c04a90aab2e"
      },
      "outputs": [
        {
          "output_type": "execute_result",
          "data": {
            "text/plain": [
              "<Figure size 221.914x200.667 with 1 Axes>"
            ],
            "image/png": "[encoded data removed]"
          },
          "metadata": {},
          "execution_count": 42
        }
      ],
      "source": [
        "qc = QuantumCircuit(q)\n",
        "qc.cz(q[0],q[1])\n",
        "qc.draw('mpl')"
      ]
    },
    {
      "cell_type": "code",
      "execution_count": null,
      "metadata": {
        "ExecuteTime": {
          "end_time": "2021-07-31T05:12:10.259460Z",
          "start_time": "2021-07-31T05:12:10.246478Z"
        },
        "colab": {
          "base_uri": "https://localhost:8080/"
        },
        "id": "1rL0Rx39kcO9",
        "outputId": "dcac01a4-698a-4713-83ec-01d58c626a59"
      },
      "outputs": [
        {
          "output_type": "stream",
          "name": "stdout",
          "text": [
            "Operator([[ 1.+0.j,  0.+0.j,  0.+0.j,  0.+0.j],\n",
            "          [ 0.+0.j,  1.+0.j,  0.+0.j,  0.+0.j],\n",
            "          [ 0.+0.j,  0.+0.j,  1.+0.j,  0.+0.j],\n",
            "          [-0.+0.j, -0.+0.j, -0.+0.j, -1.+0.j]],\n",
            "         input_dims=(2, 2), output_dims=(2, 2))\n"
          ]
        }
      ],
      "source": [
        "job = backend.run(transpile(qc, backend))\n",
        "job.result().get_unitary(qc, decimals=3)"
      ]
    },
    {
      "cell_type": "markdown",
      "metadata": {
        "id": "txuVt6r9kcO9"
      },
      "source": [
        "### Controlled Hadamard gate\n",
        "\n",
        "Apply $H$ gate to the target qubit if the control qubit is $\\left|1\\right\\rangle$. Below is the case where the control is the LSB qubit.\n",
        "\n",
        "$$\n",
        "C_H =\n",
        "\\begin{pmatrix}\n",
        "1 & 0 & 0 & 0\\\\\n",
        "0 & \\frac{1}{\\sqrt{2}} & 0 & \\frac{1}{\\sqrt{2}}\\\\\n",
        "0 & 0 & 1 & 0\\\\\n",
        "0 & \\frac{1}{\\sqrt{2}}  & 0& -\\frac{1}{\\sqrt{2}}\n",
        "\\end{pmatrix}\n",
        "$$"
      ]
    },
    {
      "cell_type": "code",
      "execution_count": null,
      "metadata": {
        "ExecuteTime": {
          "end_time": "2021-07-31T05:12:11.524751Z",
          "start_time": "2021-07-31T05:12:11.518946Z"
        },
        "colab": {
          "base_uri": "https://localhost:8080/",
          "height": 191
        },
        "id": "aUpZuqlNkcO9",
        "outputId": "da92ab45-5ce9-4e0d-8f1c-aa5ea086e281"
      },
      "outputs": [
        {
          "output_type": "execute_result",
          "data": {
            "text/plain": [
              "<Figure size 221.914x200.667 with 1 Axes>"
            ],
            "image/png": "[encoded data removed]"
          },
          "metadata": {},
          "execution_count": 44
        }
      ],
      "source": [
        "qc = QuantumCircuit(q)\n",
        "qc.ch(q[0],q[1])\n",
        "qc.draw('mpl')"
      ]
    },
    {
      "cell_type": "code",
      "execution_count": null,
      "metadata": {
        "ExecuteTime": {
          "end_time": "2021-07-31T05:12:13.607426Z",
          "start_time": "2021-07-31T05:12:13.594156Z"
        },
        "colab": {
          "base_uri": "https://localhost:8080/"
        },
        "id": "Pz00ny81kcO-",
        "outputId": "be2fc0a6-0a97-40e9-8095-16b3f03ff337"
      },
      "outputs": [
        {
          "output_type": "stream",
          "name": "stdout",
          "text": [
            "Operator([[ 1.   +0.j,  0.   +0.j, -0.   -0.j,  0.   +0.j],\n",
            "          [ 0.   +0.j,  0.707+0.j,  0.   +0.j,  0.707+0.j],\n",
            "          [ 0.   +0.j,  0.   +0.j,  1.   +0.j,  0.   +0.j],\n",
            "          [ 0.   +0.j,  0.707+0.j,  0.   +0.j, -0.707+0.j]],\n",
            "         input_dims=(2, 2), output_dims=(2, 2))\n"
          ]
        }
      ],
      "source": [
        "job = backend.run(transpile(qc, backend))\n",
        "job.result().get_unitary(qc, decimals=3)"
      ]
    },
    {
      "cell_type": "markdown",
      "metadata": {
        "id": "WJwAG6BNkcO-"
      },
      "source": [
        "### Controlled rotation gates\n",
        "\n",
        "#### Controlled rotation around Z-axis\n",
        "\n",
        "Perform rotation around Z-axis on the target qubit if the control qubit (here LSB) is $\\left|1\\right\\rangle$.\n",
        "\n",
        "$$\n",
        "C_{Rz}(\\lambda) =\n",
        "\\begin{pmatrix}\n",
        "1 & 0 & 0 & 0\\\\\n",
        "0 & e^{-i\\lambda/2} & 0 & 0\\\\\n",
        "0 & 0 & 1 & 0\\\\\n",
        "0 & 0 & 0 & e^{i\\lambda/2}\n",
        "\\end{pmatrix}\n",
        "$$"
      ]
    },
    {
      "cell_type": "code",
      "execution_count": null,
      "metadata": {
        "ExecuteTime": {
          "end_time": "2021-07-31T05:12:14.970661Z",
          "start_time": "2021-07-31T05:12:14.961038Z"
        },
        "colab": {
          "base_uri": "https://localhost:8080/",
          "height": 191
        },
        "id": "2JhNuzqckcO_",
        "outputId": "04f2184e-3b21-46c3-bfc2-ea2ef3c181de"
      },
      "outputs": [
        {
          "output_type": "execute_result",
          "data": {
            "text/plain": [
              "<Figure size 221.914x200.667 with 1 Axes>"
            ],
            "image/png": "[encoded data removed]"
          },
          "metadata": {},
          "execution_count": 46
        }
      ],
      "source": [
        "qc = QuantumCircuit(q)\n",
        "qc.crz(pi/2,q[0],q[1])\n",
        "qc.draw('mpl')"
      ]
    },
    {
      "cell_type": "code",
      "execution_count": null,
      "metadata": {
        "ExecuteTime": {
          "end_time": "2021-07-31T05:12:17.186696Z",
          "start_time": "2021-07-31T05:12:17.171628Z"
        },
        "colab": {
          "base_uri": "https://localhost:8080/"
        },
        "id": "LO26NrYzkcO_",
        "outputId": "e4f224a3-cf77-486d-ce4f-6f22faecc6bf"
      },
      "outputs": [
        {
          "output_type": "stream",
          "name": "stdout",
          "text": [
            "Operator([[1.   +0.j   , 0.   +0.j   , 0.   +0.j   , 0.   +0.j   ],\n",
            "          [0.   +0.j   , 0.707-0.707j, 0.   +0.j   , 0.   +0.j   ],\n",
            "          [0.   +0.j   , 0.   +0.j   , 1.   +0.j   , 0.   +0.j   ],\n",
            "          [0.   +0.j   , 0.   +0.j   , 0.   +0.j   , 0.707+0.707j]],\n",
            "         input_dims=(2, 2), output_dims=(2, 2))\n"
          ]
        }
      ],
      "source": [
        "job = backend.run(transpile(qc, backend))\n",
        "job.result().get_unitary(qc, decimals=3)"
      ]
    },
    {
      "cell_type": "markdown",
      "metadata": {
        "id": "POJX1xupkcPA"
      },
      "source": [
        "### Controlled phase rotation\n",
        "\n",
        "Perform a phase rotation if both qubits are in the $\\left|11\\right\\rangle$ state. The matrix looks the same regardless of whether the MSB or LSB is the control qubit.\n",
        "\n",
        "$$\n",
        "C_{p}(\\lambda) =\n",
        "\\begin{pmatrix}\n",
        "1 & 0 & 0 & 0\\\\\n",
        "0 & 1 & 0 & 0\\\\\n",
        "0 & 0 & 1 & 0\\\\\n",
        "0 & 0 & 0 & e^{i\\lambda}\n",
        "\\end{pmatrix}\n",
        "$$"
      ]
    },
    {
      "cell_type": "code",
      "execution_count": null,
      "metadata": {
        "ExecuteTime": {
          "end_time": "2021-07-31T05:12:36.826264Z",
          "start_time": "2021-07-31T05:12:36.820988Z"
        },
        "colab": {
          "base_uri": "https://localhost:8080/",
          "height": 191
        },
        "id": "-5dC1pADkcPA",
        "outputId": "69aaaf1e-2858-4840-d294-6fdd2d8d1f0d"
      },
      "outputs": [
        {
          "output_type": "execute_result",
          "data": {
            "text/plain": [
              "<Figure size 305.525x200.667 with 1 Axes>"
            ],
            "image/png": "[encoded data removed]"
          },
          "metadata": {},
          "execution_count": 48
        }
      ],
      "source": [
        "qc = QuantumCircuit(q)\n",
        "qc.cp(pi/2,q[0], q[1])\n",
        "qc.draw('mpl')"
      ]
    },
    {
      "cell_type": "code",
      "execution_count": null,
      "metadata": {
        "ExecuteTime": {
          "end_time": "2021-07-31T05:12:39.234989Z",
          "start_time": "2021-07-31T05:12:39.222992Z"
        },
        "colab": {
          "base_uri": "https://localhost:8080/"
        },
        "id": "gupUU-xrkcPB",
        "outputId": "ea302eeb-8432-4d29-e770-46dd465bc6b6"
      },
      "outputs": [
        {
          "output_type": "stream",
          "name": "stdout",
          "text": [
            "Operator([[1.+0.j, 0.+0.j, 0.+0.j, 0.+0.j],\n",
            "          [0.+0.j, 1.+0.j, 0.+0.j, 0.+0.j],\n",
            "          [0.+0.j, 0.+0.j, 1.+0.j, 0.+0.j],\n",
            "          [0.+0.j, 0.+0.j, 0.+0.j, 0.+1.j]],\n",
            "         input_dims=(2, 2), output_dims=(2, 2))\n"
          ]
        }
      ],
      "source": [
        "job = backend.run(transpile(qc, backend))\n",
        "job.result().get_unitary(qc, decimals=3)"
      ]
    },
    {
      "cell_type": "markdown",
      "metadata": {
        "id": "j49FIVLGkcPB"
      },
      "source": [
        "### Controlled $u$ rotation\n",
        "\n",
        "Perform controlled-$u$ rotation on the target qubit if the control qubit (here LSB) is $\\left|1\\right\\rangle$.\n",
        "\n",
        "$$\n",
        "C_{u}(\\theta, \\phi, \\lambda) \\equiv\n",
        "\\begin{pmatrix}\n",
        "1 & 0 & 0 & 0\\\\\n",
        "0 & e^{-i(\\phi+\\lambda)/2}\\cos(\\theta/2) & 0 & -e^{-i(\\phi-\\lambda)/2}\\sin(\\theta/2)\\\\\n",
        "0 & 0 & 1 & 0\\\\\n",
        "0 & e^{i(\\phi-\\lambda)/2}\\sin(\\theta/2) & 0 & e^{i(\\phi+\\lambda)/2}\\cos(\\theta/2)\n",
        "\\end{pmatrix}.\n",
        "$$"
      ]
    },
    {
      "cell_type": "code",
      "execution_count": null,
      "metadata": {
        "ExecuteTime": {
          "end_time": "2021-07-31T05:13:19.155213Z",
          "start_time": "2021-07-31T05:13:19.148466Z"
        },
        "colab": {
          "base_uri": "https://localhost:8080/",
          "height": 191
        },
        "id": "ZEfZO974kcPB",
        "outputId": "ac184415-072c-4ee8-ed7f-4c90247b5596"
      },
      "outputs": [
        {
          "output_type": "execute_result",
          "data": {
            "text/plain": [
              "<Figure size 305.525x200.667 with 1 Axes>"
            ],
            "image/png": "[encoded data removed]"
          },
          "metadata": {},
          "execution_count": 50
        }
      ],
      "source": [
        "qc = QuantumCircuit(q)\n",
        "qc.cu(pi/2, pi/2, pi/2, 0, q[0], q[1])\n",
        "qc.draw('mpl')"
      ]
    },
    {
      "cell_type": "code",
      "execution_count": null,
      "metadata": {
        "ExecuteTime": {
          "end_time": "2021-07-31T05:13:24.393740Z",
          "start_time": "2021-07-31T05:13:24.378958Z"
        },
        "colab": {
          "base_uri": "https://localhost:8080/"
        },
        "id": "DSaHz6L6kcPC",
        "outputId": "46ce0be8-e7fc-4fd3-aa1b-a027359db111"
      },
      "outputs": [
        {
          "output_type": "stream",
          "name": "stdout",
          "text": [
            "Operator([[ 1.   +0.j   ,  0.   +0.j   ,  0.   +0.j   ,  0.   +0.j   ],\n",
            "          [ 0.   +0.j   ,  0.707+0.j   ,  0.   +0.j   , -0.   -0.707j],\n",
            "          [ 0.   +0.j   ,  0.   +0.j   ,  1.   +0.j   ,  0.   +0.j   ],\n",
            "          [ 0.   +0.j   ,  0.   +0.707j,  0.   +0.j   , -0.707+0.j   ]],\n",
            "         input_dims=(2, 2), output_dims=(2, 2))\n"
          ]
        }
      ],
      "source": [
        "job = backend.run(transpile(qc, backend))\n",
        "job.result().get_unitary(qc, decimals=3)"
      ]
    },
    {
      "cell_type": "markdown",
      "metadata": {
        "id": "8AWVDhcokcPC"
      },
      "source": [
        "### SWAP gate\n",
        "\n",
        "The SWAP gate exchanges the two qubits. It transforms the basis vectors as\n",
        "\n",
        "$$\\left|00\\right\\rangle \\rightarrow \\left|00\\right\\rangle~,~\\left|01\\right\\rangle \\rightarrow \\left|10\\right\\rangle~,~\\left|10\\right\\rangle \\rightarrow \\left|01\\right\\rangle~,~\\left|11\\right\\rangle \\rightarrow \\left|11\\right\\rangle,$$\n",
        "\n",
        "which gives a matrix representation of the form\n",
        "\n",
        "$$\n",
        "\\mathrm{SWAP} =\n",
        "\\begin{pmatrix}\n",
        "1 & 0 & 0 & 0\\\\\n",
        "0 & 0 & 1 & 0\\\\\n",
        "0 & 1 & 0 & 0\\\\\n",
        "0 & 0 & 0 & 1\n",
        "\\end{pmatrix}.\n",
        "$$"
      ]
    },
    {
      "cell_type": "code",
      "execution_count": null,
      "metadata": {
        "ExecuteTime": {
          "end_time": "2021-07-31T05:13:26.189896Z",
          "start_time": "2021-07-31T05:13:26.184311Z"
        },
        "colab": {
          "base_uri": "https://localhost:8080/",
          "height": 191
        },
        "id": "bYNDH2rukcPC",
        "outputId": "d0ab776a-f544-4cfe-fd2a-978aa4546f01"
      },
      "outputs": [
        {
          "output_type": "execute_result",
          "data": {
            "text/plain": [
              "<Figure size 221.914x200.667 with 1 Axes>"
            ],
            "image/png": "[encoded data removed]"
          },
          "metadata": {},
          "execution_count": 52
        }
      ],
      "source": [
        "qc = QuantumCircuit(q)\n",
        "qc.swap(q[0], q[1])\n",
        "qc.draw('mpl')"
      ]
    },
    {
      "cell_type": "code",
      "execution_count": null,
      "metadata": {
        "ExecuteTime": {
          "end_time": "2021-07-31T05:13:28.555864Z",
          "start_time": "2021-07-31T05:13:28.545777Z"
        },
        "colab": {
          "base_uri": "https://localhost:8080/"
        },
        "id": "h9t55javkcPC",
        "outputId": "12b00f67-4a18-48b5-d22e-87d1950cf3cc"
      },
      "outputs": [
        {
          "output_type": "stream",
          "name": "stdout",
          "text": [
            "Operator([[1.+0.j, 0.+0.j, 0.+0.j, 0.+0.j],\n",
            "          [0.+0.j, 0.+0.j, 1.+0.j, 0.+0.j],\n",
            "          [0.+0.j, 1.+0.j, 0.+0.j, 0.+0.j],\n",
            "          [0.+0.j, 0.+0.j, 0.+0.j, 1.+0.j]],\n",
            "         input_dims=(2, 2), output_dims=(2, 2))\n"
          ]
        }
      ],
      "source": [
        "job = backend.run(transpile(qc, backend))\n",
        "job.result().get_unitary(qc, decimals=3)"
      ]
    },
    {
      "cell_type": "markdown",
      "metadata": {
        "id": "nM6nUt-xkcPD"
      },
      "source": [
        "## Three-qubit gates <a name=\"three_gates\"/>\n",
        "\n",
        "\n",
        "There are two commonly-used three-qubit gates. For three qubits, the basis vectors are ordered as\n",
        "\n",
        "$$\\left|000\\right\\rangle, \\left|001\\right\\rangle, \\left|010\\right\\rangle, \\left|011\\right\\rangle, \\left|100\\right\\rangle, \\left|101\\right\\rangle, \\left|110\\right\\rangle, \\left|111\\right\\rangle,$$\n",
        "\n",
        "which, as bitstrings, represent the integers $0,1,2,\\cdots, 7$. Again, Qiskit uses a representation in which the first qubit is on the right-most side of the tensor product and the third qubit is on the left-most side:\n",
        "\n",
        "$$\\left|abc\\right\\rangle : \\underset{\\text{qubit 2}}{\\left|a\\right\\rangle}\\otimes \\underset{\\text{qubit 1}}{\\left|b\\right\\rangle}\\otimes \\underset{\\text{qubit 0}}{\\left|c\\right\\rangle}.$$"
      ]
    },
    {
      "cell_type": "markdown",
      "metadata": {
        "id": "sEvQMO_BkcPD"
      },
      "source": [
        "### Toffoli gate ($ccx$ gate)\n",
        "\n",
        "The [Toffoli gate](https://en.wikipedia.org/wiki/Quantum_logic_gate#Toffoli_(CCNOT)_gate) flips the third qubit if the first two qubits (LSB) are both $\\left|1\\right\\rangle$:\n",
        "\n",
        "$$\\left|abc\\right\\rangle \\rightarrow \\left|bc\\oplus a\\right\\rangle \\otimes \\left|b\\right\\rangle \\otimes \\left|c\\right\\rangle.$$\n",
        "\n",
        "In matrix form, the Toffoli gate is\n",
        "$$\n",
        "C_{CX} =\n",
        "\\begin{pmatrix}\n",
        "1 & 0 & 0 & 0 & 0 & 0 & 0 & 0\\\\\n",
        "0 & 1 & 0 & 0 & 0 & 0 & 0 & 0\\\\\n",
        "0 & 0 & 1 & 0 & 0 & 0 & 0 & 0\\\\\n",
        "0 & 0 & 0 & 0 & 0 & 0 & 0 & 1\\\\\n",
        "0 & 0 & 0 & 0 & 1 & 0 & 0 & 0\\\\\n",
        "0 & 0 & 0 & 0 & 0 & 1 & 0 & 0\\\\\n",
        "0 & 0 & 0 & 0 & 0 & 0 & 1 & 0\\\\\n",
        "0 & 0 & 0 & 1 & 0 & 0 & 0 & 0\n",
        "\\end{pmatrix}.\n",
        "$$"
      ]
    },
    {
      "cell_type": "code",
      "execution_count": null,
      "metadata": {
        "ExecuteTime": {
          "end_time": "2021-07-31T05:13:31.317251Z",
          "start_time": "2021-07-31T05:13:31.314100Z"
        },
        "id": "2XjPkjBukcPD"
      },
      "outputs": [],
      "source": [
        "q = QuantumRegister(3)"
      ]
    },
    {
      "cell_type": "code",
      "execution_count": null,
      "metadata": {
        "ExecuteTime": {
          "end_time": "2021-07-31T05:13:31.638567Z",
          "start_time": "2021-07-31T05:13:31.633001Z"
        },
        "colab": {
          "base_uri": "https://localhost:8080/",
          "height": 255
        },
        "id": "MCSi0MslkcPE",
        "outputId": "d2dc2da3-fc64-440e-ab41-d8e5766175a3"
      },
      "outputs": [
        {
          "output_type": "execute_result",
          "data": {
            "text/plain": [
              "<Figure size 240.548x284.278 with 1 Axes>"
            ],
            "image/png": "[encoded data removed]"
          },
          "metadata": {},
          "execution_count": 55
        }
      ],
      "source": [
        "qc = QuantumCircuit(q)\n",
        "qc.ccx(q[0], q[1], q[2])\n",
        "qc.draw('mpl')"
      ]
    },
    {
      "cell_type": "code",
      "execution_count": null,
      "metadata": {
        "ExecuteTime": {
          "end_time": "2021-07-31T05:13:33.704467Z",
          "start_time": "2021-07-31T05:13:33.686210Z"
        },
        "colab": {
          "base_uri": "https://localhost:8080/"
        },
        "id": "qqpIv3gekcPE",
        "outputId": "0eafca1e-5d30-4378-bc91-3ccd1a4b2674"
      },
      "outputs": [
        {
          "output_type": "stream",
          "name": "stdout",
          "text": [
            "Operator([[1.+0.j, 0.+0.j, 0.+0.j, 0.+0.j, 0.+0.j, 0.+0.j, 0.+0.j, 0.+0.j],\n",
            "          [0.+0.j, 1.+0.j, 0.+0.j, 0.+0.j, 0.+0.j, 0.+0.j, 0.+0.j, 0.+0.j],\n",
            "          [0.+0.j, 0.+0.j, 1.+0.j, 0.+0.j, 0.+0.j, 0.+0.j, 0.+0.j, 0.+0.j],\n",
            "          [0.+0.j, 0.+0.j, 0.+0.j, 0.+0.j, 0.+0.j, 0.+0.j, 0.+0.j, 1.+0.j],\n",
            "          [0.+0.j, 0.+0.j, 0.+0.j, 0.+0.j, 1.+0.j, 0.+0.j, 0.+0.j, 0.+0.j],\n",
            "          [0.+0.j, 0.+0.j, 0.+0.j, 0.+0.j, 0.+0.j, 1.+0.j, 0.+0.j, 0.+0.j],\n",
            "          [0.+0.j, 0.+0.j, 0.+0.j, 0.+0.j, 0.+0.j, 0.+0.j, 1.+0.j, 0.+0.j],\n",
            "          [0.+0.j, 0.+0.j, 0.+0.j, 1.+0.j, 0.+0.j, 0.+0.j, 0.+0.j, 0.+0.j]],\n",
            "         input_dims=(2, 2, 2), output_dims=(2, 2, 2))\n"
          ]
        }
      ],
      "source": [
        "job = backend.run(transpile(qc, backend))\n",
        "job.result().get_unitary(qc, decimals=3)"
      ]
    },
    {
      "cell_type": "markdown",
      "metadata": {
        "id": "Scbpb0H6kcPE"
      },
      "source": [
        "### Controlled swap gate (Fredkin Gate)\n",
        "\n",
        "The [Fredkin gate](https://en.wikipedia.org/wiki/Quantum_logic_gate#Fredkin_(CSWAP)_gate), or the *controlled swap gate*, exchanges the second and third qubits if the first qubit (LSB) is $\\left|1\\right\\rangle$:\n",
        "\n",
        "$$ \\left|abc\\right\\rangle \\rightarrow \\begin{cases} \\left|bac\\right\\rangle~~\\text{if}~c=1 \\cr \\left|abc\\right\\rangle~~\\text{if}~c=0 \\end{cases}.$$\n",
        "\n",
        "In matrix form, the Fredkin gate is\n",
        "\n",
        "$$\n",
        "C_{\\mathrm{SWAP}} =\n",
        "\\begin{pmatrix}\n",
        "1 & 0 & 0 & 0 & 0 & 0 & 0 & 0\\\\\n",
        "0 & 1 & 0 & 0 & 0 & 0 & 0 & 0\\\\\n",
        "0 & 0 & 1 & 0 & 0 & 0 & 0 & 0\\\\\n",
        "0 & 0 & 0 & 0 & 0 & 1 & 0 & 0\\\\\n",
        "0 & 0 & 0 & 0 & 1 & 0 & 0 & 0\\\\\n",
        "0 & 0 & 0 & 1 & 0 & 0 & 0 & 0\\\\\n",
        "0 & 0 & 0 & 0 & 0 & 0 & 1 & 0\\\\\n",
        "0 & 0 & 0 & 0 & 0 & 0 & 0 & 1\n",
        "\\end{pmatrix}.\n",
        "$$"
      ]
    },
    {
      "cell_type": "code",
      "execution_count": null,
      "metadata": {
        "ExecuteTime": {
          "end_time": "2021-07-31T05:13:35.557144Z",
          "start_time": "2021-07-31T05:13:35.551515Z"
        },
        "colab": {
          "base_uri": "https://localhost:8080/",
          "height": 255
        },
        "id": "_fzMz418kcPF",
        "outputId": "584fee88-87b0-4f3d-d866-2f12c197268a"
      },
      "outputs": [
        {
          "output_type": "execute_result",
          "data": {
            "text/plain": [
              "<Figure size 240.548x284.278 with 1 Axes>"
            ],
            "image/png": "[encoded data removed]"
          },
          "metadata": {},
          "execution_count": 57
        }
      ],
      "source": [
        "qc = QuantumCircuit(q)\n",
        "qc.cswap(q[0], q[1], q[2])\n",
        "qc.draw('mpl')"
      ]
    },
    {
      "cell_type": "code",
      "execution_count": null,
      "metadata": {
        "ExecuteTime": {
          "end_time": "2021-07-31T05:13:38.233786Z",
          "start_time": "2021-07-31T05:13:38.215070Z"
        },
        "colab": {
          "base_uri": "https://localhost:8080/"
        },
        "id": "pgWeWQp-kcPF",
        "outputId": "f488d839-4740-4667-8d86-48bcee09590d"
      },
      "outputs": [
        {
          "output_type": "stream",
          "name": "stdout",
          "text": [
            "Operator([[1.+0.j, 0.+0.j, 0.+0.j, 0.+0.j, 0.+0.j, 0.+0.j, 0.+0.j, 0.+0.j],\n",
            "          [0.+0.j, 1.+0.j, 0.+0.j, 0.+0.j, 0.+0.j, 0.+0.j, 0.+0.j, 0.+0.j],\n",
            "          [0.+0.j, 0.+0.j, 1.+0.j, 0.+0.j, 0.+0.j, 0.+0.j, 0.+0.j, 0.+0.j],\n",
            "          [0.+0.j, 0.+0.j, 0.+0.j, 0.+0.j, 0.+0.j, 1.+0.j, 0.+0.j, 0.+0.j],\n",
            "          [0.+0.j, 0.+0.j, 0.+0.j, 0.+0.j, 1.+0.j, 0.+0.j, 0.+0.j, 0.+0.j],\n",
            "          [0.+0.j, 0.+0.j, 0.+0.j, 1.+0.j, 0.+0.j, 0.+0.j, 0.+0.j, 0.+0.j],\n",
            "          [0.+0.j, 0.+0.j, 0.+0.j, 0.+0.j, 0.+0.j, 0.+0.j, 1.+0.j, 0.+0.j],\n",
            "          [0.+0.j, 0.+0.j, 0.+0.j, 0.+0.j, 0.+0.j, 0.+0.j, 0.+0.j, 1.+0.j]],\n",
            "         input_dims=(2, 2, 2), output_dims=(2, 2, 2))\n"
          ]
        }
      ],
      "source": [
        "job = backend.run(transpile(qc, backend))\n",
        "job.result().get_unitary(qc, decimals=3)"
      ]
    },
    {
      "cell_type": "markdown",
      "metadata": {
        "id": "LQQdZQu1kcPG"
      },
      "source": [
        "## Non-unitary operations <a name=\"non_unitary\"/>\n",
        "\n",
        "Now that we have gone through all the unitary operations in quantum circuits, we also have access to non-unitary operations. These include measurements, reset of qubits, and classical conditional operations."
      ]
    },
    {
      "cell_type": "code",
      "execution_count": null,
      "metadata": {
        "ExecuteTime": {
          "end_time": "2021-07-31T05:13:39.580221Z",
          "start_time": "2021-07-31T05:13:39.576248Z"
        },
        "id": "3gVwwe_kkcPG"
      },
      "outputs": [],
      "source": [
        "q = QuantumRegister(1)\n",
        "c = ClassicalRegister(1)"
      ]
    },
    {
      "cell_type": "markdown",
      "metadata": {
        "id": "7u8dDeAWkcPG"
      },
      "source": [
        "### Measurements\n",
        "\n",
        "We don't have access to all the information when we make a measurement in a quantum computer. The quantum state is projected onto the standard basis. Below are two examples showing a circuit that is prepared in a basis state and the quantum computer prepared in a superposition state."
      ]
    },
    {
      "cell_type": "code",
      "execution_count": null,
      "metadata": {
        "ExecuteTime": {
          "end_time": "2021-07-31T05:13:40.203535Z",
          "start_time": "2021-07-31T05:13:40.197117Z"
        },
        "colab": {
          "base_uri": "https://localhost:8080/",
          "height": 191
        },
        "id": "oS6n761okcPH",
        "outputId": "6c45c5ee-9c54-446c-958c-a27e84123e04"
      },
      "outputs": [
        {
          "output_type": "execute_result",
          "data": {
            "text/plain": [
              "<Figure size 221.914x200.667 with 1 Axes>"
            ],
            "image/png": "[encoded data removed]"
          },
          "metadata": {},
          "execution_count": 60
        }
      ],
      "source": [
        "qc = QuantumCircuit(q, c)\n",
        "qc.measure(q, c)\n",
        "qc.draw('mpl')"
      ]
    },
    {
      "cell_type": "code",
      "execution_count": null,
      "metadata": {
        "ExecuteTime": {
          "end_time": "2021-07-31T05:13:47.891765Z",
          "start_time": "2021-07-31T05:13:47.879060Z"
        },
        "colab": {
          "base_uri": "https://localhost:8080/",
          "height": 386
        },
        "id": "AEX1wUyakcPH",
        "outputId": "b94803b8-7547-4c0d-e39c-f58c779c5de4"
      },
      "outputs": [
        {
          "output_type": "stream",
          "name": "stderr",
          "text": [
            "WARNING:qiskit_aer.backends.aerbackend:Simulation failed and returned the following error message:\n",
            "ERROR:  [Experiment 0] Circuit circuit-213 contains invalid instructions {\"instructions\": {save_unitary}} for \"statevector\" method.Circuit circuit-213 contains invalid parameters  for \"statevector\" method.\n"
          ]
        },
        {
          "output_type": "error",
          "ename": "QiskitError",
          "evalue": "'Data for experiment \"circuit-213\" could not be found.'",
          "traceback": [
            "\u001b[0;31m---------------------------------------------------------------------------\u001b[0m",
            "\u001b[0;31mQiskitError\u001b[0m                               Traceback (most recent call last)",
            "\u001b[0;32m<ipython-input-61-7902f8f95c80>\u001b[0m in \u001b[0;36m<cell line: 3>\u001b[0;34m()\u001b[0m\n\u001b[1;32m      1\u001b[0m \u001b[0;31m#backend = BasicAer.get_backend('qasm_simulator')\u001b[0m\u001b[0;34m\u001b[0m\u001b[0;34m\u001b[0m\u001b[0m\n\u001b[1;32m      2\u001b[0m \u001b[0mjob\u001b[0m \u001b[0;34m=\u001b[0m \u001b[0mbackend\u001b[0m\u001b[0;34m.\u001b[0m\u001b[0mrun\u001b[0m\u001b[0;34m(\u001b[0m\u001b[0mqc\u001b[0m\u001b[0;34m)\u001b[0m\u001b[0;34m\u001b[0m\u001b[0;34m\u001b[0m\u001b[0m\n\u001b[0;32m----> 3\u001b[0;31m \u001b[0mjob\u001b[0m\u001b[0;34m.\u001b[0m\u001b[0mresult\u001b[0m\u001b[0;34m(\u001b[0m\u001b[0;34m)\u001b[0m\u001b[0;34m.\u001b[0m\u001b[0mget_counts\u001b[0m\u001b[0;34m(\u001b[0m\u001b[0mqc\u001b[0m\u001b[0;34m)\u001b[0m\u001b[0;34m\u001b[0m\u001b[0;34m\u001b[0m\u001b[0m\n\u001b[0m",
            "\u001b[0;32m/usr/local/lib/python3.10/dist-packages/qiskit/result/result.py\u001b[0m in \u001b[0;36mget_counts\u001b[0;34m(self, experiment)\u001b[0m\n\u001b[1;32m    267\u001b[0m         \u001b[0mdict_list\u001b[0m \u001b[0;34m=\u001b[0m \u001b[0;34m[\u001b[0m\u001b[0;34m]\u001b[0m\u001b[0;34m\u001b[0m\u001b[0;34m\u001b[0m\u001b[0m\n\u001b[1;32m    268\u001b[0m         \u001b[0;32mfor\u001b[0m \u001b[0mkey\u001b[0m \u001b[0;32min\u001b[0m \u001b[0mexp_keys\u001b[0m\u001b[0;34m:\u001b[0m\u001b[0;34m\u001b[0m\u001b[0;34m\u001b[0m\u001b[0m\n\u001b[0;32m--> 269\u001b[0;31m             \u001b[0mexp\u001b[0m \u001b[0;34m=\u001b[0m \u001b[0mself\u001b[0m\u001b[0;34m.\u001b[0m\u001b[0m_get_experiment\u001b[0m\u001b[0;34m(\u001b[0m\u001b[0mkey\u001b[0m\u001b[0;34m)\u001b[0m\u001b[0;34m\u001b[0m\u001b[0;34m\u001b[0m\u001b[0m\n\u001b[0m\u001b[1;32m    270\u001b[0m             \u001b[0;32mtry\u001b[0m\u001b[0;34m:\u001b[0m\u001b[0;34m\u001b[0m\u001b[0;34m\u001b[0m\u001b[0m\n\u001b[1;32m    271\u001b[0m                 \u001b[0mheader\u001b[0m \u001b[0;34m=\u001b[0m \u001b[0mexp\u001b[0m\u001b[0;34m.\u001b[0m\u001b[0mheader\u001b[0m\u001b[0;34m.\u001b[0m\u001b[0mto_dict\u001b[0m\u001b[0;34m(\u001b[0m\u001b[0;34m)\u001b[0m\u001b[0;34m\u001b[0m\u001b[0;34m\u001b[0m\u001b[0m\n",
            "\u001b[0;32m/usr/local/lib/python3.10/dist-packages/qiskit/result/result.py\u001b[0m in \u001b[0;36m_get_experiment\u001b[0;34m(self, key)\u001b[0m\n\u001b[1;32m    378\u001b[0m \u001b[0;34m\u001b[0m\u001b[0m\n\u001b[1;32m    379\u001b[0m             \u001b[0;32mif\u001b[0m \u001b[0mlen\u001b[0m\u001b[0;34m(\u001b[0m\u001b[0mexp\u001b[0m\u001b[0;34m)\u001b[0m \u001b[0;34m==\u001b[0m \u001b[0;36m0\u001b[0m\u001b[0;34m:\u001b[0m\u001b[0;34m\u001b[0m\u001b[0;34m\u001b[0m\u001b[0m\n\u001b[0;32m--> 380\u001b[0;31m                 \u001b[0;32mraise\u001b[0m \u001b[0mQiskitError\u001b[0m\u001b[0;34m(\u001b[0m\u001b[0;34m'Data for experiment \"%s\" could not be found.'\u001b[0m \u001b[0;34m%\u001b[0m \u001b[0mkey\u001b[0m\u001b[0;34m)\u001b[0m\u001b[0;34m\u001b[0m\u001b[0;34m\u001b[0m\u001b[0m\n\u001b[0m\u001b[1;32m    381\u001b[0m             \u001b[0;32mif\u001b[0m \u001b[0mlen\u001b[0m\u001b[0;34m(\u001b[0m\u001b[0mexp\u001b[0m\u001b[0;34m)\u001b[0m \u001b[0;34m==\u001b[0m \u001b[0;36m1\u001b[0m\u001b[0;34m:\u001b[0m\u001b[0;34m\u001b[0m\u001b[0;34m\u001b[0m\u001b[0m\n\u001b[1;32m    382\u001b[0m                 \u001b[0mexp\u001b[0m \u001b[0;34m=\u001b[0m \u001b[0mexp\u001b[0m\u001b[0;34m[\u001b[0m\u001b[0;36m0\u001b[0m\u001b[0;34m]\u001b[0m\u001b[0;34m\u001b[0m\u001b[0;34m\u001b[0m\u001b[0m\n",
            "\u001b[0;31mQiskitError\u001b[0m: 'Data for experiment \"circuit-213\" could not be found.'"
          ]
        }
      ],
      "source": [
        "#backend = BasicAer.get_backend('qasm_simulator')\n",
        "job = backend.run(qc)\n",
        "job.result().get_counts(qc)"
      ]
    },
    {
      "cell_type": "markdown",
      "metadata": {
        "id": "viNDgFwHkcPH"
      },
      "source": [
        " The simulator predicts that 100 percent of the time the classical register returns 0."
      ]
    },
    {
      "cell_type": "code",
      "execution_count": null,
      "metadata": {
        "ExecuteTime": {
          "end_time": "2021-07-31T05:13:49.501725Z",
          "start_time": "2021-07-31T05:13:49.495404Z"
        },
        "colab": {
          "base_uri": "https://localhost:8080/",
          "height": 191
        },
        "id": "_6QfWyG8kcPH",
        "outputId": "abcfa26b-7880-4b9a-92d2-a5fc5b60cf1a"
      },
      "outputs": [
        {
          "output_type": "execute_result",
          "data": {
            "text/plain": [
              "<Figure size 305.525x200.667 with 1 Axes>"
            ],
            "image/png": "[encoded data removed]"
          },
          "metadata": {},
          "execution_count": 62
        }
      ],
      "source": [
        "qc = QuantumCircuit(q, c)\n",
        "qc.h(q)\n",
        "qc.measure(q, c)\n",
        "qc.draw('mpl')"
      ]
    },
    {
      "cell_type": "code",
      "execution_count": null,
      "metadata": {
        "ExecuteTime": {
          "end_time": "2021-07-31T05:13:51.913804Z",
          "start_time": "2021-07-31T05:13:51.902540Z"
        },
        "colab": {
          "base_uri": "https://localhost:8080/",
          "height": 368
        },
        "id": "lF_CHVpPkcPI",
        "outputId": "8dfb8d2e-a7e3-4a3e-fa37-a6b0ae4340dd"
      },
      "outputs": [
        {
          "output_type": "stream",
          "name": "stderr",
          "text": [
            "WARNING:qiskit_aer.backends.aerbackend:Simulation failed and returned the following error message:\n",
            "ERROR:  [Experiment 0] Circuit circuit-214 contains invalid instructions {\"instructions\": {save_unitary}} for \"statevector\" method.Circuit circuit-214 contains invalid parameters  for \"statevector\" method.\n"
          ]
        },
        {
          "output_type": "error",
          "ename": "QiskitError",
          "evalue": "'Data for experiment \"circuit-214\" could not be found.'",
          "traceback": [
            "\u001b[0;31m---------------------------------------------------------------------------\u001b[0m",
            "\u001b[0;31mQiskitError\u001b[0m                               Traceback (most recent call last)",
            "\u001b[0;32m<ipython-input-63-04d761697313>\u001b[0m in \u001b[0;36m<cell line: 2>\u001b[0;34m()\u001b[0m\n\u001b[1;32m      1\u001b[0m \u001b[0mjob\u001b[0m \u001b[0;34m=\u001b[0m \u001b[0mbackend\u001b[0m\u001b[0;34m.\u001b[0m\u001b[0mrun\u001b[0m\u001b[0;34m(\u001b[0m\u001b[0mtranspile\u001b[0m\u001b[0;34m(\u001b[0m\u001b[0mqc\u001b[0m\u001b[0;34m,\u001b[0m \u001b[0mbackend\u001b[0m\u001b[0;34m)\u001b[0m\u001b[0;34m)\u001b[0m\u001b[0;34m\u001b[0m\u001b[0;34m\u001b[0m\u001b[0m\n\u001b[0;32m----> 2\u001b[0;31m \u001b[0mjob\u001b[0m\u001b[0;34m.\u001b[0m\u001b[0mresult\u001b[0m\u001b[0;34m(\u001b[0m\u001b[0;34m)\u001b[0m\u001b[0;34m.\u001b[0m\u001b[0mget_counts\u001b[0m\u001b[0;34m(\u001b[0m\u001b[0mqc\u001b[0m\u001b[0;34m)\u001b[0m\u001b[0;34m\u001b[0m\u001b[0;34m\u001b[0m\u001b[0m\n\u001b[0m",
            "\u001b[0;32m/usr/local/lib/python3.10/dist-packages/qiskit/result/result.py\u001b[0m in \u001b[0;36mget_counts\u001b[0;34m(self, experiment)\u001b[0m\n\u001b[1;32m    267\u001b[0m         \u001b[0mdict_list\u001b[0m \u001b[0;34m=\u001b[0m \u001b[0;34m[\u001b[0m\u001b[0;34m]\u001b[0m\u001b[0;34m\u001b[0m\u001b[0;34m\u001b[0m\u001b[0m\n\u001b[1;32m    268\u001b[0m         \u001b[0;32mfor\u001b[0m \u001b[0mkey\u001b[0m \u001b[0;32min\u001b[0m \u001b[0mexp_keys\u001b[0m\u001b[0;34m:\u001b[0m\u001b[0;34m\u001b[0m\u001b[0;34m\u001b[0m\u001b[0m\n\u001b[0;32m--> 269\u001b[0;31m             \u001b[0mexp\u001b[0m \u001b[0;34m=\u001b[0m \u001b[0mself\u001b[0m\u001b[0;34m.\u001b[0m\u001b[0m_get_experiment\u001b[0m\u001b[0;34m(\u001b[0m\u001b[0mkey\u001b[0m\u001b[0;34m)\u001b[0m\u001b[0;34m\u001b[0m\u001b[0;34m\u001b[0m\u001b[0m\n\u001b[0m\u001b[1;32m    270\u001b[0m             \u001b[0;32mtry\u001b[0m\u001b[0;34m:\u001b[0m\u001b[0;34m\u001b[0m\u001b[0;34m\u001b[0m\u001b[0m\n\u001b[1;32m    271\u001b[0m                 \u001b[0mheader\u001b[0m \u001b[0;34m=\u001b[0m \u001b[0mexp\u001b[0m\u001b[0;34m.\u001b[0m\u001b[0mheader\u001b[0m\u001b[0;34m.\u001b[0m\u001b[0mto_dict\u001b[0m\u001b[0;34m(\u001b[0m\u001b[0;34m)\u001b[0m\u001b[0;34m\u001b[0m\u001b[0;34m\u001b[0m\u001b[0m\n",
            "\u001b[0;32m/usr/local/lib/python3.10/dist-packages/qiskit/result/result.py\u001b[0m in \u001b[0;36m_get_experiment\u001b[0;34m(self, key)\u001b[0m\n\u001b[1;32m    378\u001b[0m \u001b[0;34m\u001b[0m\u001b[0m\n\u001b[1;32m    379\u001b[0m             \u001b[0;32mif\u001b[0m \u001b[0mlen\u001b[0m\u001b[0;34m(\u001b[0m\u001b[0mexp\u001b[0m\u001b[0;34m)\u001b[0m \u001b[0;34m==\u001b[0m \u001b[0;36m0\u001b[0m\u001b[0;34m:\u001b[0m\u001b[0;34m\u001b[0m\u001b[0;34m\u001b[0m\u001b[0m\n\u001b[0;32m--> 380\u001b[0;31m                 \u001b[0;32mraise\u001b[0m \u001b[0mQiskitError\u001b[0m\u001b[0;34m(\u001b[0m\u001b[0;34m'Data for experiment \"%s\" could not be found.'\u001b[0m \u001b[0;34m%\u001b[0m \u001b[0mkey\u001b[0m\u001b[0;34m)\u001b[0m\u001b[0;34m\u001b[0m\u001b[0;34m\u001b[0m\u001b[0m\n\u001b[0m\u001b[1;32m    381\u001b[0m             \u001b[0;32mif\u001b[0m \u001b[0mlen\u001b[0m\u001b[0;34m(\u001b[0m\u001b[0mexp\u001b[0m\u001b[0;34m)\u001b[0m \u001b[0;34m==\u001b[0m \u001b[0;36m1\u001b[0m\u001b[0;34m:\u001b[0m\u001b[0;34m\u001b[0m\u001b[0;34m\u001b[0m\u001b[0m\n\u001b[1;32m    382\u001b[0m                 \u001b[0mexp\u001b[0m \u001b[0;34m=\u001b[0m \u001b[0mexp\u001b[0m\u001b[0;34m[\u001b[0m\u001b[0;36m0\u001b[0m\u001b[0;34m]\u001b[0m\u001b[0;34m\u001b[0m\u001b[0;34m\u001b[0m\u001b[0m\n",
            "\u001b[0;31mQiskitError\u001b[0m: 'Data for experiment \"circuit-214\" could not be found.'"
          ]
        }
      ],
      "source": [
        "job = backend.run(transpile(qc, backend))\n",
        "job.result().get_counts(qc)"
      ]
    },
    {
      "cell_type": "markdown",
      "metadata": {
        "id": "oCNSBeUQkcPI"
      },
      "source": [
        " The simulator predicts that 50 percent of the time the classical register returns 0 or 1."
      ]
    },
    {
      "cell_type": "markdown",
      "metadata": {
        "id": "HKEDSYfCkcPI"
      },
      "source": [
        "### Reset\n",
        "It is also possible to `reset` qubits to the $\\left|0\\right\\rangle$ state in the middle of computation. Note that `reset` is not a Gate operation, since it is irreversible."
      ]
    },
    {
      "cell_type": "code",
      "execution_count": null,
      "metadata": {
        "ExecuteTime": {
          "end_time": "2021-07-31T05:13:55.048748Z",
          "start_time": "2021-07-31T05:13:55.043325Z"
        },
        "colab": {
          "base_uri": "https://localhost:8080/",
          "height": 191
        },
        "id": "DN-EpEcVkcPJ",
        "outputId": "5b2a85bf-b75b-4bf9-e645-420b170eb2b8"
      },
      "outputs": [
        {
          "output_type": "execute_result",
          "data": {
            "text/plain": [
              "<Figure size 305.525x200.667 with 1 Axes>"
            ],
            "image/png": "[encoded data removed]"
          },
          "metadata": {},
          "execution_count": 64
        }
      ],
      "source": [
        "qc = QuantumCircuit(q, c)\n",
        "qc.reset(q[0])\n",
        "qc.measure(q, c)\n",
        "qc.draw('mpl')"
      ]
    },
    {
      "cell_type": "code",
      "execution_count": null,
      "metadata": {
        "ExecuteTime": {
          "end_time": "2021-07-31T05:13:57.317513Z",
          "start_time": "2021-07-31T05:13:57.305706Z"
        },
        "colab": {
          "base_uri": "https://localhost:8080/",
          "height": 368
        },
        "id": "-L2N_n7skcPJ",
        "outputId": "5b838897-91ba-46d5-8d3a-a2ae3ea550d5"
      },
      "outputs": [
        {
          "output_type": "stream",
          "name": "stderr",
          "text": [
            "WARNING:qiskit_aer.backends.aerbackend:Simulation failed and returned the following error message:\n",
            "ERROR:  [Experiment 0] Circuit circuit-216 contains invalid instructions {\"instructions\": {save_unitary}} for \"statevector\" method.Circuit circuit-216 contains invalid parameters  for \"statevector\" method.\n"
          ]
        },
        {
          "output_type": "error",
          "ename": "QiskitError",
          "evalue": "'Data for experiment \"circuit-216\" could not be found.'",
          "traceback": [
            "\u001b[0;31m---------------------------------------------------------------------------\u001b[0m",
            "\u001b[0;31mQiskitError\u001b[0m                               Traceback (most recent call last)",
            "\u001b[0;32m<ipython-input-65-04d761697313>\u001b[0m in \u001b[0;36m<cell line: 2>\u001b[0;34m()\u001b[0m\n\u001b[1;32m      1\u001b[0m \u001b[0mjob\u001b[0m \u001b[0;34m=\u001b[0m \u001b[0mbackend\u001b[0m\u001b[0;34m.\u001b[0m\u001b[0mrun\u001b[0m\u001b[0;34m(\u001b[0m\u001b[0mtranspile\u001b[0m\u001b[0;34m(\u001b[0m\u001b[0mqc\u001b[0m\u001b[0;34m,\u001b[0m \u001b[0mbackend\u001b[0m\u001b[0;34m)\u001b[0m\u001b[0;34m)\u001b[0m\u001b[0;34m\u001b[0m\u001b[0;34m\u001b[0m\u001b[0m\n\u001b[0;32m----> 2\u001b[0;31m \u001b[0mjob\u001b[0m\u001b[0;34m.\u001b[0m\u001b[0mresult\u001b[0m\u001b[0;34m(\u001b[0m\u001b[0;34m)\u001b[0m\u001b[0;34m.\u001b[0m\u001b[0mget_counts\u001b[0m\u001b[0;34m(\u001b[0m\u001b[0mqc\u001b[0m\u001b[0;34m)\u001b[0m\u001b[0;34m\u001b[0m\u001b[0;34m\u001b[0m\u001b[0m\n\u001b[0m",
            "\u001b[0;32m/usr/local/lib/python3.10/dist-packages/qiskit/result/result.py\u001b[0m in \u001b[0;36mget_counts\u001b[0;34m(self, experiment)\u001b[0m\n\u001b[1;32m    267\u001b[0m         \u001b[0mdict_list\u001b[0m \u001b[0;34m=\u001b[0m \u001b[0;34m[\u001b[0m\u001b[0;34m]\u001b[0m\u001b[0;34m\u001b[0m\u001b[0;34m\u001b[0m\u001b[0m\n\u001b[1;32m    268\u001b[0m         \u001b[0;32mfor\u001b[0m \u001b[0mkey\u001b[0m \u001b[0;32min\u001b[0m \u001b[0mexp_keys\u001b[0m\u001b[0;34m:\u001b[0m\u001b[0;34m\u001b[0m\u001b[0;34m\u001b[0m\u001b[0m\n\u001b[0;32m--> 269\u001b[0;31m             \u001b[0mexp\u001b[0m \u001b[0;34m=\u001b[0m \u001b[0mself\u001b[0m\u001b[0;34m.\u001b[0m\u001b[0m_get_experiment\u001b[0m\u001b[0;34m(\u001b[0m\u001b[0mkey\u001b[0m\u001b[0;34m)\u001b[0m\u001b[0;34m\u001b[0m\u001b[0;34m\u001b[0m\u001b[0m\n\u001b[0m\u001b[1;32m    270\u001b[0m             \u001b[0;32mtry\u001b[0m\u001b[0;34m:\u001b[0m\u001b[0;34m\u001b[0m\u001b[0;34m\u001b[0m\u001b[0m\n\u001b[1;32m    271\u001b[0m                 \u001b[0mheader\u001b[0m \u001b[0;34m=\u001b[0m \u001b[0mexp\u001b[0m\u001b[0;34m.\u001b[0m\u001b[0mheader\u001b[0m\u001b[0;34m.\u001b[0m\u001b[0mto_dict\u001b[0m\u001b[0;34m(\u001b[0m\u001b[0;34m)\u001b[0m\u001b[0;34m\u001b[0m\u001b[0;34m\u001b[0m\u001b[0m\n",
            "\u001b[0;32m/usr/local/lib/python3.10/dist-packages/qiskit/result/result.py\u001b[0m in \u001b[0;36m_get_experiment\u001b[0;34m(self, key)\u001b[0m\n\u001b[1;32m    378\u001b[0m \u001b[0;34m\u001b[0m\u001b[0m\n\u001b[1;32m    379\u001b[0m             \u001b[0;32mif\u001b[0m \u001b[0mlen\u001b[0m\u001b[0;34m(\u001b[0m\u001b[0mexp\u001b[0m\u001b[0;34m)\u001b[0m \u001b[0;34m==\u001b[0m \u001b[0;36m0\u001b[0m\u001b[0;34m:\u001b[0m\u001b[0;34m\u001b[0m\u001b[0;34m\u001b[0m\u001b[0m\n\u001b[0;32m--> 380\u001b[0;31m                 \u001b[0;32mraise\u001b[0m \u001b[0mQiskitError\u001b[0m\u001b[0;34m(\u001b[0m\u001b[0;34m'Data for experiment \"%s\" could not be found.'\u001b[0m \u001b[0;34m%\u001b[0m \u001b[0mkey\u001b[0m\u001b[0;34m)\u001b[0m\u001b[0;34m\u001b[0m\u001b[0;34m\u001b[0m\u001b[0m\n\u001b[0m\u001b[1;32m    381\u001b[0m             \u001b[0;32mif\u001b[0m \u001b[0mlen\u001b[0m\u001b[0;34m(\u001b[0m\u001b[0mexp\u001b[0m\u001b[0;34m)\u001b[0m \u001b[0;34m==\u001b[0m \u001b[0;36m1\u001b[0m\u001b[0;34m:\u001b[0m\u001b[0;34m\u001b[0m\u001b[0;34m\u001b[0m\u001b[0m\n\u001b[1;32m    382\u001b[0m                 \u001b[0mexp\u001b[0m \u001b[0;34m=\u001b[0m \u001b[0mexp\u001b[0m\u001b[0;34m[\u001b[0m\u001b[0;36m0\u001b[0m\u001b[0;34m]\u001b[0m\u001b[0;34m\u001b[0m\u001b[0;34m\u001b[0m\u001b[0m\n",
            "\u001b[0;31mQiskitError\u001b[0m: 'Data for experiment \"circuit-216\" could not be found.'"
          ]
        }
      ],
      "source": [
        "job = backend.run(transpile(qc, backend))\n",
        "job.result().get_counts(qc)"
      ]
    },
    {
      "cell_type": "code",
      "execution_count": null,
      "metadata": {
        "ExecuteTime": {
          "end_time": "2021-07-31T05:13:57.866910Z",
          "start_time": "2021-07-31T05:13:57.860240Z"
        },
        "id": "COOHoXepkcPK"
      },
      "outputs": [],
      "source": [
        "qc = QuantumCircuit(q, c)\n",
        "qc.h(q)\n",
        "qc.reset(q[0])\n",
        "qc.measure(q, c)\n",
        "qc.draw('mpl')"
      ]
    },
    {
      "cell_type": "code",
      "execution_count": null,
      "metadata": {
        "ExecuteTime": {
          "end_time": "2021-07-31T05:14:01.210349Z",
          "start_time": "2021-07-31T05:14:01.065350Z"
        },
        "id": "qUqTIOQ0kcPK"
      },
      "outputs": [],
      "source": [
        "job = backend.run(transpile(qc, backend))\n",
        "job.result().get_counts(qc)"
      ]
    },
    {
      "cell_type": "markdown",
      "metadata": {
        "id": "8pF1NGIxkcPL"
      },
      "source": [
        "Here we see that for both of these circuits the simulator always predicts that the output is 100 percent in the 0 state."
      ]
    },
    {
      "cell_type": "markdown",
      "metadata": {
        "id": "wLATiQQekcPL"
      },
      "source": [
        "### Conditional operations\n",
        "It is also possible to do operations conditioned on the state of the classical register"
      ]
    },
    {
      "cell_type": "code",
      "execution_count": null,
      "metadata": {
        "ExecuteTime": {
          "end_time": "2021-07-31T05:14:03.421890Z",
          "start_time": "2021-07-31T05:14:03.416090Z"
        },
        "id": "WkT3z_dnkcPL"
      },
      "outputs": [],
      "source": [
        "qc = QuantumCircuit(q, c)\n",
        "qc.x(q[0]).c_if(c, 0)\n",
        "qc.measure(q,c)\n",
        "qc.draw('mpl')"
      ]
    },
    {
      "cell_type": "markdown",
      "metadata": {
        "id": "QboRYoT0kcPM"
      },
      "source": [
        "Here the classical bit always takes the value 0 so the qubit state is always flipped."
      ]
    },
    {
      "cell_type": "code",
      "execution_count": null,
      "metadata": {
        "ExecuteTime": {
          "end_time": "2021-07-31T05:14:05.763405Z",
          "start_time": "2021-07-31T05:14:05.753665Z"
        },
        "id": "aT-jAnVckcPM"
      },
      "outputs": [],
      "source": [
        "job = backend.run(transpile(qc, backend))\n",
        "job.result().get_counts(qc)"
      ]
    },
    {
      "cell_type": "code",
      "execution_count": null,
      "metadata": {
        "ExecuteTime": {
          "end_time": "2021-07-31T05:14:07.187387Z",
          "start_time": "2021-07-31T05:14:07.180366Z"
        },
        "id": "_XtsQHBSkcPM"
      },
      "outputs": [],
      "source": [
        "qc = QuantumCircuit(q, c)\n",
        "qc.h(q)\n",
        "qc.measure(q,c)\n",
        "qc.x(q[0]).c_if(c, 0)\n",
        "qc.measure(q,c)\n",
        "qc.draw('mpl')"
      ]
    },
    {
      "cell_type": "code",
      "execution_count": null,
      "metadata": {
        "ExecuteTime": {
          "end_time": "2021-07-31T05:14:09.366351Z",
          "start_time": "2021-07-31T05:14:09.199972Z"
        },
        "id": "4X1Bi6XNkcPN"
      },
      "outputs": [],
      "source": [
        "job = backend.run(transpile(qc, backend))\n",
        "job.result().get_counts(qc)"
      ]
    },
    {
      "cell_type": "markdown",
      "metadata": {
        "id": "duyRfbvmkcPN"
      },
      "source": [
        "Here the classical bit by the first measurement is random but the conditional operation results in the qubit being deterministically put into $\\left|1\\right\\rangle$."
      ]
    },
    {
      "cell_type": "markdown",
      "metadata": {
        "id": "lud-eFvCkcPN"
      },
      "source": [
        "## Arbitrary initialization <a name=\"initialization\"/>\n",
        "What if we want to initialize a qubit register to an arbitrary state? An arbitrary state for $n$ qubits may be specified by a vector of $2^n$ amplitudes, where the sum of amplitude-norms-squared equals 1. For example, the following three-qubit state can be prepared:\n",
        "\n",
        "$$\\left|\\psi\\right\\rangle = \\frac{i}{4}\\left|000\\right\\rangle + \\frac{1}{\\sqrt{8}}\\left|001\\right\\rangle + \\frac{1+i}{4}\\left|010\\right\\rangle + \\frac{1+2i}{\\sqrt{8}}\\left|101\\right\\rangle + \\frac{1}{4}\\left|110\\right\\rangle$$"
      ]
    },
    {
      "cell_type": "code",
      "execution_count": null,
      "metadata": {
        "ExecuteTime": {
          "end_time": "2021-07-31T05:14:12.127664Z",
          "start_time": "2021-07-31T05:14:12.118291Z"
        },
        "id": "BnKVLJ87kcPO"
      },
      "outputs": [],
      "source": [
        "# Initializing a three-qubit quantum state\n",
        "import math\n",
        "desired_vector = [\n",
        "    1 / math.sqrt(16) * complex(0, 1),\n",
        "    1 / math.sqrt(8) * complex(1, 0),\n",
        "    1 / math.sqrt(16) * complex(1, 1),\n",
        "    0,\n",
        "    0,\n",
        "    1 / math.sqrt(8) * complex(1, 2),\n",
        "    1 / math.sqrt(16) * complex(1, 0),\n",
        "    0]\n",
        "\n",
        "\n",
        "q = QuantumRegister(3)\n",
        "\n",
        "qc = QuantumCircuit(q)\n",
        "\n",
        "qc.initialize(desired_vector, [q[0],q[1],q[2]])\n",
        "qc.draw('mpl')"
      ]
    },
    {
      "cell_type": "code",
      "execution_count": null,
      "metadata": {
        "ExecuteTime": {
          "end_time": "2021-07-31T05:14:16.873547Z",
          "start_time": "2021-07-31T05:14:16.800233Z"
        },
        "id": "s5-s-EqCkcPO"
      },
      "outputs": [],
      "source": [
        "backend = BasicAer.get_backend('statevector_simulator')\n",
        "job = backend.run(transpile(qc, backend))\n",
        "qc_state = job.result().get_statevector(qc)\n",
        "qc_state"
      ]
    },
    {
      "cell_type": "markdown",
      "metadata": {
        "id": "McLJt-rDkcPP"
      },
      "source": [
        "[Fidelity](https://en.wikipedia.org/wiki/Fidelity_of_quantum_states) is useful to check whether two states are the same or not.\n",
        "For quantum (pure) states $\\left|\\psi_1\\right\\rangle$ and $\\left|\\psi_2\\right\\rangle$, the fidelity is\n",
        "\n",
        "$$\n",
        "F\\left(\\left|\\psi_1\\right\\rangle,\\left|\\psi_2\\right\\rangle\\right) = \\left|\\left\\langle\\psi_1\\middle|\\psi_2\\right\\rangle\\right|^2.\n",
        "$$\n",
        "\n",
        "The fidelity is equal to $1$ if and only if two states are equal."
      ]
    },
    {
      "cell_type": "code",
      "execution_count": null,
      "metadata": {
        "ExecuteTime": {
          "end_time": "2021-07-31T05:14:19.163449Z",
          "start_time": "2021-07-31T05:14:19.157945Z"
        },
        "id": "lFaNnJLWkcPP"
      },
      "outputs": [],
      "source": [
        "state_fidelity(desired_vector,qc_state)"
      ]
    },
    {
      "cell_type": "markdown",
      "metadata": {
        "id": "cBaiwSj8kcPP"
      },
      "source": [
        "### Further details:\n",
        "\n",
        "How does the desired state get generated behind the scenes? There are multiple methods for doing this. Qiskit uses a [method proposed by Shende et al](https://arxiv.org/abs/quant-ph/0406176). Here, the idea is to assume the quantum register to have started from our desired state, and construct a circuit that takes it to the $\\left|00..0\\right\\rangle$ state. The initialization circuit is then the reverse of such circuit.\n",
        "\n",
        "To take an arbitrary quantum state to the zero state in the computational basis, we perform an iterative procedure that disentangles qubits from the register one-by-one. We know that any arbitrary single-qubit state $\\left|\\rho\\right\\rangle$ can be taken to the $\\left|0\\right\\rangle$ state using a $\\phi$-degree rotation about the Z axis followed by a $\\theta$-degree rotation about the Y axis:\n",
        "\n",
        "$$R_y(-\\theta)R_z(-\\phi)\\left|\\rho\\right\\rangle = re^{it}\\left|0\\right\\rangle$$\n",
        "\n",
        "Since now we are dealing with $n$ qubits instead of just 1, we must factorize the state vector to separate the Least Significant Bit (LSB):\n",
        "\n",
        "$$\\begin{align*}\n",
        " \\left|\\psi\\right\\rangle =& \\alpha_{0_0}\\left|00..00\\right\\rangle + \\alpha_{0_1}\\left|00..01\\right\\rangle + \\alpha_{1_0}\\left|00..10\\right\\rangle + \\alpha_{1_1}\\left|00..11\\right\\rangle + ... \\\\&+ \\alpha_{(2^{n-1}-1)_0}\\left|11..10\\right\\rangle + \\alpha_{(2^{n-1}-1)_1}\\left|11..11\\right\\rangle \\\\\n",
        "=& \\left|00..0\\right\\rangle (\\alpha_{0_0}\\left|0\\right\\rangle + \\alpha_{0_1}\\left|1\\right\\rangle) + \\left|00..1\\right\\rangle (\\alpha_{1_0}\\left|0\\right\\rangle + \\alpha_{1_1}\\left|1\\right\\rangle) + ... \\\\&+ \\left|11..1\\right\\rangle (\\alpha_{(2^{n-1}-1)_0}(\\left|0\\right\\rangle + \\alpha_{(2^{n-1}-1)_1}\\left|1\\right\\rangle) \\\\\n",
        "=& \\left|00..0\\right\\rangle\\left|\\rho_0\\right\\rangle + \\left|00..1\\right\\rangle\\left|\\rho_1\\right\\rangle + ... + \\left|11..1\\right\\rangle\\left|\\rho_{2^{n-1}-1}\\right\\rangle\n",
        "\\end{align*}$$\n",
        "\n",
        "Now each of the single-qubit states $\\left|\\rho_0\\right\\rangle, ..., \\left|\\rho_{2^{n-1}-1}\\right\\rangle$ can be taken to $\\left|0\\right\\rangle$ by finding appropriate $\\phi$ and $\\theta$ angles per the equation above. Doing this simultaneously on all states amounts to the following unitary, which disentangles the LSB:\n",
        "\n",
        "$$U = \\begin{pmatrix}\n",
        "R_{y}(-\\theta_0)R_{z}(-\\phi_0) & & & &\\\\  \n",
        "& R_{y}(-\\theta_1)R_{z}(-\\phi_1) & & &\\\\\n",
        "& . & & &\\\\\n",
        "& & . & &\\\\\n",
        "& & & & R_y(-\\theta_{2^{n-1}-1})R_z(-\\phi_{2^{n-1}-1})\n",
        "\\end{pmatrix} $$\n",
        "\n",
        "Hence,\n",
        "\n",
        "$$U\\left|\\psi\\right\\rangle = \\begin{pmatrix} r_0e^{it_0}\\\\ r_1e^{it_1}\\\\ . \\\\ . \\\\ r_{2^{n-1}-1}e^{it_{2^{n-1}-1}} \\end{pmatrix}\\otimes\\left|0\\right\\rangle$$\n",
        "\n",
        "\n",
        "U can be implemented as a \"quantum multiplexor\" gate, since it is a block diagonal matrix. In the quantum multiplexor formalism, a block diagonal matrix of size $2^n \\times 2^n$, and consisting of $2^s$ blocks, is equivalent to a multiplexor with $s$ select qubits and $n-s$ data qubits. Depending on the state of the select qubits, the corresponding blocks are applied to the data qubits. A multiplexor of this kind can be implemented after recursive decomposition to primitive gates of cx, rz and ry."
      ]
    },
    {
      "cell_type": "code",
      "execution_count": null,
      "metadata": {
        "ExecuteTime": {
          "end_time": "2021-07-31T05:14:22.630626Z",
          "start_time": "2021-07-31T05:14:21.651868Z"
        },
        "id": "hQFQRYI1kcPQ"
      },
      "outputs": [],
      "source": [
        "import qiskit.tools.jupyter\n",
        "%qiskit_version_table\n",
        "%qiskit_copyright"
      ]
    },
    {
      "cell_type": "code",
      "execution_count": null,
      "metadata": {
        "id": "GhxhQ5hPkcPQ"
      },
      "outputs": [],
      "source": []
    }
  ],
  "metadata": {
    "anaconda-cloud": {},
    "kernelspec": {
      "display_name": "Python 3 (ipykernel)",
      "language": "python",
      "name": "python3"
    },
    "language_info": {
      "codemirror_mode": {
        "name": "ipython",
        "version": 3
      },
      "file_extension": ".py",
      "mimetype": "text/x-python",
      "name": "python",
      "nbconvert_exporter": "python",
      "pygments_lexer": "ipython3",
      "version": "3.10.12"
    },
    "varInspector": {
      "cols": {
        "lenName": 16,
        "lenType": 16,
        "lenVar": 40
      },
      "kernels_config": {
        "python": {
          "delete_cmd_postfix": "",
          "delete_cmd_prefix": "del ",
          "library": "var_list.py",
          "varRefreshCmd": "print(var_dic_list())"
        },
        "r": {
          "delete_cmd_postfix": ") ",
          "delete_cmd_prefix": "rm(",
          "library": "var_list.r",
          "varRefreshCmd": "cat(var_dic_list()) "
        }
      },
      "types_to_exclude": [
        "module",
        "function",
        "builtin_function_or_method",
        "instance",
        "_Feature"
      ],
      "window_display": false
    },
    "colab": {
      "provenance": []
    }
  },
  "nbformat": 4,
  "nbformat_minor": 0
}