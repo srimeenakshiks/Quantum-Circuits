{
  "cells": [
    {
      "cell_type": "code",
      "execution_count": null,
      "id": "c8ea0955-a340-4fbf-92e6-a5a0abd675b5",
      "metadata": {
        "colab": {
          "base_uri": "https://localhost:8080/"
        },
        "id": "c8ea0955-a340-4fbf-92e6-a5a0abd675b5",
        "outputId": "5f448cf2-99ff-42a2-fd7a-b259588fc4b9"
      },
      "outputs": [
        {
          "output_type": "stream",
          "name": "stdout",
          "text": [
            "Requirement already satisfied: scikit-learn in /usr/local/lib/python3.10/dist-packages (1.3.2)\n",
            "Collecting scikit-learn\n",
            "  Downloading scikit_learn-1.5.1-cp310-cp310-manylinux_2_17_x86_64.manylinux2014_x86_64.whl.metadata (12 kB)\n",
            "Requirement already satisfied: numpy>=1.19.5 in /usr/local/lib/python3.10/dist-packages (from scikit-learn) (1.25.2)\n",
            "Requirement already satisfied: scipy>=1.6.0 in /usr/local/lib/python3.10/dist-packages (from scikit-learn) (1.13.1)\n",
            "Requirement already satisfied: joblib>=1.2.0 in /usr/local/lib/python3.10/dist-packages (from scikit-learn) (1.4.2)\n",
            "Requirement already satisfied: threadpoolctl>=3.1.0 in /usr/local/lib/python3.10/dist-packages (from scikit-learn) (3.5.0)\n",
            "Downloading scikit_learn-1.5.1-cp310-cp310-manylinux_2_17_x86_64.manylinux2014_x86_64.whl (13.4 MB)\n",
            "\u001b[2K   \u001b[90m━━━━━━━━━━━━━━━━━━━━━━━━━━━━━━━━━━━━━━━━\u001b[0m \u001b[32m13.4/13.4 MB\u001b[0m \u001b[31m88.9 MB/s\u001b[0m eta \u001b[36m0:00:00\u001b[0m\n",
            "\u001b[?25hInstalling collected packages: scikit-learn\n",
            "  Attempting uninstall: scikit-learn\n",
            "    Found existing installation: scikit-learn 1.3.2\n",
            "    Uninstalling scikit-learn-1.3.2:\n",
            "      Successfully uninstalled scikit-learn-1.3.2\n",
            "Successfully installed scikit-learn-1.5.1\n"
          ]
        }
      ],
      "source": [
        "!pip install -U scikit-learn"
      ]
    },
    {
      "cell_type": "code",
      "execution_count": null,
      "id": "f182d6a4-0230-431e-bdba-77551f82144f",
      "metadata": {
        "colab": {
          "base_uri": "https://localhost:8080/"
        },
        "id": "f182d6a4-0230-431e-bdba-77551f82144f",
        "outputId": "e09f6839-c483-45f1-841d-ba18cc12840a"
      },
      "outputs": [
        {
          "output_type": "stream",
          "name": "stdout",
          "text": [
            "Collecting qiskit\n",
            "  Downloading qiskit-1.1.1-cp38-abi3-manylinux_2_17_x86_64.manylinux2014_x86_64.whl.metadata (12 kB)\n",
            "Collecting rustworkx>=0.14.0 (from qiskit)\n",
            "  Downloading rustworkx-0.15.1-cp38-abi3-manylinux_2_17_x86_64.manylinux2014_x86_64.whl.metadata (9.9 kB)\n",
            "Requirement already satisfied: numpy<3,>=1.17 in /usr/local/lib/python3.10/dist-packages (from qiskit) (1.25.2)\n",
            "Requirement already satisfied: scipy>=1.5 in /usr/local/lib/python3.10/dist-packages (from qiskit) (1.13.1)\n",
            "Requirement already satisfied: sympy>=1.3 in /usr/local/lib/python3.10/dist-packages (from qiskit) (1.13.1)\n",
            "Collecting dill>=0.3 (from qiskit)\n",
            "  Downloading dill-0.3.8-py3-none-any.whl.metadata (10 kB)\n",
            "Requirement already satisfied: python-dateutil>=2.8.0 in /usr/local/lib/python3.10/dist-packages (from qiskit) (2.8.2)\n",
            "Collecting stevedore>=3.0.0 (from qiskit)\n",
            "  Downloading stevedore-5.2.0-py3-none-any.whl.metadata (2.3 kB)\n",
            "Requirement already satisfied: typing-extensions in /usr/local/lib/python3.10/dist-packages (from qiskit) (4.12.2)\n",
            "Collecting symengine>=0.11 (from qiskit)\n",
            "  Downloading symengine-0.11.0-cp310-cp310-manylinux_2_12_x86_64.manylinux2010_x86_64.whl.metadata (1.2 kB)\n",
            "Requirement already satisfied: six>=1.5 in /usr/local/lib/python3.10/dist-packages (from python-dateutil>=2.8.0->qiskit) (1.16.0)\n",
            "Collecting pbr!=2.1.0,>=2.0.0 (from stevedore>=3.0.0->qiskit)\n",
            "  Downloading pbr-6.0.0-py2.py3-none-any.whl.metadata (1.3 kB)\n",
            "Requirement already satisfied: mpmath<1.4,>=1.1.0 in /usr/local/lib/python3.10/dist-packages (from sympy>=1.3->qiskit) (1.3.0)\n",
            "Downloading qiskit-1.1.1-cp38-abi3-manylinux_2_17_x86_64.manylinux2014_x86_64.whl (4.3 MB)\n",
            "\u001b[2K   \u001b[90m━━━━━━━━━━━━━━━━━━━━━━━━━━━━━━━━━━━━━━━━\u001b[0m \u001b[32m4.3/4.3 MB\u001b[0m \u001b[31m58.3 MB/s\u001b[0m eta \u001b[36m0:00:00\u001b[0m\n",
            "\u001b[?25hDownloading dill-0.3.8-py3-none-any.whl (116 kB)\n",
            "\u001b[2K   \u001b[90m━━━━━━━━━━━━━━━━━━━━━━━━━━━━━━━━━━━━━━━━\u001b[0m \u001b[32m116.3/116.3 kB\u001b[0m \u001b[31m13.0 MB/s\u001b[0m eta \u001b[36m0:00:00\u001b[0m\n",
            "\u001b[?25hDownloading rustworkx-0.15.1-cp38-abi3-manylinux_2_17_x86_64.manylinux2014_x86_64.whl (2.0 MB)\n",
            "\u001b[2K   \u001b[90m━━━━━━━━━━━━━━━━━━━━━━━━━━━━━━━━━━━━━━━━\u001b[0m \u001b[32m2.0/2.0 MB\u001b[0m \u001b[31m80.6 MB/s\u001b[0m eta \u001b[36m0:00:00\u001b[0m\n",
            "\u001b[?25hDownloading stevedore-5.2.0-py3-none-any.whl (49 kB)\n",
            "\u001b[2K   \u001b[90m━━━━━━━━━━━━━━━━━━━━━━━━━━━━━━━━━━━━━━━━\u001b[0m \u001b[32m49.7/49.7 kB\u001b[0m \u001b[31m4.3 MB/s\u001b[0m eta \u001b[36m0:00:00\u001b[0m\n",
            "\u001b[?25hDownloading symengine-0.11.0-cp310-cp310-manylinux_2_12_x86_64.manylinux2010_x86_64.whl (39.4 MB)\n",
            "\u001b[2K   \u001b[90m━━━━━━━━━━━━━━━━━━━━━━━━━━━━━━━━━━━━━━━━\u001b[0m \u001b[32m39.4/39.4 MB\u001b[0m \u001b[31m13.3 MB/s\u001b[0m eta \u001b[36m0:00:00\u001b[0m\n",
            "\u001b[?25hDownloading pbr-6.0.0-py2.py3-none-any.whl (107 kB)\n",
            "\u001b[2K   \u001b[90m━━━━━━━━━━━━━━━━━━━━━━━━━━━━━━━━━━━━━━━━\u001b[0m \u001b[32m107.5/107.5 kB\u001b[0m \u001b[31m10.8 MB/s\u001b[0m eta \u001b[36m0:00:00\u001b[0m\n",
            "\u001b[?25hInstalling collected packages: symengine, rustworkx, pbr, dill, stevedore, qiskit\n",
            "Successfully installed dill-0.3.8 pbr-6.0.0 qiskit-1.1.1 rustworkx-0.15.1 stevedore-5.2.0 symengine-0.11.0\n"
          ]
        }
      ],
      "source": [
        "!pip install qiskit"
      ]
    },
    {
      "cell_type": "code",
      "execution_count": null,
      "id": "266ab5c4-3399-4f47-bf16-17f87f3cfa66",
      "metadata": {
        "colab": {
          "base_uri": "https://localhost:8080/"
        },
        "id": "266ab5c4-3399-4f47-bf16-17f87f3cfa66",
        "outputId": "9e3599c0-ad9a-476f-c98c-7cfbc94c7c54"
      },
      "outputs": [
        {
          "output_type": "stream",
          "name": "stdout",
          "text": [
            "Collecting qiskit_algorithms\n",
            "  Downloading qiskit_algorithms-0.3.0-py3-none-any.whl.metadata (4.2 kB)\n",
            "Requirement already satisfied: qiskit>=0.44 in /usr/local/lib/python3.10/dist-packages (from qiskit_algorithms) (1.1.1)\n",
            "Requirement already satisfied: scipy>=1.4 in /usr/local/lib/python3.10/dist-packages (from qiskit_algorithms) (1.13.1)\n",
            "Requirement already satisfied: numpy>=1.17 in /usr/local/lib/python3.10/dist-packages (from qiskit_algorithms) (1.25.2)\n",
            "Requirement already satisfied: rustworkx>=0.14.0 in /usr/local/lib/python3.10/dist-packages (from qiskit>=0.44->qiskit_algorithms) (0.15.1)\n",
            "Requirement already satisfied: sympy>=1.3 in /usr/local/lib/python3.10/dist-packages (from qiskit>=0.44->qiskit_algorithms) (1.13.1)\n",
            "Requirement already satisfied: dill>=0.3 in /usr/local/lib/python3.10/dist-packages (from qiskit>=0.44->qiskit_algorithms) (0.3.8)\n",
            "Requirement already satisfied: python-dateutil>=2.8.0 in /usr/local/lib/python3.10/dist-packages (from qiskit>=0.44->qiskit_algorithms) (2.8.2)\n",
            "Requirement already satisfied: stevedore>=3.0.0 in /usr/local/lib/python3.10/dist-packages (from qiskit>=0.44->qiskit_algorithms) (5.2.0)\n",
            "Requirement already satisfied: typing-extensions in /usr/local/lib/python3.10/dist-packages (from qiskit>=0.44->qiskit_algorithms) (4.12.2)\n",
            "Requirement already satisfied: symengine>=0.11 in /usr/local/lib/python3.10/dist-packages (from qiskit>=0.44->qiskit_algorithms) (0.11.0)\n",
            "Requirement already satisfied: six>=1.5 in /usr/local/lib/python3.10/dist-packages (from python-dateutil>=2.8.0->qiskit>=0.44->qiskit_algorithms) (1.16.0)\n",
            "Requirement already satisfied: pbr!=2.1.0,>=2.0.0 in /usr/local/lib/python3.10/dist-packages (from stevedore>=3.0.0->qiskit>=0.44->qiskit_algorithms) (6.0.0)\n",
            "Requirement already satisfied: mpmath<1.4,>=1.1.0 in /usr/local/lib/python3.10/dist-packages (from sympy>=1.3->qiskit>=0.44->qiskit_algorithms) (1.3.0)\n",
            "Downloading qiskit_algorithms-0.3.0-py3-none-any.whl (308 kB)\n",
            "\u001b[?25l   \u001b[90m━━━━━━━━━━━━━━━━━━━━━━━━━━━━━━━━━━━━━━━━\u001b[0m \u001b[32m0.0/308.6 kB\u001b[0m \u001b[31m?\u001b[0m eta \u001b[36m-:--:--\u001b[0m\r\u001b[2K   \u001b[91m━━━━━━━━━━━━━━━━━━━━━━━━━━━━━━━━━━━━━━━\u001b[0m\u001b[91m╸\u001b[0m \u001b[32m307.2/308.6 kB\u001b[0m \u001b[31m8.9 MB/s\u001b[0m eta \u001b[36m0:00:01\u001b[0m\r\u001b[2K   \u001b[90m━━━━━━━━━━━━━━━━━━━━━━━━━━━━━━━━━━━━━━━━\u001b[0m \u001b[32m308.6/308.6 kB\u001b[0m \u001b[31m6.4 MB/s\u001b[0m eta \u001b[36m0:00:00\u001b[0m\n",
            "\u001b[?25hInstalling collected packages: qiskit_algorithms\n",
            "Successfully installed qiskit_algorithms-0.3.0\n"
          ]
        }
      ],
      "source": [
        "!pip install qiskit_algorithms"
      ]
    },
    {
      "cell_type": "code",
      "execution_count": null,
      "id": "3d7092a2-a636-43b7-8043-8601362fd36a",
      "metadata": {
        "colab": {
          "base_uri": "https://localhost:8080/"
        },
        "id": "3d7092a2-a636-43b7-8043-8601362fd36a",
        "outputId": "140dd12a-82b3-4ea9-d9ac-619f79c60ab1"
      },
      "outputs": [
        {
          "output_type": "stream",
          "name": "stdout",
          "text": [
            "Collecting qiskit_machine_learning\n",
            "  Downloading qiskit_machine_learning-0.7.2-py3-none-any.whl.metadata (12 kB)\n",
            "Requirement already satisfied: qiskit>=0.44 in /usr/local/lib/python3.10/dist-packages (from qiskit_machine_learning) (1.1.1)\n",
            "Requirement already satisfied: qiskit-algorithms>=0.2.0 in /usr/local/lib/python3.10/dist-packages (from qiskit_machine_learning) (0.3.0)\n",
            "Requirement already satisfied: scipy>=1.4 in /usr/local/lib/python3.10/dist-packages (from qiskit_machine_learning) (1.13.1)\n",
            "Requirement already satisfied: numpy>=1.17 in /usr/local/lib/python3.10/dist-packages (from qiskit_machine_learning) (1.25.2)\n",
            "Requirement already satisfied: psutil>=5 in /usr/local/lib/python3.10/dist-packages (from qiskit_machine_learning) (5.9.5)\n",
            "Requirement already satisfied: scikit-learn>=1.2.0 in /usr/local/lib/python3.10/dist-packages (from qiskit_machine_learning) (1.5.1)\n",
            "Collecting fastdtw (from qiskit_machine_learning)\n",
            "  Downloading fastdtw-0.3.4.tar.gz (133 kB)\n",
            "\u001b[2K     \u001b[90m━━━━━━━━━━━━━━━━━━━━━━━━━━━━━━━━━━━━━━━━\u001b[0m \u001b[32m133.4/133.4 kB\u001b[0m \u001b[31m4.4 MB/s\u001b[0m eta \u001b[36m0:00:00\u001b[0m\n",
            "\u001b[?25h  Preparing metadata (setup.py) ... \u001b[?25l\u001b[?25hdone\n",
            "Requirement already satisfied: setuptools>=40.1.0 in /usr/local/lib/python3.10/dist-packages (from qiskit_machine_learning) (71.0.4)\n",
            "Requirement already satisfied: dill>=0.3.4 in /usr/local/lib/python3.10/dist-packages (from qiskit_machine_learning) (0.3.8)\n",
            "Requirement already satisfied: rustworkx>=0.14.0 in /usr/local/lib/python3.10/dist-packages (from qiskit>=0.44->qiskit_machine_learning) (0.15.1)\n",
            "Requirement already satisfied: sympy>=1.3 in /usr/local/lib/python3.10/dist-packages (from qiskit>=0.44->qiskit_machine_learning) (1.13.1)\n",
            "Requirement already satisfied: python-dateutil>=2.8.0 in /usr/local/lib/python3.10/dist-packages (from qiskit>=0.44->qiskit_machine_learning) (2.8.2)\n",
            "Requirement already satisfied: stevedore>=3.0.0 in /usr/local/lib/python3.10/dist-packages (from qiskit>=0.44->qiskit_machine_learning) (5.2.0)\n",
            "Requirement already satisfied: typing-extensions in /usr/local/lib/python3.10/dist-packages (from qiskit>=0.44->qiskit_machine_learning) (4.12.2)\n",
            "Requirement already satisfied: symengine>=0.11 in /usr/local/lib/python3.10/dist-packages (from qiskit>=0.44->qiskit_machine_learning) (0.11.0)\n",
            "Requirement already satisfied: joblib>=1.2.0 in /usr/local/lib/python3.10/dist-packages (from scikit-learn>=1.2.0->qiskit_machine_learning) (1.4.2)\n",
            "Requirement already satisfied: threadpoolctl>=3.1.0 in /usr/local/lib/python3.10/dist-packages (from scikit-learn>=1.2.0->qiskit_machine_learning) (3.5.0)\n",
            "Requirement already satisfied: six>=1.5 in /usr/local/lib/python3.10/dist-packages (from python-dateutil>=2.8.0->qiskit>=0.44->qiskit_machine_learning) (1.16.0)\n",
            "Requirement already satisfied: pbr!=2.1.0,>=2.0.0 in /usr/local/lib/python3.10/dist-packages (from stevedore>=3.0.0->qiskit>=0.44->qiskit_machine_learning) (6.0.0)\n",
            "Requirement already satisfied: mpmath<1.4,>=1.1.0 in /usr/local/lib/python3.10/dist-packages (from sympy>=1.3->qiskit>=0.44->qiskit_machine_learning) (1.3.0)\n",
            "Downloading qiskit_machine_learning-0.7.2-py3-none-any.whl (97 kB)\n",
            "\u001b[2K   \u001b[90m━━━━━━━━━━━━━━━━━━━━━━━━━━━━━━━━━━━━━━━━\u001b[0m \u001b[32m97.8/97.8 kB\u001b[0m \u001b[31m8.4 MB/s\u001b[0m eta \u001b[36m0:00:00\u001b[0m\n",
            "\u001b[?25hBuilding wheels for collected packages: fastdtw\n",
            "  Building wheel for fastdtw (setup.py) ... \u001b[?25l\u001b[?25hdone\n",
            "  Created wheel for fastdtw: filename=fastdtw-0.3.4-cp310-cp310-linux_x86_64.whl size=512610 sha256=dd36c1fdf717548380e07874bdd027af0914990c08b212e3e435d864c58439b6\n",
            "  Stored in directory: /root/.cache/pip/wheels/73/c8/f7/c25448dab74c3acf4848bc25d513c736bb93910277e1528ef4\n",
            "Successfully built fastdtw\n",
            "Installing collected packages: fastdtw, qiskit_machine_learning\n",
            "Successfully installed fastdtw-0.3.4 qiskit_machine_learning-0.7.2\n"
          ]
        }
      ],
      "source": [
        "!pip install qiskit_machine_learning"
      ]
    },
    {
      "cell_type": "code",
      "execution_count": null,
      "id": "c87eabf3-5b93-49bc-b7de-7c35ac422945",
      "metadata": {
        "id": "c87eabf3-5b93-49bc-b7de-7c35ac422945"
      },
      "outputs": [],
      "source": [
        "import pandas as pd\n",
        "import numpy as np\n",
        "from sklearn.model_selection import train_test_split\n",
        "from sklearn.svm import SVC\n",
        "from sklearn.metrics import classification_report, confusion_matrix\n",
        "import matplotlib.pyplot as plt\n",
        "import seaborn as sns"
      ]
    },
    {
      "cell_type": "code",
      "execution_count": null,
      "id": "a1927a5f-65a0-4eb6-8f5a-503f8688b886",
      "metadata": {
        "id": "a1927a5f-65a0-4eb6-8f5a-503f8688b886"
      },
      "outputs": [],
      "source": [
        "df_iris = pd.read_csv('/content/iris.csv')"
      ]
    },
    {
      "cell_type": "code",
      "execution_count": null,
      "id": "94f36078-32a7-490f-90c6-124d019ffd12",
      "metadata": {
        "colab": {
          "base_uri": "https://localhost:8080/"
        },
        "id": "94f36078-32a7-490f-90c6-124d019ffd12",
        "outputId": "a93194d2-2d4d-4b7f-a52d-c5ae075874d4"
      },
      "outputs": [
        {
          "output_type": "stream",
          "name": "stdout",
          "text": [
            "      Id  SepalLengthCm  SepalWidthCm  PetalLengthCm  PetalWidthCm  \\\n",
            "0      1            5.1           3.5            1.4           0.2   \n",
            "1      2            4.9           3.0            1.4           0.2   \n",
            "2      3            4.7           3.2            1.3           0.2   \n",
            "3      4            4.6           3.1            1.5           0.2   \n",
            "4      5            5.0           3.6            1.4           0.2   \n",
            "..   ...            ...           ...            ...           ...   \n",
            "145  146            6.7           3.0            5.2           2.3   \n",
            "146  147            6.3           2.5            5.0           1.9   \n",
            "147  148            6.5           3.0            5.2           2.0   \n",
            "148  149            6.2           3.4            5.4           2.3   \n",
            "149  150            5.9           3.0            5.1           1.8   \n",
            "\n",
            "            Species  \n",
            "0       Iris-setosa  \n",
            "1       Iris-setosa  \n",
            "2       Iris-setosa  \n",
            "3       Iris-setosa  \n",
            "4       Iris-setosa  \n",
            "..              ...  \n",
            "145  Iris-virginica  \n",
            "146  Iris-virginica  \n",
            "147  Iris-virginica  \n",
            "148  Iris-virginica  \n",
            "149  Iris-virginica  \n",
            "\n",
            "[150 rows x 6 columns]\n"
          ]
        }
      ],
      "source": [
        "print(df_iris)"
      ]
    },
    {
      "cell_type": "code",
      "execution_count": null,
      "id": "777fe91d-3882-4e6d-8ed5-af4069868e05",
      "metadata": {
        "id": "777fe91d-3882-4e6d-8ed5-af4069868e05"
      },
      "outputs": [],
      "source": [
        "iris_data = pd.DataFrame(df_iris, columns=['SepalLengthCm', 'SepalWidthCm', 'PetalLengthCm', 'PetalWidthCm'])\n",
        "iris_target = pd.DataFrame(df_iris, columns=['Species'])"
      ]
    },
    {
      "cell_type": "code",
      "execution_count": null,
      "id": "664b2914-cc3c-46d2-86dd-b5c5940be0f9",
      "metadata": {
        "colab": {
          "base_uri": "https://localhost:8080/"
        },
        "id": "664b2914-cc3c-46d2-86dd-b5c5940be0f9",
        "outputId": "2a5e143c-66cd-4428-d6db-e61b0d95c8c3"
      },
      "outputs": [
        {
          "output_type": "stream",
          "name": "stdout",
          "text": [
            "Confusion Matrix\n",
            "[[14  0  0]\n",
            " [ 0 14  3]\n",
            " [ 0  0 14]]\n",
            "Classification Report\n",
            "                 precision    recall  f1-score   support\n",
            "\n",
            "    Iris-setosa       1.00      1.00      1.00        14\n",
            "Iris-versicolor       1.00      0.82      0.90        17\n",
            " Iris-virginica       0.82      1.00      0.90        14\n",
            "\n",
            "       accuracy                           0.93        45\n",
            "      macro avg       0.94      0.94      0.94        45\n",
            "   weighted avg       0.95      0.93      0.93        45\n",
            "\n",
            "Predict the flower type for data Sepal (4.4, 4.4) and Petal (4.4, 4.4)\n"
          ]
        },
        {
          "output_type": "execute_result",
          "data": {
            "text/plain": [
              "array(['Iris-virginica'], dtype=object)"
            ]
          },
          "metadata": {},
          "execution_count": 14
        }
      ],
      "source": [
        "x = iris_data[['SepalLengthCm', 'SepalWidthCm', 'PetalLengthCm', 'PetalWidthCm']]\n",
        "y = iris_target[[\"Species\"]]\n",
        "x_train,x_test, y_train, y_test=train_test_split(x,y,test_size=0.30)\n",
        "C = 1.0\n",
        "csvm_model = SVC()\n",
        "csvm_model.fit(x_train.values, y_train.values.ravel())\n",
        "csvm_pred = csvm_model.predict(x_test.values)\n",
        "print(\"Confusion Matrix\")\n",
        "print(confusion_matrix(y_test, csvm_pred))\n",
        "print(\"Classification Report\")\n",
        "print(classification_report(y_test, csvm_pred))\n",
        "print(\"Predict the flower type for data Sepal (4.4, 4.4) and Petal (4.4, 4.4)\")\n",
        "csvm_model.predict([[4.4,4.4,4.4,4.4]])"
      ]
    },
    {
      "cell_type": "code",
      "execution_count": null,
      "id": "a74aa38b-6289-451e-b3f8-56f411727c4c",
      "metadata": {
        "id": "a74aa38b-6289-451e-b3f8-56f411727c4c"
      },
      "outputs": [],
      "source": [
        "from qiskit.circuit.library import ZZFeatureMap\n",
        "from qiskit.primitives import Sampler\n",
        "from qiskit_algorithms.state_fidelities import ComputeUncompute\n",
        "from qiskit_machine_learning.kernels import FidelityQuantumKernel\n",
        "adhoc_dimension=4\n",
        "adhoc_feature_map = ZZFeatureMap(feature_dimension=adhoc_dimension, reps=2, entanglement=\"linear\")\n",
        "#classical data is encoded into qubit angles\n",
        "sampler = Sampler()\n",
        "fidelity = ComputeUncompute(sampler=sampler)\n",
        "adhoc_kernel = FidelityQuantumKernel(fidelity=fidelity, feature_map=adhoc_feature_map)"
      ]
    },
    {
      "cell_type": "code",
      "source": [
        "adhoc_feature_map.decompose().draw()"
      ],
      "metadata": {
        "colab": {
          "base_uri": "https://localhost:8080/",
          "height": 710
        },
        "id": "KlXx2z5vnx4g",
        "outputId": "e3ec92b8-fc0f-4b21-86cb-2d3adf128e0e"
      },
      "id": "KlXx2z5vnx4g",
      "execution_count": null,
      "outputs": [
        {
          "output_type": "execute_result",
          "data": {
            "text/plain": [
              "     ┌───┐┌─────────────┐                                          ┌───┐»\n",
              "q_0: ┤ H ├┤ P(2.0*x[0]) ├──■────────────────────────────────────■──┤ H ├»\n",
              "     ├───┤├─────────────┤┌─┴─┐┌──────────────────────────────┐┌─┴─┐└───┘»\n",
              "q_1: ┤ H ├┤ P(2.0*x[1]) ├┤ X ├┤ P(2.0*(π - x[0])*(π - x[1])) ├┤ X ├──■──»\n",
              "     ├───┤├─────────────┤└───┘└──────────────────────────────┘└───┘┌─┴─┐»\n",
              "q_2: ┤ H ├┤ P(2.0*x[2]) ├──────────────────────────────────────────┤ X ├»\n",
              "     ├───┤├─────────────┤                                          └───┘»\n",
              "q_3: ┤ H ├┤ P(2.0*x[3]) ├───────────────────────────────────────────────»\n",
              "     └───┘└─────────────┘                                               »\n",
              "«             ┌─────────────┐                   »\n",
              "«q_0: ────────┤ P(2.0*x[0]) ├───────────────────»\n",
              "«             └─────────────┘              ┌───┐»\n",
              "«q_1: ──────────────────────────────────■──┤ H ├»\n",
              "«     ┌──────────────────────────────┐┌─┴─┐└───┘»\n",
              "«q_2: ┤ P(2.0*(π - x[1])*(π - x[2])) ├┤ X ├──■──»\n",
              "«     └──────────────────────────────┘└───┘┌─┴─┐»\n",
              "«q_3: ─────────────────────────────────────┤ X ├»\n",
              "«                                          └───┘»\n",
              "«                                                                          »\n",
              "«q_0: ──────────────────────────────────■──────────────────────────────────»\n",
              "«             ┌─────────────┐         ┌─┴─┐┌──────────────────────────────┐»\n",
              "«q_1: ────────┤ P(2.0*x[1]) ├─────────┤ X ├┤ P(2.0*(π - x[0])*(π - x[1])) ├»\n",
              "«             └─────────────┘         └───┘└────────────┬───┬─────────────┘»\n",
              "«q_2: ──────────────────────────────────■───────────────┤ H ├──────────────»\n",
              "«     ┌──────────────────────────────┐┌─┴─┐             ├───┤              »\n",
              "«q_3: ┤ P(2.0*(π - x[2])*(π - x[3])) ├┤ X ├─────────────┤ H ├──────────────»\n",
              "«     └──────────────────────────────┘└───┘             └───┘              »\n",
              "«                                                                   »\n",
              "«q_0: ───────■──────────────────────────────────────────────────────»\n",
              "«          ┌─┴─┐                                                    »\n",
              "«q_1: ─────┤ X ├───────■────────────────────────────────────■───────»\n",
              "«     ┌────┴───┴────┐┌─┴─┐┌──────────────────────────────┐┌─┴─┐     »\n",
              "«q_2: ┤ P(2.0*x[2]) ├┤ X ├┤ P(2.0*(π - x[1])*(π - x[2])) ├┤ X ├──■──»\n",
              "«     ├─────────────┤└───┘└──────────────────────────────┘└───┘┌─┴─┐»\n",
              "«q_3: ┤ P(2.0*x[3]) ├──────────────────────────────────────────┤ X ├»\n",
              "«     └─────────────┘                                          └───┘»\n",
              "«                                          \n",
              "«q_0: ─────────────────────────────────────\n",
              "«                                          \n",
              "«q_1: ─────────────────────────────────────\n",
              "«                                          \n",
              "«q_2: ──────────────────────────────────■──\n",
              "«     ┌──────────────────────────────┐┌─┴─┐\n",
              "«q_3: ┤ P(2.0*(π - x[2])*(π - x[3])) ├┤ X ├\n",
              "«     └──────────────────────────────┘└───┘"
            ],
            "text/html": [
              "<pre style=\"word-wrap: normal;white-space: pre;background: #fff0;line-height: 1.1;font-family: &quot;Courier New&quot;,Courier,monospace\">     ┌───┐┌─────────────┐                                          ┌───┐»\n",
              "q_0: ┤ H ├┤ P(2.0*x[0]) ├──■────────────────────────────────────■──┤ H ├»\n",
              "     ├───┤├─────────────┤┌─┴─┐┌──────────────────────────────┐┌─┴─┐└───┘»\n",
              "q_1: ┤ H ├┤ P(2.0*x[1]) ├┤ X ├┤ P(2.0*(π - x[0])*(π - x[1])) ├┤ X ├──■──»\n",
              "     ├───┤├─────────────┤└───┘└──────────────────────────────┘└───┘┌─┴─┐»\n",
              "q_2: ┤ H ├┤ P(2.0*x[2]) ├──────────────────────────────────────────┤ X ├»\n",
              "     ├───┤├─────────────┤                                          └───┘»\n",
              "q_3: ┤ H ├┤ P(2.0*x[3]) ├───────────────────────────────────────────────»\n",
              "     └───┘└─────────────┘                                               »\n",
              "«             ┌─────────────┐                   »\n",
              "«q_0: ────────┤ P(2.0*x[0]) ├───────────────────»\n",
              "«             └─────────────┘              ┌───┐»\n",
              "«q_1: ──────────────────────────────────■──┤ H ├»\n",
              "«     ┌──────────────────────────────┐┌─┴─┐└───┘»\n",
              "«q_2: ┤ P(2.0*(π - x[1])*(π - x[2])) ├┤ X ├──■──»\n",
              "«     └──────────────────────────────┘└───┘┌─┴─┐»\n",
              "«q_3: ─────────────────────────────────────┤ X ├»\n",
              "«                                          └───┘»\n",
              "«                                                                          »\n",
              "«q_0: ──────────────────────────────────■──────────────────────────────────»\n",
              "«             ┌─────────────┐         ┌─┴─┐┌──────────────────────────────┐»\n",
              "«q_1: ────────┤ P(2.0*x[1]) ├─────────┤ X ├┤ P(2.0*(π - x[0])*(π - x[1])) ├»\n",
              "«             └─────────────┘         └───┘└────────────┬───┬─────────────┘»\n",
              "«q_2: ──────────────────────────────────■───────────────┤ H ├──────────────»\n",
              "«     ┌──────────────────────────────┐┌─┴─┐             ├───┤              »\n",
              "«q_3: ┤ P(2.0*(π - x[2])*(π - x[3])) ├┤ X ├─────────────┤ H ├──────────────»\n",
              "«     └──────────────────────────────┘└───┘             └───┘              »\n",
              "«                                                                   »\n",
              "«q_0: ───────■──────────────────────────────────────────────────────»\n",
              "«          ┌─┴─┐                                                    »\n",
              "«q_1: ─────┤ X ├───────■────────────────────────────────────■───────»\n",
              "«     ┌────┴───┴────┐┌─┴─┐┌──────────────────────────────┐┌─┴─┐     »\n",
              "«q_2: ┤ P(2.0*x[2]) ├┤ X ├┤ P(2.0*(π - x[1])*(π - x[2])) ├┤ X ├──■──»\n",
              "«     ├─────────────┤└───┘└──────────────────────────────┘└───┘┌─┴─┐»\n",
              "«q_3: ┤ P(2.0*x[3]) ├──────────────────────────────────────────┤ X ├»\n",
              "«     └─────────────┘                                          └───┘»\n",
              "«                                          \n",
              "«q_0: ─────────────────────────────────────\n",
              "«                                          \n",
              "«q_1: ─────────────────────────────────────\n",
              "«                                          \n",
              "«q_2: ──────────────────────────────────■──\n",
              "«     ┌──────────────────────────────┐┌─┴─┐\n",
              "«q_3: ┤ P(2.0*(π - x[2])*(π - x[3])) ├┤ X ├\n",
              "«     └──────────────────────────────┘└───┘</pre>"
            ]
          },
          "metadata": {},
          "execution_count": 22
        }
      ]
    },
    {
      "cell_type": "code",
      "execution_count": null,
      "id": "65a4ee9c-8717-4b3b-930b-e1b86db37312",
      "metadata": {
        "scrolled": true,
        "colab": {
          "base_uri": "https://localhost:8080/"
        },
        "id": "65a4ee9c-8717-4b3b-930b-e1b86db37312",
        "outputId": "ebe2bf7d-2a9d-46c0-99c4-863f895a0182"
      },
      "outputs": [
        {
          "output_type": "stream",
          "name": "stdout",
          "text": [
            "Confusion Matrix\n",
            "[[12  0  2]\n",
            " [ 0 15  2]\n",
            " [ 1  3 10]]\n",
            "Classification Report\n",
            "                 precision    recall  f1-score   support\n",
            "\n",
            "    Iris-setosa       0.92      0.86      0.89        14\n",
            "Iris-versicolor       0.83      0.88      0.86        17\n",
            " Iris-virginica       0.71      0.71      0.71        14\n",
            "\n",
            "       accuracy                           0.82        45\n",
            "      macro avg       0.82      0.82      0.82        45\n",
            "   weighted avg       0.82      0.82      0.82        45\n",
            "\n",
            "Predict the flower type for data Sepal (4.4, 4.4) and Petal (4.4, 4.4)\n"
          ]
        },
        {
          "output_type": "execute_result",
          "data": {
            "text/plain": [
              "array(['Iris-versicolor'], dtype=object)"
            ]
          },
          "metadata": {},
          "execution_count": 23
        }
      ],
      "source": [
        "from qiskit_machine_learning.algorithms import QSVC\n",
        "\n",
        "qsvm_model = QSVC(quantum_kernel=adhoc_kernel)\n",
        "\n",
        "qsvm_model.fit(x_train, y_train.values.ravel())\n",
        "\n",
        "qsvm_pred = qsvm_model.predict(x_test)\n",
        "print(\"Confusion Matrix\")\n",
        "print(confusion_matrix(y_test, qsvm_pred))\n",
        "print(\"Classification Report\")\n",
        "print(classification_report(y_test, qsvm_pred))\n",
        "print(\"Predict the flower type for data Sepal (4.4, 4.4) and Petal (4.4, 4.4)\")\n",
        "qsvm_model.predict([[4.4,4.4,4.4,4.4]])"
      ]
    }
  ],
  "metadata": {
    "kernelspec": {
      "display_name": "Python 3",
      "name": "python3"
    },
    "language_info": {
      "codemirror_mode": {
        "name": "ipython",
        "version": 3
      },
      "file_extension": ".py",
      "mimetype": "text/x-python",
      "name": "python",
      "nbconvert_exporter": "python",
      "pygments_lexer": "ipython3",
      "version": "3.10.12"
    },
    "colab": {
      "provenance": [],
      "gpuType": "T4"
    },
    "accelerator": "GPU"
  },
  "nbformat": 4,
  "nbformat_minor": 5
}