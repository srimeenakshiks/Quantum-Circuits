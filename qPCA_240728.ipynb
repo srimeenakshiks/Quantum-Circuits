{
  "cells": [
    {
      "cell_type": "markdown",
      "id": "dd834abc-6ccd-43e5-afc1-b0cad4184c8f",
      "metadata": {
        "id": "dd834abc-6ccd-43e5-afc1-b0cad4184c8f"
      },
      "source": [
        "qPCA Demo"
      ]
    },
    {
      "cell_type": "code",
      "execution_count": null,
      "id": "4ad10b4b-30e3-4f6d-96e1-84d1eaaf2488",
      "metadata": {
        "colab": {
          "base_uri": "https://localhost:8080/"
        },
        "id": "4ad10b4b-30e3-4f6d-96e1-84d1eaaf2488",
        "outputId": "8c2c5fa0-f534-470b-ef5b-e8351acdf448"
      },
      "outputs": [
        {
          "output_type": "stream",
          "name": "stdout",
          "text": [
            "Collecting qiskit_algorithms\n",
            "  Downloading qiskit_algorithms-0.3.0-py3-none-any.whl.metadata (4.2 kB)\n",
            "Collecting qiskit>=0.44 (from qiskit_algorithms)\n",
            "  Downloading qiskit-1.1.1-cp38-abi3-manylinux_2_17_x86_64.manylinux2014_x86_64.whl.metadata (12 kB)\n",
            "Requirement already satisfied: scipy>=1.4 in /usr/local/lib/python3.10/dist-packages (from qiskit_algorithms) (1.13.1)\n",
            "Requirement already satisfied: numpy>=1.17 in /usr/local/lib/python3.10/dist-packages (from qiskit_algorithms) (1.25.2)\n",
            "Collecting rustworkx>=0.14.0 (from qiskit>=0.44->qiskit_algorithms)\n",
            "  Downloading rustworkx-0.15.1-cp38-abi3-manylinux_2_17_x86_64.manylinux2014_x86_64.whl.metadata (9.9 kB)\n",
            "Requirement already satisfied: sympy>=1.3 in /usr/local/lib/python3.10/dist-packages (from qiskit>=0.44->qiskit_algorithms) (1.13.1)\n",
            "Collecting dill>=0.3 (from qiskit>=0.44->qiskit_algorithms)\n",
            "  Downloading dill-0.3.8-py3-none-any.whl.metadata (10 kB)\n",
            "Requirement already satisfied: python-dateutil>=2.8.0 in /usr/local/lib/python3.10/dist-packages (from qiskit>=0.44->qiskit_algorithms) (2.8.2)\n",
            "Collecting stevedore>=3.0.0 (from qiskit>=0.44->qiskit_algorithms)\n",
            "  Downloading stevedore-5.2.0-py3-none-any.whl.metadata (2.3 kB)\n",
            "Requirement already satisfied: typing-extensions in /usr/local/lib/python3.10/dist-packages (from qiskit>=0.44->qiskit_algorithms) (4.12.2)\n",
            "Collecting symengine>=0.11 (from qiskit>=0.44->qiskit_algorithms)\n",
            "  Downloading symengine-0.11.0-cp310-cp310-manylinux_2_12_x86_64.manylinux2010_x86_64.whl.metadata (1.2 kB)\n",
            "Requirement already satisfied: six>=1.5 in /usr/local/lib/python3.10/dist-packages (from python-dateutil>=2.8.0->qiskit>=0.44->qiskit_algorithms) (1.16.0)\n",
            "Collecting pbr!=2.1.0,>=2.0.0 (from stevedore>=3.0.0->qiskit>=0.44->qiskit_algorithms)\n",
            "  Downloading pbr-6.0.0-py2.py3-none-any.whl.metadata (1.3 kB)\n",
            "Requirement already satisfied: mpmath<1.4,>=1.1.0 in /usr/local/lib/python3.10/dist-packages (from sympy>=1.3->qiskit>=0.44->qiskit_algorithms) (1.3.0)\n",
            "Downloading qiskit_algorithms-0.3.0-py3-none-any.whl (308 kB)\n",
            "\u001b[2K   \u001b[90m━━━━━━━━━━━━━━━━━━━━━━━━━━━━━━━━━━━━━━━━\u001b[0m \u001b[32m308.6/308.6 kB\u001b[0m \u001b[31m4.7 MB/s\u001b[0m eta \u001b[36m0:00:00\u001b[0m\n",
            "\u001b[?25hDownloading qiskit-1.1.1-cp38-abi3-manylinux_2_17_x86_64.manylinux2014_x86_64.whl (4.3 MB)\n",
            "\u001b[2K   \u001b[90m━━━━━━━━━━━━━━━━━━━━━━━━━━━━━━━━━━━━━━━━\u001b[0m \u001b[32m4.3/4.3 MB\u001b[0m \u001b[31m35.8 MB/s\u001b[0m eta \u001b[36m0:00:00\u001b[0m\n",
            "\u001b[?25hDownloading dill-0.3.8-py3-none-any.whl (116 kB)\n",
            "\u001b[2K   \u001b[90m━━━━━━━━━━━━━━━━━━━━━━━━━━━━━━━━━━━━━━━━\u001b[0m \u001b[32m116.3/116.3 kB\u001b[0m \u001b[31m8.3 MB/s\u001b[0m eta \u001b[36m0:00:00\u001b[0m\n",
            "\u001b[?25hDownloading rustworkx-0.15.1-cp38-abi3-manylinux_2_17_x86_64.manylinux2014_x86_64.whl (2.0 MB)\n",
            "\u001b[2K   \u001b[90m━━━━━━━━━━━━━━━━━━━━━━━━━━━━━━━━━━━━━━━━\u001b[0m \u001b[32m2.0/2.0 MB\u001b[0m \u001b[31m45.3 MB/s\u001b[0m eta \u001b[36m0:00:00\u001b[0m\n",
            "\u001b[?25hDownloading stevedore-5.2.0-py3-none-any.whl (49 kB)\n",
            "\u001b[2K   \u001b[90m━━━━━━━━━━━━━━━━━━━━━━━━━━━━━━━━━━━━━━━━\u001b[0m \u001b[32m49.7/49.7 kB\u001b[0m \u001b[31m3.3 MB/s\u001b[0m eta \u001b[36m0:00:00\u001b[0m\n",
            "\u001b[?25hDownloading symengine-0.11.0-cp310-cp310-manylinux_2_12_x86_64.manylinux2010_x86_64.whl (39.4 MB)\n",
            "\u001b[2K   \u001b[90m━━━━━━━━━━━━━━━━━━━━━━━━━━━━━━━━━━━━━━━━\u001b[0m \u001b[32m39.4/39.4 MB\u001b[0m \u001b[31m13.6 MB/s\u001b[0m eta \u001b[36m0:00:00\u001b[0m\n",
            "\u001b[?25hDownloading pbr-6.0.0-py2.py3-none-any.whl (107 kB)\n",
            "\u001b[2K   \u001b[90m━━━━━━━━━━━━━━━━━━━━━━━━━━━━━━━━━━━━━━━━\u001b[0m \u001b[32m107.5/107.5 kB\u001b[0m \u001b[31m7.1 MB/s\u001b[0m eta \u001b[36m0:00:00\u001b[0m\n",
            "\u001b[?25hInstalling collected packages: symengine, rustworkx, pbr, dill, stevedore, qiskit, qiskit_algorithms\n",
            "Successfully installed dill-0.3.8 pbr-6.0.0 qiskit-1.1.1 qiskit_algorithms-0.3.0 rustworkx-0.15.1 stevedore-5.2.0 symengine-0.11.0\n",
            "Collecting qiskit_machine_learning\n",
            "  Downloading qiskit_machine_learning-0.7.2-py3-none-any.whl.metadata (12 kB)\n",
            "Requirement already satisfied: qiskit>=0.44 in /usr/local/lib/python3.10/dist-packages (from qiskit_machine_learning) (1.1.1)\n",
            "Requirement already satisfied: qiskit-algorithms>=0.2.0 in /usr/local/lib/python3.10/dist-packages (from qiskit_machine_learning) (0.3.0)\n",
            "Requirement already satisfied: scipy>=1.4 in /usr/local/lib/python3.10/dist-packages (from qiskit_machine_learning) (1.13.1)\n",
            "Requirement already satisfied: numpy>=1.17 in /usr/local/lib/python3.10/dist-packages (from qiskit_machine_learning) (1.25.2)\n",
            "Requirement already satisfied: psutil>=5 in /usr/local/lib/python3.10/dist-packages (from qiskit_machine_learning) (5.9.5)\n",
            "Requirement already satisfied: scikit-learn>=1.2.0 in /usr/local/lib/python3.10/dist-packages (from qiskit_machine_learning) (1.3.2)\n",
            "Collecting fastdtw (from qiskit_machine_learning)\n",
            "  Downloading fastdtw-0.3.4.tar.gz (133 kB)\n",
            "\u001b[2K     \u001b[90m━━━━━━━━━━━━━━━━━━━━━━━━━━━━━━━━━━━━━━━━\u001b[0m \u001b[32m133.4/133.4 kB\u001b[0m \u001b[31m2.5 MB/s\u001b[0m eta \u001b[36m0:00:00\u001b[0m\n",
            "\u001b[?25h  Preparing metadata (setup.py) ... \u001b[?25l\u001b[?25hdone\n",
            "Requirement already satisfied: setuptools>=40.1.0 in /usr/local/lib/python3.10/dist-packages (from qiskit_machine_learning) (71.0.4)\n",
            "Requirement already satisfied: dill>=0.3.4 in /usr/local/lib/python3.10/dist-packages (from qiskit_machine_learning) (0.3.8)\n",
            "Requirement already satisfied: rustworkx>=0.14.0 in /usr/local/lib/python3.10/dist-packages (from qiskit>=0.44->qiskit_machine_learning) (0.15.1)\n",
            "Requirement already satisfied: sympy>=1.3 in /usr/local/lib/python3.10/dist-packages (from qiskit>=0.44->qiskit_machine_learning) (1.13.1)\n",
            "Requirement already satisfied: python-dateutil>=2.8.0 in /usr/local/lib/python3.10/dist-packages (from qiskit>=0.44->qiskit_machine_learning) (2.8.2)\n",
            "Requirement already satisfied: stevedore>=3.0.0 in /usr/local/lib/python3.10/dist-packages (from qiskit>=0.44->qiskit_machine_learning) (5.2.0)\n",
            "Requirement already satisfied: typing-extensions in /usr/local/lib/python3.10/dist-packages (from qiskit>=0.44->qiskit_machine_learning) (4.12.2)\n",
            "Requirement already satisfied: symengine>=0.11 in /usr/local/lib/python3.10/dist-packages (from qiskit>=0.44->qiskit_machine_learning) (0.11.0)\n",
            "Requirement already satisfied: joblib>=1.1.1 in /usr/local/lib/python3.10/dist-packages (from scikit-learn>=1.2.0->qiskit_machine_learning) (1.4.2)\n",
            "Requirement already satisfied: threadpoolctl>=2.0.0 in /usr/local/lib/python3.10/dist-packages (from scikit-learn>=1.2.0->qiskit_machine_learning) (3.5.0)\n",
            "Requirement already satisfied: six>=1.5 in /usr/local/lib/python3.10/dist-packages (from python-dateutil>=2.8.0->qiskit>=0.44->qiskit_machine_learning) (1.16.0)\n",
            "Requirement already satisfied: pbr!=2.1.0,>=2.0.0 in /usr/local/lib/python3.10/dist-packages (from stevedore>=3.0.0->qiskit>=0.44->qiskit_machine_learning) (6.0.0)\n",
            "Requirement already satisfied: mpmath<1.4,>=1.1.0 in /usr/local/lib/python3.10/dist-packages (from sympy>=1.3->qiskit>=0.44->qiskit_machine_learning) (1.3.0)\n",
            "Downloading qiskit_machine_learning-0.7.2-py3-none-any.whl (97 kB)\n",
            "\u001b[2K   \u001b[90m━━━━━━━━━━━━━━━━━━━━━━━━━━━━━━━━━━━━━━━━\u001b[0m \u001b[32m97.8/97.8 kB\u001b[0m \u001b[31m3.7 MB/s\u001b[0m eta \u001b[36m0:00:00\u001b[0m\n",
            "\u001b[?25hBuilding wheels for collected packages: fastdtw\n",
            "  Building wheel for fastdtw (setup.py) ... \u001b[?25l\u001b[?25hdone\n",
            "  Created wheel for fastdtw: filename=fastdtw-0.3.4-cp310-cp310-linux_x86_64.whl size=512615 sha256=f6377009f7d5fc2f6a59c896ee2ab11e995dce52f661f07656e821a193667a9d\n",
            "  Stored in directory: /root/.cache/pip/wheels/73/c8/f7/c25448dab74c3acf4848bc25d513c736bb93910277e1528ef4\n",
            "Successfully built fastdtw\n",
            "Installing collected packages: fastdtw, qiskit_machine_learning\n",
            "Successfully installed fastdtw-0.3.4 qiskit_machine_learning-0.7.2\n"
          ]
        }
      ],
      "source": [
        "!pip install qiskit_algorithms\n",
        "!pip install qiskit_machine_learning"
      ]
    },
    {
      "cell_type": "code",
      "execution_count": null,
      "id": "26e524d9-72e3-4fdc-993c-8f222347e03d",
      "metadata": {
        "id": "26e524d9-72e3-4fdc-993c-8f222347e03d"
      },
      "outputs": [],
      "source": [
        "from qiskit_algorithms.utils import algorithm_globals\n",
        "algorithm_globals.random_seed = 12345"
      ]
    },
    {
      "cell_type": "code",
      "execution_count": null,
      "id": "7f9401be-d5f7-434e-8819-5e46055f3976",
      "metadata": {
        "id": "7f9401be-d5f7-434e-8819-5e46055f3976"
      },
      "outputs": [],
      "source": [
        "from qiskit_machine_learning.datasets import ad_hoc_data\n",
        "from qiskit.circuit.library import ZZFeatureMap #angle/phase encoding\n",
        "from qiskit.primitives import Sampler #a Sampler is an object used for running quantum circuits on a quantum device or simulator.\n",
        "from qiskit_algorithms.state_fidelities import ComputeUncompute\n",
        "from qiskit_machine_learning.kernels import FidelityQuantumKernel"
      ]
    },
    {
      "cell_type": "code",
      "execution_count": null,
      "id": "c3660cf9-312e-451a-867b-6cbb950946af",
      "metadata": {
        "id": "c3660cf9-312e-451a-867b-6cbb950946af"
      },
      "outputs": [],
      "source": [
        "import matplotlib.pyplot as plt\n",
        "import numpy as np\n",
        "\n",
        "def plot_features(ax, features, labels, class_labels, marker, face, edge, label):\n",
        "    ax.scatter(\n",
        "        features[np.where(labels[:] == class_labels), 0],\n",
        "        features[np.where(labels[:] == class_labels), 1],\n",
        "        marker = marker,\n",
        "        facecolors = face,\n",
        "        edgecolors = edge,\n",
        "        label = label,\n",
        "    )\n",
        "\n",
        "def plot_dataset(train_features, train_labels, test_features, test_labels, adhoc_total):\n",
        "    plt.figure(figsize = (5,5))\n",
        "    plt.ylim(0, 2*np.pi)\n",
        "    plt.xlim(0, 2*np.pi)\n",
        "    plt.imshow(\n",
        "        np.asmatrix(adhoc_total).T,\n",
        "        interpolation = \"nearest\",\n",
        "        origin = \"lower\",\n",
        "        cmap = \"RdBu\",\n",
        "        extent = [0,2*np.pi, 0, 2*np.pi],\n",
        "    )"
      ]
    },
    {
      "cell_type": "code",
      "execution_count": null,
      "id": "52cde59a-a4b3-4c59-b5a3-d7edaa329e8f",
      "metadata": {
        "id": "52cde59a-a4b3-4c59-b5a3-d7edaa329e8f"
      },
      "outputs": [],
      "source": [
        "adhoc_dimension = 2\n",
        "train_features, train_labels, test_features,test_labels, adhoc_total = ad_hoc_data(\n",
        "    training_size = 25,\n",
        "    test_size = 10,\n",
        "    n = adhoc_dimension,\n",
        "    gap = 0.6,\n",
        "    plot_data = False,\n",
        "    one_hot = False,\n",
        "    include_sample_total = True,\n",
        ")\n"
      ]
    },
    {
      "cell_type": "code",
      "source": [
        "train_features"
      ],
      "metadata": {
        "colab": {
          "base_uri": "https://localhost:8080/"
        },
        "id": "GuKwK9ciyn1Y",
        "outputId": "8ba0810e-9a70-4a08-d6ca-8932770666ca"
      },
      "id": "GuKwK9ciyn1Y",
      "execution_count": null,
      "outputs": [
        {
          "output_type": "execute_result",
          "data": {
            "text/plain": [
              "array([[4.27256601, 5.65486678],\n",
              "       [4.77522083, 2.95309709],\n",
              "       [5.2150438 , 3.01592895],\n",
              "       [3.76991118, 5.2150438 ],\n",
              "       [2.32477856, 3.83274304],\n",
              "       [5.0893801 , 1.25663706],\n",
              "       [2.07345115, 1.50796447],\n",
              "       [2.136283  , 0.50265482],\n",
              "       [4.33539786, 2.63893783],\n",
              "       [1.82212374, 1.31946891],\n",
              "       [0.9424778 , 0.31415927],\n",
              "       [2.57610598, 1.00530965],\n",
              "       [1.44513262, 3.14159265],\n",
              "       [2.136283  , 3.01592895],\n",
              "       [4.1469023 , 3.20442451],\n",
              "       [5.34070751, 3.01592895],\n",
              "       [0.        , 4.77522083],\n",
              "       [5.52920307, 0.31415927],\n",
              "       [4.1469023 , 0.        ],\n",
              "       [4.20973416, 0.56548668],\n",
              "       [0.69115038, 3.20442451],\n",
              "       [2.51327412, 1.0681415 ],\n",
              "       [0.31415927, 6.09468975],\n",
              "       [4.27256601, 5.52920307],\n",
              "       [0.18849556, 4.77522083],\n",
              "       [0.18849556, 0.9424778 ],\n",
              "       [3.26725636, 1.69646003],\n",
              "       [4.77522083, 5.84336234],\n",
              "       [1.44513262, 5.96902604],\n",
              "       [2.95309709, 4.27256601],\n",
              "       [2.89026524, 2.38761042],\n",
              "       [3.01592895, 2.26194671],\n",
              "       [3.20442451, 1.50796447],\n",
              "       [3.14159265, 1.50796447],\n",
              "       [3.01592895, 2.32477856],\n",
              "       [2.89026524, 4.52389342],\n",
              "       [3.01592895, 4.52389342],\n",
              "       [3.14159265, 5.02654825],\n",
              "       [3.33008821, 4.83805269],\n",
              "       [3.0787608 , 1.57079633],\n",
              "       [3.0787608 , 1.25663706],\n",
              "       [1.69646003, 3.95840674],\n",
              "       [6.03185789, 5.71769863],\n",
              "       [6.22035345, 4.1469023 ],\n",
              "       [3.26725636, 2.0106193 ],\n",
              "       [5.65486678, 6.09468975],\n",
              "       [0.56548668, 4.46106157],\n",
              "       [6.22035345, 2.45044227],\n",
              "       [3.20442451, 1.50796447],\n",
              "       [2.95309709, 4.83805269]])"
            ]
          },
          "metadata": {},
          "execution_count": 35
        }
      ]
    },
    {
      "cell_type": "code",
      "source": [
        "train_features.shape"
      ],
      "metadata": {
        "colab": {
          "base_uri": "https://localhost:8080/"
        },
        "id": "k5tyrBJjaPfA",
        "outputId": "befb20dd-f565-4efa-92b9-f607b32c7a7b"
      },
      "id": "k5tyrBJjaPfA",
      "execution_count": null,
      "outputs": [
        {
          "output_type": "execute_result",
          "data": {
            "text/plain": [
              "(50, 2)"
            ]
          },
          "metadata": {},
          "execution_count": 62
        }
      ]
    },
    {
      "cell_type": "code",
      "source": [
        "train_labels"
      ],
      "metadata": {
        "colab": {
          "base_uri": "https://localhost:8080/"
        },
        "id": "QoWtIGgxzU1n",
        "outputId": "a7a84fbe-85b7-45d0-8a5a-17772ca85701"
      },
      "id": "QoWtIGgxzU1n",
      "execution_count": null,
      "outputs": [
        {
          "output_type": "execute_result",
          "data": {
            "text/plain": [
              "array([0, 0, 0, 0, 0, 0, 0, 0, 0, 0, 0, 0, 0, 0, 0, 0, 0, 0, 0, 0, 0, 0,\n",
              "       0, 0, 0, 1, 1, 1, 1, 1, 1, 1, 1, 1, 1, 1, 1, 1, 1, 1, 1, 1, 1, 1,\n",
              "       1, 1, 1, 1, 1, 1])"
            ]
          },
          "metadata": {},
          "execution_count": 36
        }
      ]
    },
    {
      "cell_type": "code",
      "source": [
        "test_features"
      ],
      "metadata": {
        "colab": {
          "base_uri": "https://localhost:8080/"
        },
        "id": "HTc55-_xzMiJ",
        "outputId": "097277d0-ce73-4cd2-fb66-8003c6f8d239"
      },
      "id": "HTc55-_xzMiJ",
      "execution_count": null,
      "outputs": [
        {
          "output_type": "execute_result",
          "data": {
            "text/plain": [
              "array([[5.96902604, 1.25663706],\n",
              "       [5.59203492, 1.0681415 ],\n",
              "       [3.83274304, 2.32477856],\n",
              "       [4.39822972, 5.27787566],\n",
              "       [1.88495559, 3.14159265],\n",
              "       [0.62831853, 5.02654825],\n",
              "       [1.82212374, 3.0787608 ],\n",
              "       [1.94778745, 2.95309709],\n",
              "       [0.62831853, 1.31946891],\n",
              "       [0.87964594, 5.40353936],\n",
              "       [5.59203492, 4.58672527],\n",
              "       [0.06283185, 1.00530965],\n",
              "       [6.09468975, 0.9424778 ],\n",
              "       [3.0787608 , 1.25663706],\n",
              "       [3.0787608 , 1.19380521],\n",
              "       [4.77522083, 6.22035345],\n",
              "       [1.44513262, 5.84336234],\n",
              "       [0.06283185, 1.25663706],\n",
              "       [3.14159265, 1.00530965],\n",
              "       [3.14159265, 4.1469023 ]])"
            ]
          },
          "metadata": {},
          "execution_count": 37
        }
      ]
    },
    {
      "cell_type": "code",
      "source": [
        "test_labels"
      ],
      "metadata": {
        "colab": {
          "base_uri": "https://localhost:8080/"
        },
        "id": "5gKSIMXazYZv",
        "outputId": "52cac97f-902a-47b0-e507-87d8f9767f1e"
      },
      "id": "5gKSIMXazYZv",
      "execution_count": null,
      "outputs": [
        {
          "output_type": "execute_result",
          "data": {
            "text/plain": [
              "array([0, 0, 0, 0, 0, 0, 0, 0, 0, 0, 1, 1, 1, 1, 1, 1, 1, 1, 1, 1])"
            ]
          },
          "metadata": {},
          "execution_count": 61
        }
      ]
    },
    {
      "cell_type": "code",
      "source": [
        "adhoc_total.shape"
      ],
      "metadata": {
        "colab": {
          "base_uri": "https://localhost:8080/"
        },
        "id": "sS9HvTY_z3Am",
        "outputId": "2d16cb7c-24e9-442b-efe0-cd376c3f6097"
      },
      "id": "sS9HvTY_z3Am",
      "execution_count": null,
      "outputs": [
        {
          "output_type": "execute_result",
          "data": {
            "text/plain": [
              "(100, 100)"
            ]
          },
          "metadata": {},
          "execution_count": 23
        }
      ]
    },
    {
      "cell_type": "code",
      "execution_count": null,
      "id": "b1471272-e0d7-4b61-9154-83a85851a764",
      "metadata": {
        "colab": {
          "base_uri": "https://localhost:8080/",
          "height": 445
        },
        "id": "b1471272-e0d7-4b61-9154-83a85851a764",
        "outputId": "64474c9b-b6b1-40a3-86ef-5387409754cd"
      },
      "outputs": [
        {
          "output_type": "display_data",
          "data": {
            "text/plain": [
              "<Figure size 500x500 with 1 Axes>"
            ],
            "image/png": "[encoded data removed]"
          },
          "metadata": {}
        }
      ],
      "source": [
        "plot_dataset(train_features, train_labels, test_features,test_labels, adhoc_total)"
      ]
    },
    {
      "cell_type": "code",
      "execution_count": null,
      "id": "9b25aff9-f87b-4a2c-a7b8-bf2925fea434",
      "metadata": {
        "id": "9b25aff9-f87b-4a2c-a7b8-bf2925fea434"
      },
      "outputs": [],
      "source": [
        "adhoc_feature_map = ZZFeatureMap(feature_dimension=adhoc_dimension, reps = 2, entanglement = \"linear\")\n",
        "\n",
        "sampler = Sampler() # This allows you to use different backends (real quantum devices or simulators) as samplers.\n",
        "\n",
        "fidelity = ComputeUncompute(sampler = sampler)\n",
        "\n",
        "adhoc_kernel = FidelityQuantumKernel(fidelity = fidelity, feature_map = adhoc_feature_map)"
      ]
    },
    {
      "cell_type": "code",
      "source": [
        "adhoc_feature_map.decompose().draw()"
      ],
      "metadata": {
        "colab": {
          "base_uri": "https://localhost:8080/",
          "height": 171
        },
        "id": "EOSbBIAJ7dTQ",
        "outputId": "1b1409be-19e5-4b51-b1b4-4740ec7ecd05"
      },
      "id": "EOSbBIAJ7dTQ",
      "execution_count": null,
      "outputs": [
        {
          "output_type": "execute_result",
          "data": {
            "text/plain": [
              "     ┌───┐┌─────────────┐                                          ┌───┐»\n",
              "q_0: ┤ H ├┤ P(2.0*x[0]) ├──■────────────────────────────────────■──┤ H ├»\n",
              "     ├───┤├─────────────┤┌─┴─┐┌──────────────────────────────┐┌─┴─┐├───┤»\n",
              "q_1: ┤ H ├┤ P(2.0*x[1]) ├┤ X ├┤ P(2.0*(π - x[0])*(π - x[1])) ├┤ X ├┤ H ├»\n",
              "     └───┘└─────────────┘└───┘└──────────────────────────────┘└───┘└───┘»\n",
              "«     ┌─────────────┐                                          \n",
              "«q_0: ┤ P(2.0*x[0]) ├──■────────────────────────────────────■──\n",
              "«     ├─────────────┤┌─┴─┐┌──────────────────────────────┐┌─┴─┐\n",
              "«q_1: ┤ P(2.0*x[1]) ├┤ X ├┤ P(2.0*(π - x[0])*(π - x[1])) ├┤ X ├\n",
              "«     └─────────────┘└───┘└──────────────────────────────┘└───┘"
            ],
            "text/html": [
              "<pre style=\"word-wrap: normal;white-space: pre;background: #fff0;line-height: 1.1;font-family: &quot;Courier New&quot;,Courier,monospace\">     ┌───┐┌─────────────┐                                          ┌───┐»\n",
              "q_0: ┤ H ├┤ P(2.0*x[0]) ├──■────────────────────────────────────■──┤ H ├»\n",
              "     ├───┤├─────────────┤┌─┴─┐┌──────────────────────────────┐┌─┴─┐├───┤»\n",
              "q_1: ┤ H ├┤ P(2.0*x[1]) ├┤ X ├┤ P(2.0*(π - x[0])*(π - x[1])) ├┤ X ├┤ H ├»\n",
              "     └───┘└─────────────┘└───┘└──────────────────────────────┘└───┘└───┘»\n",
              "«     ┌─────────────┐                                          \n",
              "«q_0: ┤ P(2.0*x[0]) ├──■────────────────────────────────────■──\n",
              "«     ├─────────────┤┌─┴─┐┌──────────────────────────────┐┌─┴─┐\n",
              "«q_1: ┤ P(2.0*x[1]) ├┤ X ├┤ P(2.0*(π - x[0])*(π - x[1])) ├┤ X ├\n",
              "«     └─────────────┘└───┘└──────────────────────────────┘└───┘</pre>"
            ]
          },
          "metadata": {},
          "execution_count": 38
        }
      ]
    },
    {
      "cell_type": "code",
      "source": [
        "adhoc_kernel.feature_map.draw()"
      ],
      "metadata": {
        "colab": {
          "base_uri": "https://localhost:8080/",
          "height": 94
        },
        "id": "llOG0jRN7rzd",
        "outputId": "a99b53c1-2680-46e3-8675-5e2907b93159"
      },
      "id": "llOG0jRN7rzd",
      "execution_count": null,
      "outputs": [
        {
          "output_type": "execute_result",
          "data": {
            "text/plain": [
              "     ┌──────────────────────────┐\n",
              "q_0: ┤0                         ├\n",
              "     │  ZZFeatureMap(x[0],x[1]) │\n",
              "q_1: ┤1                         ├\n",
              "     └──────────────────────────┘"
            ],
            "text/html": [
              "<pre style=\"word-wrap: normal;white-space: pre;background: #fff0;line-height: 1.1;font-family: &quot;Courier New&quot;,Courier,monospace\">     ┌──────────────────────────┐\n",
              "q_0: ┤0                         ├\n",
              "     │  ZZFeatureMap(x[0],x[1]) │\n",
              "q_1: ┤1                         ├\n",
              "     └──────────────────────────┘</pre>"
            ]
          },
          "metadata": {},
          "execution_count": 42
        }
      ]
    },
    {
      "cell_type": "code",
      "execution_count": null,
      "id": "e3bd7648-0d41-4ea7-9554-6d48f45cbe41",
      "metadata": {
        "id": "e3bd7648-0d41-4ea7-9554-6d48f45cbe41"
      },
      "outputs": [],
      "source": [
        "feature_map = ZZFeatureMap(feature_dimension = 2, reps = 2, entanglement = \"linear\")\n",
        "qpca_kernel = FidelityQuantumKernel(fidelity = fidelity, feature_map = feature_map)"
      ]
    },
    {
      "cell_type": "code",
      "source": [
        "feature_map.decompose().draw()"
      ],
      "metadata": {
        "colab": {
          "base_uri": "https://localhost:8080/",
          "height": 171
        },
        "id": "bHq3lOvL137s",
        "outputId": "b8d8a70c-259e-4e7b-ffc6-6700ca87586a"
      },
      "id": "bHq3lOvL137s",
      "execution_count": null,
      "outputs": [
        {
          "output_type": "execute_result",
          "data": {
            "text/plain": [
              "     ┌───┐┌─────────────┐                                          ┌───┐»\n",
              "q_0: ┤ H ├┤ P(2.0*x[0]) ├──■────────────────────────────────────■──┤ H ├»\n",
              "     ├───┤├─────────────┤┌─┴─┐┌──────────────────────────────┐┌─┴─┐├───┤»\n",
              "q_1: ┤ H ├┤ P(2.0*x[1]) ├┤ X ├┤ P(2.0*(π - x[0])*(π - x[1])) ├┤ X ├┤ H ├»\n",
              "     └───┘└─────────────┘└───┘└──────────────────────────────┘└───┘└───┘»\n",
              "«     ┌─────────────┐                                          \n",
              "«q_0: ┤ P(2.0*x[0]) ├──■────────────────────────────────────■──\n",
              "«     ├─────────────┤┌─┴─┐┌──────────────────────────────┐┌─┴─┐\n",
              "«q_1: ┤ P(2.0*x[1]) ├┤ X ├┤ P(2.0*(π - x[0])*(π - x[1])) ├┤ X ├\n",
              "«     └─────────────┘└───┘└──────────────────────────────┘└───┘"
            ],
            "text/html": [
              "<pre style=\"word-wrap: normal;white-space: pre;background: #fff0;line-height: 1.1;font-family: &quot;Courier New&quot;,Courier,monospace\">     ┌───┐┌─────────────┐                                          ┌───┐»\n",
              "q_0: ┤ H ├┤ P(2.0*x[0]) ├──■────────────────────────────────────■──┤ H ├»\n",
              "     ├───┤├─────────────┤┌─┴─┐┌──────────────────────────────┐┌─┴─┐├───┤»\n",
              "q_1: ┤ H ├┤ P(2.0*x[1]) ├┤ X ├┤ P(2.0*(π - x[0])*(π - x[1])) ├┤ X ├┤ H ├»\n",
              "     └───┘└─────────────┘└───┘└──────────────────────────────┘└───┘└───┘»\n",
              "«     ┌─────────────┐                                          \n",
              "«q_0: ┤ P(2.0*x[0]) ├──■────────────────────────────────────■──\n",
              "«     ├─────────────┤┌─┴─┐┌──────────────────────────────┐┌─┴─┐\n",
              "«q_1: ┤ P(2.0*x[1]) ├┤ X ├┤ P(2.0*(π - x[0])*(π - x[1])) ├┤ X ├\n",
              "«     └─────────────┘└───┘└──────────────────────────────┘└───┘</pre>"
            ]
          },
          "metadata": {},
          "execution_count": 27
        }
      ]
    },
    {
      "cell_type": "code",
      "source": [
        "feature_map.decompose().decompose().draw()"
      ],
      "metadata": {
        "colab": {
          "base_uri": "https://localhost:8080/",
          "height": 248
        },
        "id": "UmQJzjET8e00",
        "outputId": "2bf315d3-41bf-4ac7-f6c6-ccbdae487fa4"
      },
      "id": "UmQJzjET8e00",
      "execution_count": null,
      "outputs": [
        {
          "output_type": "execute_result",
          "data": {
            "text/plain": [
              "     ┌─────────┐┌─────────────────┐                                         »\n",
              "q_0: ┤ U2(0,π) ├┤ U(0,0,2.0*x[0]) ├──■──────────────────────────────────────»\n",
              "     ├─────────┤├─────────────────┤┌─┴─┐┌──────────────────────────────────┐»\n",
              "q_1: ┤ U2(0,π) ├┤ U(0,0,2.0*x[1]) ├┤ X ├┤ U(0,0,2.0*(π - x[0])*(π - x[1])) ├»\n",
              "     └─────────┘└─────────────────┘└───┘└──────────────────────────────────┘»\n",
              "«          ┌─────────┐┌─────────────────┐     »\n",
              "«q_0: ──■──┤ U2(0,π) ├┤ U(0,0,2.0*x[0]) ├──■──»\n",
              "«     ┌─┴─┐├─────────┤├─────────────────┤┌─┴─┐»\n",
              "«q_1: ┤ X ├┤ U2(0,π) ├┤ U(0,0,2.0*x[1]) ├┤ X ├»\n",
              "«     └───┘└─────────┘└─────────────────┘└───┘»\n",
              "«                                              \n",
              "«q_0: ──────────────────────────────────────■──\n",
              "«     ┌──────────────────────────────────┐┌─┴─┐\n",
              "«q_1: ┤ U(0,0,2.0*(π - x[0])*(π - x[1])) ├┤ X ├\n",
              "«     └──────────────────────────────────┘└───┘"
            ],
            "text/html": [
              "<pre style=\"word-wrap: normal;white-space: pre;background: #fff0;line-height: 1.1;font-family: &quot;Courier New&quot;,Courier,monospace\">     ┌─────────┐┌─────────────────┐                                         »\n",
              "q_0: ┤ U2(0,π) ├┤ U(0,0,2.0*x[0]) ├──■──────────────────────────────────────»\n",
              "     ├─────────┤├─────────────────┤┌─┴─┐┌──────────────────────────────────┐»\n",
              "q_1: ┤ U2(0,π) ├┤ U(0,0,2.0*x[1]) ├┤ X ├┤ U(0,0,2.0*(π - x[0])*(π - x[1])) ├»\n",
              "     └─────────┘└─────────────────┘└───┘└──────────────────────────────────┘»\n",
              "«          ┌─────────┐┌─────────────────┐     »\n",
              "«q_0: ──■──┤ U2(0,π) ├┤ U(0,0,2.0*x[0]) ├──■──»\n",
              "«     ┌─┴─┐├─────────┤├─────────────────┤┌─┴─┐»\n",
              "«q_1: ┤ X ├┤ U2(0,π) ├┤ U(0,0,2.0*x[1]) ├┤ X ├»\n",
              "«     └───┘└─────────┘└─────────────────┘└───┘»\n",
              "«                                              \n",
              "«q_0: ──────────────────────────────────────■──\n",
              "«     ┌──────────────────────────────────┐┌─┴─┐\n",
              "«q_1: ┤ U(0,0,2.0*(π - x[0])*(π - x[1])) ├┤ X ├\n",
              "«     └──────────────────────────────────┘└───┘</pre>"
            ]
          },
          "metadata": {},
          "execution_count": 47
        }
      ]
    },
    {
      "cell_type": "code",
      "source": [
        "qpca_kernel.feature_map.draw()"
      ],
      "metadata": {
        "colab": {
          "base_uri": "https://localhost:8080/",
          "height": 94
        },
        "id": "3FEacYMf2Wut",
        "outputId": "ad7549cc-1926-439d-acb9-fe53548281c5"
      },
      "id": "3FEacYMf2Wut",
      "execution_count": null,
      "outputs": [
        {
          "output_type": "execute_result",
          "data": {
            "text/plain": [
              "     ┌──────────────────────────┐\n",
              "q_0: ┤0                         ├\n",
              "     │  ZZFeatureMap(x[0],x[1]) │\n",
              "q_1: ┤1                         ├\n",
              "     └──────────────────────────┘"
            ],
            "text/html": [
              "<pre style=\"word-wrap: normal;white-space: pre;background: #fff0;line-height: 1.1;font-family: &quot;Courier New&quot;,Courier,monospace\">     ┌──────────────────────────┐\n",
              "q_0: ┤0                         ├\n",
              "     │  ZZFeatureMap(x[0],x[1]) │\n",
              "q_1: ┤1                         ├\n",
              "     └──────────────────────────┘</pre>"
            ]
          },
          "metadata": {},
          "execution_count": 33
        }
      ]
    },
    {
      "cell_type": "code",
      "execution_count": null,
      "id": "dd1884ab-e136-4543-9745-197dde6ba51b",
      "metadata": {
        "id": "dd1884ab-e136-4543-9745-197dde6ba51b"
      },
      "outputs": [],
      "source": [
        "matrix_train = qpca_kernel.evaluate(x_vec = train_features)\n",
        "matrix_test = qpca_kernel.evaluate(x_vec = test_features, y_vec = train_features)"
      ]
    },
    {
      "cell_type": "code",
      "source": [
        "matrix_train"
      ],
      "metadata": {
        "colab": {
          "base_uri": "https://localhost:8080/"
        },
        "id": "ADyIigou1vSN",
        "outputId": "85cd5508-84c5-44e9-a1dd-2cbbf2fd1560"
      },
      "id": "ADyIigou1vSN",
      "execution_count": null,
      "outputs": [
        {
          "output_type": "execute_result",
          "data": {
            "text/plain": [
              "array([[1.        , 0.64345395, 0.60691834, ..., 0.43773559, 0.0489581 ,\n",
              "        0.04392532],\n",
              "       [0.64345395, 1.        , 0.78340488, ..., 0.26223556, 0.0460048 ,\n",
              "        0.08238447],\n",
              "       [0.60691834, 0.78340488, 1.        , ..., 0.08904577, 0.06730458,\n",
              "        0.11299809],\n",
              "       ...,\n",
              "       [0.43773559, 0.26223556, 0.08904577, ..., 1.        , 0.12257275,\n",
              "        0.08629315],\n",
              "       [0.0489581 , 0.0460048 , 0.06730458, ..., 0.12257275, 1.        ,\n",
              "        0.84079759],\n",
              "       [0.04392532, 0.08238447, 0.11299809, ..., 0.08629315, 0.84079759,\n",
              "        1.        ]])"
            ]
          },
          "metadata": {},
          "execution_count": 24
        }
      ]
    },
    {
      "cell_type": "code",
      "source": [
        "matrix_test"
      ],
      "metadata": {
        "colab": {
          "base_uri": "https://localhost:8080/"
        },
        "id": "zhP2qIGF8I_0",
        "outputId": "5706beb1-6217-4bcf-829d-fc1877c9ab1b"
      },
      "id": "zhP2qIGF8I_0",
      "execution_count": null,
      "outputs": [
        {
          "output_type": "execute_result",
          "data": {
            "text/plain": [
              "array([[6.00793670e-01, 7.41631841e-01, 5.44191869e-01, 5.06547712e-01,\n",
              "        5.21465433e-01, 2.07750694e-02, 2.66461876e-01, 5.55555864e-01,\n",
              "        9.37290377e-01, 1.25603533e-02, 4.44107118e-01, 6.76876589e-01,\n",
              "        5.03757726e-01, 5.04869870e-01, 4.08488521e-01, 4.57844662e-01,\n",
              "        7.48502722e-01, 6.21851713e-01, 4.57313893e-01, 3.20443526e-01,\n",
              "        4.91315192e-01, 5.65840330e-01, 3.28905057e-02, 6.24430472e-01,\n",
              "        6.53419211e-01, 3.80979872e-02, 1.84854140e-01, 1.63080520e-01,\n",
              "        1.27479148e-01, 1.41260122e-01, 9.83440567e-02, 1.41805054e-01,\n",
              "        2.06060386e-01, 2.63652561e-01, 1.11995076e-01, 5.00669566e-02,\n",
              "        1.09971384e-01, 2.78063790e-01, 5.50875619e-01, 3.38085166e-01,\n",
              "        2.27316094e-01, 9.20155710e-02, 7.00699833e-02, 1.09613779e-01,\n",
              "        1.67990646e-01, 1.37130363e-02, 5.59128978e-02, 8.31282117e-02,\n",
              "        2.06060386e-01, 7.46836791e-02],\n",
              "       [8.28676436e-01, 4.54729435e-01, 5.42491018e-01, 6.88566971e-01,\n",
              "        7.06242816e-01, 1.54069933e-01, 4.44431293e-01, 5.88562821e-01,\n",
              "        7.07846620e-01, 2.87269696e-02, 4.21027663e-01, 9.61613351e-01,\n",
              "        3.50553800e-01, 6.93283379e-01, 3.42466888e-01, 5.51545358e-01,\n",
              "        3.74435343e-01, 6.60601085e-01, 4.40299395e-01, 2.42154977e-01,\n",
              "        6.40948682e-01, 9.51503555e-01, 9.47201102e-02, 7.71099087e-01,\n",
              "        4.71848528e-01, 1.36177173e-01, 1.33937541e-01, 3.10076938e-01,\n",
              "        1.97779446e-01, 4.01651214e-01, 3.80839717e-01, 3.69534504e-01,\n",
              "        1.12478468e-01, 1.20466544e-01, 3.47979835e-01, 2.95743036e-01,\n",
              "        2.01527001e-01, 2.72184921e-01, 1.83225249e-01, 1.66046523e-01,\n",
              "        5.84804738e-02, 1.90074097e-01, 2.83058051e-01, 2.45959020e-01,\n",
              "        2.46000438e-01, 2.09989983e-01, 1.70298154e-01, 2.41893699e-01,\n",
              "        1.12478468e-01, 1.26141750e-01],\n",
              "       [4.62305177e-01, 1.99455028e-01, 1.72994508e-01, 5.01174265e-01,\n",
              "        9.33646209e-01, 5.72503765e-01, 1.43694816e-01, 6.86748567e-01,\n",
              "        4.85871217e-01, 4.25878257e-01, 3.39115567e-02, 6.02616346e-01,\n",
              "        1.80127927e-01, 1.51837535e-01, 4.41967951e-03, 1.43572177e-01,\n",
              "        1.69359605e-01, 5.01863915e-01, 2.45036167e-02, 6.26204718e-02,\n",
              "        1.31272299e-01, 4.80599959e-01, 4.30144314e-01, 6.25427244e-01,\n",
              "        2.20654389e-01, 3.79307687e-02, 3.18663211e-01, 1.78285922e-01,\n",
              "        1.99411390e-01, 2.80116976e-01, 8.60528695e-02, 1.48080302e-01,\n",
              "        2.41130820e-01, 2.49319275e-01, 1.09893256e-01, 3.96650377e-01,\n",
              "        2.83615132e-01, 3.33006018e-01, 1.47442414e-01, 2.90768654e-01,\n",
              "        1.03419073e-01, 5.77879439e-02, 1.88977743e-01, 1.00045837e-01,\n",
              "        3.52729584e-01, 2.19893705e-01, 1.27585597e-01, 2.59189119e-01,\n",
              "        2.41130820e-01, 3.71040295e-01],\n",
              "       [6.96626738e-01, 4.26835086e-01, 5.11198068e-01, 6.83676675e-01,\n",
              "        6.51910546e-01, 3.84233946e-01, 3.52282215e-01, 7.69971878e-01,\n",
              "        4.95251939e-01, 3.66889628e-01, 2.40416779e-01, 5.73432991e-01,\n",
              "        1.80240091e-01, 2.56836402e-01, 1.66131941e-01, 5.02965275e-01,\n",
              "        2.98503980e-01, 7.70561146e-01, 1.57435987e-01, 3.30092137e-01,\n",
              "        1.79235664e-01, 4.55565822e-01, 3.90727011e-01, 8.49344362e-01,\n",
              "        3.13898176e-01, 9.80615419e-02, 2.40302337e-02, 6.57092043e-03,\n",
              "        5.80963593e-02, 3.36863155e-02, 1.63824899e-02, 1.29355388e-02,\n",
              "        6.41939130e-02, 1.05962977e-01, 4.86424998e-03, 4.46923099e-02,\n",
              "        6.25914288e-02, 5.78756943e-02, 1.66031931e-01, 1.41752610e-01,\n",
              "        1.01432141e-01, 7.30497007e-02, 3.89701785e-01, 1.61309525e-02,\n",
              "        7.52468060e-03, 2.75282499e-01, 5.07678706e-02, 3.24924276e-01,\n",
              "        6.41939130e-02, 7.62474082e-02],\n",
              "       [5.93487179e-01, 8.32259869e-01, 8.86987957e-01, 6.52440630e-01,\n",
              "        3.33006018e-01, 2.41981851e-02, 4.48960573e-01, 5.01729934e-01,\n",
              "        5.68852698e-01, 2.18717390e-02, 6.61177371e-01, 6.08213568e-01,\n",
              "        8.45211995e-01, 8.45002972e-01, 6.85623463e-01, 8.21957755e-01,\n",
              "        7.37700039e-01, 5.62315561e-01, 7.30541922e-01, 4.26662362e-01,\n",
              "        6.63527231e-01, 6.40754878e-01, 4.22920358e-03, 4.85021717e-01,\n",
              "        9.54538555e-01, 1.07965775e-01, 2.06073043e-02, 1.38587854e-01,\n",
              "        2.52932711e-02, 9.78879547e-02, 7.45804885e-02, 4.64586788e-02,\n",
              "        1.20683331e-02, 3.76489511e-04, 4.76596755e-02, 1.30714653e-01,\n",
              "        4.66001340e-02, 9.11862711e-03, 7.03898138e-02, 9.05485122e-03,\n",
              "        8.04314246e-03, 9.51153830e-02, 1.39633470e-01, 3.19559787e-02,\n",
              "        2.36719785e-02, 2.95886476e-02, 5.94877216e-02, 1.57717463e-01,\n",
              "        1.20683331e-02, 6.45522607e-02],\n",
              "       [5.62956056e-01, 5.18212248e-01, 6.92885471e-01, 7.60959222e-01,\n",
              "        2.17596991e-01, 7.32601478e-02, 7.37787375e-01, 3.86695942e-01,\n",
              "        3.91077324e-01, 2.27098890e-01, 9.25906673e-01, 5.57325695e-01,\n",
              "        5.73414872e-01, 8.23918071e-01, 7.56492568e-01, 7.29550738e-01,\n",
              "        5.77509568e-01, 5.46715377e-01, 7.87795539e-01, 6.74411434e-01,\n",
              "        8.52645159e-01, 6.43072359e-01, 1.41426317e-01, 4.11038371e-01,\n",
              "        6.87882429e-01, 1.13801241e-01, 3.55399723e-02, 2.66320061e-01,\n",
              "        5.65637383e-02, 1.64359410e-01, 2.51057980e-01, 2.24011574e-01,\n",
              "        2.55839935e-02, 2.37932043e-02, 2.24087299e-01, 5.70016150e-02,\n",
              "        4.12769338e-02, 1.19133538e-01, 1.27091955e-01, 6.26901129e-02,\n",
              "        1.16863376e-02, 2.32069364e-01, 7.75863926e-02, 1.39831824e-01,\n",
              "        1.23091958e-01, 2.68118952e-02, 1.34922473e-01, 5.63543528e-02,\n",
              "        2.55839935e-02, 1.63029154e-03],\n",
              "       [6.05660433e-01, 8.21288011e-01, 8.52602135e-01, 6.18114767e-01,\n",
              "        3.48195408e-01, 5.80207812e-02, 3.91825233e-01, 4.91389123e-01,\n",
              "        5.29549530e-01, 1.54730230e-02, 6.20814047e-01, 6.17018395e-01,\n",
              "        8.77499714e-01, 8.49894231e-01, 6.81413050e-01, 7.87527398e-01,\n",
              "        7.08298143e-01, 5.05422859e-01, 7.30431720e-01, 3.83176421e-01,\n",
              "        6.03656233e-01, 6.60881000e-01, 1.63336806e-02, 4.80410459e-01,\n",
              "        9.33982668e-01, 1.22047003e-01, 5.36238501e-02, 1.68604774e-01,\n",
              "        4.97524644e-02, 1.30770849e-01, 9.17400679e-02, 5.64506662e-02,\n",
              "        3.48393903e-02, 7.70242447e-03, 5.67912816e-02, 1.76810930e-01,\n",
              "        8.03482304e-02, 1.66575274e-02, 4.59161469e-02, 2.82956770e-03,\n",
              "        2.80625041e-03, 1.11056513e-01, 2.06205493e-01, 4.70384811e-02,\n",
              "        4.66217980e-02, 6.97990381e-02, 1.07599554e-01, 2.35725034e-01,\n",
              "        3.48393903e-02, 9.09066993e-02],\n",
              "       [7.08141424e-01, 6.72717340e-01, 7.92640910e-01, 6.57137892e-01,\n",
              "        3.37358489e-01, 5.38422113e-02, 5.04105235e-01, 4.45357758e-01,\n",
              "        4.55912910e-01, 5.72427471e-03, 6.78902638e-01, 7.12395457e-01,\n",
              "        7.63497554e-01, 9.38985011e-01, 7.07058883e-01, 7.93395874e-01,\n",
              "        5.65742057e-01, 4.98510817e-01, 7.79693143e-01, 3.93009593e-01,\n",
              "        6.76224451e-01, 8.10692604e-01, 1.81584671e-02, 5.21181901e-01,\n",
              "        7.75753206e-01, 1.95177774e-01, 1.05740854e-01, 2.97501737e-01,\n",
              "        1.48182989e-01, 2.61834630e-01, 2.64888330e-01, 1.88474210e-01,\n",
              "        9.48040285e-02, 5.01462135e-02, 1.91398542e-01, 2.35516804e-01,\n",
              "        1.64444894e-01, 6.88490530e-02, 3.53175769e-02, 3.36431523e-02,\n",
              "        3.75656099e-02, 2.33385122e-01, 3.30436456e-01, 1.59549669e-01,\n",
              "        9.48903532e-02, 1.86449287e-01, 2.72757375e-01, 3.34138810e-01,\n",
              "        9.48040285e-02, 8.70924957e-02],\n",
              "       [6.43365284e-01, 5.81455817e-01, 8.95106619e-01, 6.22330607e-01,\n",
              "        2.43632036e-01, 1.13997972e-02, 7.51228235e-01, 3.62923870e-01,\n",
              "        4.27416786e-01, 4.73545030e-02, 6.78049137e-01, 6.26175073e-01,\n",
              "        5.71466050e-01, 9.28689406e-01, 7.04309739e-01, 9.54717401e-01,\n",
              "        3.90623684e-01, 6.50684076e-01, 7.59096336e-01, 3.74864216e-01,\n",
              "        7.77185624e-01, 7.30863226e-01, 1.31206136e-02, 5.11697398e-01,\n",
              "        6.43275507e-01, 3.10731837e-01, 6.65630930e-02, 2.36991039e-01,\n",
              "        1.22932562e-01, 1.87084049e-01, 2.59408151e-01, 1.66389151e-01,\n",
              "        8.56844741e-02, 4.55221458e-02, 1.89585591e-01, 1.71447679e-01,\n",
              "        1.30220163e-01, 1.50200507e-02, 5.52452875e-03, 9.04102769e-03,\n",
              "        7.17451535e-02, 2.45932359e-01, 2.08767978e-01, 1.55411728e-01,\n",
              "        4.04076843e-02, 9.39328798e-02, 2.28447964e-01, 1.71357873e-01,\n",
              "        8.56844741e-02, 8.35642995e-02],\n",
              "       [7.87019696e-01, 3.31221269e-01, 4.09879990e-01, 7.84666732e-01,\n",
              "        8.68988059e-01, 3.27112166e-01, 4.09570608e-01, 7.44052037e-01,\n",
              "        6.46667822e-01, 2.05326784e-01, 3.24585730e-01, 8.87871938e-01,\n",
              "        1.82016883e-01, 4.37594313e-01, 1.80923959e-01, 4.16300407e-01,\n",
              "        3.02291168e-01, 7.43442644e-01, 2.31549977e-01, 3.01661360e-01,\n",
              "        4.49801267e-01, 8.11257122e-01, 2.53829469e-01, 8.39666459e-01,\n",
              "        3.31569778e-01, 8.04632295e-02, 2.29556923e-01, 2.37738760e-01,\n",
              "        1.89311196e-01, 3.34722760e-01, 2.67328673e-01, 3.11174593e-01,\n",
              "        1.75263433e-01, 2.06536522e-01, 2.69832444e-01, 2.86042032e-01,\n",
              "        2.16874984e-01, 3.70035832e-01, 2.27940148e-01, 2.84845864e-01,\n",
              "        9.32394305e-02, 5.42682228e-02, 2.30482995e-01, 1.86585805e-01,\n",
              "        3.48287078e-01, 2.07967558e-01, 1.64024056e-01, 2.00039977e-01,\n",
              "        1.75263433e-01, 2.32138148e-01],\n",
              "       [2.37917542e-02, 3.97540938e-02, 6.27574103e-03, 2.18516239e-01,\n",
              "        1.12817246e-01, 1.57319409e-01, 7.12840071e-03, 1.60654574e-01,\n",
              "        2.02385610e-01, 1.00630851e-01, 1.25210800e-01, 3.75628796e-02,\n",
              "        8.14176875e-02, 1.97959522e-02, 1.33103713e-02, 1.22982719e-04,\n",
              "        2.22014566e-01, 5.52584494e-02, 1.56063536e-02, 1.74728936e-01,\n",
              "        7.17443587e-02, 3.57776682e-02, 2.27446734e-01, 1.63184324e-02,\n",
              "        1.38575334e-01, 2.19974432e-01, 5.97571419e-01, 3.57612871e-01,\n",
              "        3.12946137e-01, 1.97247054e-01, 9.66278784e-02, 1.24731906e-01,\n",
              "        5.23454180e-01, 4.86808736e-01, 9.62444149e-02, 1.97510235e-01,\n",
              "        3.30897193e-01, 4.15428273e-01, 4.30783570e-01, 4.88220003e-01,\n",
              "        4.04202883e-01, 5.57173112e-02, 3.20507841e-01, 1.93653573e-01,\n",
              "        4.40918439e-01, 4.01481137e-01, 6.94071364e-01, 2.93302067e-01,\n",
              "        5.23454180e-01, 2.64215600e-01],\n",
              "       [1.90049074e-03, 1.98353614e-01, 2.81437667e-01, 1.24779651e-02,\n",
              "        2.70355305e-02, 6.78218742e-02, 1.69143662e-01, 8.81834436e-02,\n",
              "        1.46623212e-01, 1.29066234e-02, 2.13178700e-02, 6.44500041e-03,\n",
              "        3.63538044e-02, 9.27845237e-02, 4.03102263e-03, 2.90207770e-01,\n",
              "        1.68581743e-01, 1.73293182e-01, 1.30173846e-02, 7.90101953e-02,\n",
              "        1.07472371e-01, 4.95526471e-02, 9.85975278e-02, 4.75183727e-02,\n",
              "        1.01713507e-01, 9.45592058e-01, 5.34776142e-01, 6.42247499e-01,\n",
              "        7.71664838e-01, 6.25601330e-01, 6.02250429e-01, 6.40598773e-01,\n",
              "        6.86281775e-01, 6.95441439e-01, 6.57012997e-01, 5.55094905e-01,\n",
              "        6.92735260e-01, 5.28593464e-01, 6.33951809e-01, 6.33220530e-01,\n",
              "        8.64339165e-01, 5.49496635e-01, 5.12187120e-02, 7.95448549e-01,\n",
              "        4.74249837e-01, 2.19367128e-01, 5.91332681e-01, 5.46622545e-02,\n",
              "        6.86281775e-01, 5.21954936e-01],\n",
              "       [3.21032435e-01, 3.87514155e-02, 5.74801930e-02, 2.13870646e-01,\n",
              "        1.98376488e-01, 4.47484275e-02, 2.29016133e-01, 8.71329329e-02,\n",
              "        1.75556776e-01, 7.10985892e-03, 2.75133802e-01, 4.23587644e-01,\n",
              "        4.28842321e-02, 3.09167032e-01, 1.47817120e-01, 1.02309506e-01,\n",
              "        1.34397536e-01, 7.47302649e-02, 2.08560278e-01, 2.40376258e-01,\n",
              "        4.05205850e-01, 5.05606270e-01, 3.75205383e-02, 1.99473261e-01,\n",
              "        4.10124737e-02, 6.34003207e-01, 5.30944636e-01, 8.57931470e-01,\n",
              "        7.77949193e-01, 9.38264856e-01, 8.65869416e-01, 9.53462538e-01,\n",
              "        5.90834088e-01, 5.99485205e-01, 9.30313688e-01, 7.34860438e-01,\n",
              "        7.26210225e-01, 7.66453975e-01, 6.07996048e-01, 6.01071759e-01,\n",
              "        5.91993143e-01, 6.63929516e-01, 1.90926453e-01, 8.98029537e-01,\n",
              "        6.98127755e-01, 2.81499379e-01, 4.27244928e-01, 1.71028870e-01,\n",
              "        5.90834088e-01, 5.32833403e-01],\n",
              "       [6.53595648e-02, 1.36248673e-01, 1.04590428e-01, 4.80946739e-02,\n",
              "        1.10681635e-01, 4.17122870e-02, 4.94487225e-02, 1.57687725e-01,\n",
              "        1.79383475e-01, 1.69926937e-02, 3.78503643e-02, 6.18791294e-02,\n",
              "        1.23670690e-02, 3.20300520e-02, 1.85128292e-03, 1.05499686e-01,\n",
              "        2.39752257e-01, 1.09211721e-01, 9.46281055e-03, 1.57212714e-01,\n",
              "        2.35970214e-02, 7.29390762e-02, 3.80737727e-02, 9.14371520e-02,\n",
              "        4.47249319e-02, 7.71486935e-01, 7.32738141e-01, 7.13735999e-01,\n",
              "        9.33589064e-01, 7.57908319e-01, 6.09483873e-01, 6.61666470e-01,\n",
              "        8.82766018e-01, 9.20383434e-01, 6.43318193e-01, 7.00669632e-01,\n",
              "        8.81274627e-01, 7.19991627e-01, 8.11316856e-01, 9.00122202e-01,\n",
              "        1.00000000e+00, 5.86344841e-01, 1.60404828e-01, 8.24168320e-01,\n",
              "        5.71850396e-01, 3.99811772e-01, 6.82599471e-01, 1.91654282e-01,\n",
              "        8.82766018e-01, 6.84774880e-01],\n",
              "       [5.34364509e-02, 1.30987091e-01, 1.09276190e-01, 3.00981618e-02,\n",
              "        7.77584735e-02, 3.36196121e-02, 6.60180141e-02, 1.29340911e-01,\n",
              "        1.50323001e-01, 8.22736789e-03, 4.49375877e-02, 5.01490263e-02,\n",
              "        1.32571639e-02, 4.40712133e-02, 5.30297498e-03, 1.14532322e-01,\n",
              "        2.30683526e-01, 9.02675557e-02, 1.59645039e-02, 1.58321715e-01,\n",
              "        4.15013996e-02, 7.68767303e-02, 3.77597934e-02, 6.73946780e-02,\n",
              "        4.21436244e-02, 8.18069399e-01, 6.88903183e-01, 7.26673063e-01,\n",
              "        9.32863432e-01, 7.70247697e-01, 6.61549631e-01, 7.02672985e-01,\n",
              "        8.49588943e-01, 8.84819137e-01, 6.92778823e-01, 6.88239585e-01,\n",
              "        8.64820568e-01, 6.93030465e-01, 7.87127517e-01, 8.58327048e-01,\n",
              "        9.94505286e-01, 6.23599202e-01, 1.62600521e-01, 8.58908259e-01,\n",
              "        5.53934402e-01, 3.95733055e-01, 6.81250404e-01, 1.88673851e-01,\n",
              "        8.49588943e-01, 6.50126357e-01],\n",
              "       [2.01438318e-01, 3.30873050e-01, 1.65203230e-01, 1.69919858e-01,\n",
              "        2.36120496e-01, 3.58794904e-02, 2.71903993e-02, 2.94211436e-01,\n",
              "        4.49971022e-01, 1.56371279e-02, 1.13690881e-01, 1.87656264e-01,\n",
              "        9.19156831e-02, 1.94450175e-02, 6.66666280e-02, 1.18532445e-01,\n",
              "        4.26595453e-01, 2.77948946e-01, 5.37529194e-02, 2.62189565e-01,\n",
              "        3.01289122e-02, 1.09760054e-01, 4.61605992e-02, 2.73368265e-01,\n",
              "        1.65065873e-01, 5.49995221e-01, 7.38046374e-01, 5.73962529e-01,\n",
              "        7.55927743e-01, 5.81797589e-01, 3.88120255e-01, 5.18603061e-01,\n",
              "        8.33917355e-01, 8.99183443e-01, 4.69702260e-01, 5.40041355e-01,\n",
              "        7.30709599e-01, 7.78916402e-01, 9.53518548e-01, 9.29976392e-01,\n",
              "        8.84421689e-01, 3.46874877e-01, 5.66984523e-02, 6.34948949e-01,\n",
              "        6.12016196e-01, 2.17401266e-01, 4.95182126e-01, 7.92793296e-02,\n",
              "        8.33917355e-01, 6.50077201e-01],\n",
              "       [6.32928116e-02, 1.17737286e-01, 8.76352405e-02, 3.11741754e-02,\n",
              "        5.61602813e-02, 3.62372710e-02, 7.74543451e-02, 1.12561785e-01,\n",
              "        1.16226273e-01, 3.96944861e-03, 6.92317443e-02, 5.85556014e-02,\n",
              "        2.04421974e-02, 5.86802981e-02, 1.74933481e-02, 9.68331478e-02,\n",
              "        2.40907716e-01, 6.08798137e-02, 3.16314371e-02, 1.94984904e-01,\n",
              "        5.86190885e-02, 1.04189211e-01, 4.53194837e-02, 4.96376902e-02,\n",
              "        4.05714620e-02, 8.25934379e-01, 6.27730870e-01, 7.16126530e-01,\n",
              "        9.21108782e-01, 7.76154241e-01, 7.30276203e-01, 7.45966383e-01,\n",
              "        7.93998716e-01, 8.32183088e-01, 7.43474451e-01, 6.58143016e-01,\n",
              "        8.31774224e-01, 6.55736641e-01, 7.44409722e-01, 8.10860845e-01,\n",
              "        9.75948344e-01, 6.49357169e-01, 2.06642668e-01, 8.80910663e-01,\n",
              "        5.22107100e-01, 4.40948434e-01, 7.00598529e-01, 2.24675341e-01,\n",
              "        7.93998716e-01, 5.97218585e-01],\n",
              "       [1.30570858e-01, 2.56246519e-02, 1.64267663e-01, 2.19191359e-01,\n",
              "        1.53233730e-01, 4.53351668e-02, 1.48172233e-01, 7.69791175e-02,\n",
              "        8.11421180e-02, 8.89466265e-04, 2.50483787e-01, 2.26695250e-01,\n",
              "        1.75534946e-01, 3.39258904e-01, 1.49712632e-01, 2.11088557e-01,\n",
              "        9.19159949e-02, 1.55915512e-02, 2.05836230e-01, 8.41901109e-02,\n",
              "        2.99252835e-01, 3.25375297e-01, 4.13871635e-02, 5.04005577e-02,\n",
              "        1.58879595e-01, 6.67406067e-01, 7.69593871e-01, 9.46723697e-01,\n",
              "        7.76104520e-01, 8.27484075e-01, 5.29040347e-01, 6.35351590e-01,\n",
              "        7.89901988e-01, 7.12831463e-01, 6.04376581e-01, 7.99299537e-01,\n",
              "        8.14856853e-01, 7.17848054e-01, 5.43797755e-01, 6.34973533e-01,\n",
              "        6.06242584e-01, 5.52909047e-01, 8.82497458e-02, 7.32546461e-01,\n",
              "        7.14911266e-01, 1.72871609e-01, 6.33898930e-01, 1.17617991e-01,\n",
              "        7.89901988e-01, 6.07612135e-01],\n",
              "       [7.75314386e-02, 4.81852398e-02, 8.37469065e-02, 4.54431064e-02,\n",
              "        2.04321859e-02, 4.17185806e-02, 1.65424106e-01, 1.71587950e-02,\n",
              "        4.46315959e-02, 1.85998238e-02, 1.47863054e-01, 1.15006781e-01,\n",
              "        4.51004987e-03, 1.50287504e-01, 5.62716292e-02, 1.20965892e-01,\n",
              "        1.26761280e-01, 1.01731132e-02, 8.86277659e-02, 1.69117991e-01,\n",
              "        2.10105057e-01, 2.04790443e-01, 6.60482395e-02, 2.04901555e-02,\n",
              "        2.04093693e-03, 9.11612340e-01, 5.99444262e-01, 8.82125269e-01,\n",
              "        9.05604566e-01, 8.96344873e-01, 8.49119234e-01, 9.16826152e-01,\n",
              "        7.35769050e-01, 7.41593639e-01, 9.17108724e-01, 7.21866485e-01,\n",
              "        8.20167361e-01, 7.22060155e-01, 7.02295393e-01, 6.97798132e-01,\n",
              "        8.48709707e-01, 7.43788824e-01, 1.22364506e-01, 9.91905213e-01,\n",
              "        6.49773297e-01, 2.79661914e-01, 5.92469127e-01, 1.29592266e-01,\n",
              "        7.35769050e-01, 5.76925489e-01],\n",
              "       [7.75314386e-02, 4.81852398e-02, 8.37469065e-02, 4.54431064e-02,\n",
              "        2.04321859e-02, 4.17185806e-02, 1.65424106e-01, 1.71587950e-02,\n",
              "        4.46315959e-02, 1.85998238e-02, 1.47863054e-01, 1.15006781e-01,\n",
              "        4.51004987e-03, 1.50287504e-01, 5.62716292e-02, 1.20965892e-01,\n",
              "        1.26761280e-01, 1.01731132e-02, 8.86277659e-02, 1.69117991e-01,\n",
              "        2.10105057e-01, 2.04790443e-01, 6.60482395e-02, 2.04901555e-02,\n",
              "        2.04093693e-03, 9.11612340e-01, 5.99444262e-01, 8.82125269e-01,\n",
              "        9.05604566e-01, 8.96344873e-01, 8.49119234e-01, 9.16826152e-01,\n",
              "        7.35769050e-01, 7.41593639e-01, 9.17108724e-01, 7.21866485e-01,\n",
              "        8.20167361e-01, 7.22060155e-01, 7.02295393e-01, 6.97798132e-01,\n",
              "        8.48709707e-01, 7.43788824e-01, 1.22364506e-01, 9.91905213e-01,\n",
              "        6.49773297e-01, 2.79661914e-01, 5.92469127e-01, 1.29592266e-01,\n",
              "        7.35769050e-01, 5.76925489e-01]])"
            ]
          },
          "metadata": {},
          "execution_count": 43
        }
      ]
    },
    {
      "cell_type": "code",
      "source": [
        "qpca_kernel\n"
      ],
      "metadata": {
        "colab": {
          "base_uri": "https://localhost:8080/"
        },
        "id": "Xsd4enxD8RdF",
        "outputId": "519054f6-74c8-4a2f-ba43-242ad119d725"
      },
      "id": "Xsd4enxD8RdF",
      "execution_count": null,
      "outputs": [
        {
          "output_type": "execute_result",
          "data": {
            "text/plain": [
              "<qiskit_machine_learning.kernels.fidelity_quantum_kernel.FidelityQuantumKernel at 0x7e0e41ce0d90>"
            ]
          },
          "metadata": {},
          "execution_count": 45
        }
      ]
    },
    {
      "cell_type": "code",
      "execution_count": null,
      "id": "bc0f9eb3-54cd-4f21-a63e-dcf47dd29614",
      "metadata": {
        "id": "bc0f9eb3-54cd-4f21-a63e-dcf47dd29614"
      },
      "outputs": [],
      "source": [
        "from sklearn.decomposition import KernelPCA\n",
        "\n",
        "kernel_pca_rbf = KernelPCA(n_components = 2,kernel = \"rbf\")\n",
        "kernel_pca_rbf.fit(train_features)\n",
        "train_features_rbf = kernel_pca_rbf.transform(train_features)\n",
        "test_features_rbf = kernel_pca_rbf.transform(test_features)\n",
        "\n",
        "kernel_pca_q = KernelPCA(n_components = 2, kernel = \"precomputed\")\n",
        "train_features_q = kernel_pca_q.fit_transform(matrix_train)\n",
        "test_features_q = kernel_pca_q.transform(matrix_test)"
      ]
    },
    {
      "cell_type": "code",
      "source": [
        "train_features_rbf"
      ],
      "metadata": {
        "colab": {
          "base_uri": "https://localhost:8080/"
        },
        "id": "RIssdgqW88Ad",
        "outputId": "e8369533-54db-407a-ae26-46545d107a3d"
      },
      "id": "RIssdgqW88Ad",
      "execution_count": null,
      "outputs": [
        {
          "output_type": "execute_result",
          "data": {
            "text/plain": [
              "array([[-0.43583205, -0.11127695],\n",
              "       [-0.09827468,  0.54368508],\n",
              "       [-0.14909087,  0.61109764],\n",
              "       [-0.55219082, -0.36496816],\n",
              "       [-0.34472704, -0.31692237],\n",
              "       [-0.0230303 ,  0.3532069 ],\n",
              "       [ 0.47087108, -0.13120613],\n",
              "       [ 0.29496731, -0.00511986],\n",
              "       [ 0.06331373,  0.37609917],\n",
              "       [ 0.35561957, -0.05724481],\n",
              "       [-0.01872054,  0.16025516],\n",
              "       [ 0.5731697 , -0.14860668],\n",
              "       [-0.13790346,  0.02689572],\n",
              "       [-0.00357876, -0.15559546],\n",
              "       [-0.07985116,  0.25924788],\n",
              "       [-0.15603685,  0.61381109],\n",
              "       [-0.21243648,  0.36151795],\n",
              "       [-0.09834257,  0.27768662],\n",
              "       [ 0.03959726,  0.19422651],\n",
              "       [ 0.15164114,  0.17618975],\n",
              "       [-0.1765226 ,  0.1901871 ],\n",
              "       [ 0.57694923, -0.15447628],\n",
              "       [-0.17679074,  0.28384314],\n",
              "       [-0.45071529, -0.13301994],\n",
              "       [-0.22309422,  0.36239408],\n",
              "       [-0.08575535,  0.18737272],\n",
              "       [ 0.67669336, -0.17625629],\n",
              "       [-0.34877865,  0.0596271 ],\n",
              "       [-0.22271735,  0.1579746 ],\n",
              "       [-0.52509717, -0.51407321],\n",
              "       [ 0.46839784, -0.2058151 ],\n",
              "       [ 0.53640866, -0.19777083],\n",
              "       [ 0.69274995, -0.18550053],\n",
              "       [ 0.70168127, -0.19718297],\n",
              "       [ 0.50610788, -0.19308907],\n",
              "       [-0.57194535, -0.54705622],\n",
              "       [-0.57894063, -0.55225283],\n",
              "       [-0.59839502, -0.52482581],\n",
              "       [-0.60429302, -0.52891149],\n",
              "       [ 0.70879479, -0.21049692],\n",
              "       [ 0.67617702, -0.18144568],\n",
              "       [-0.31857609, -0.08605046],\n",
              "       [-0.21071712,  0.23872015],\n",
              "       [-0.1702855 ,  0.35719711],\n",
              "       [ 0.613589  , -0.16236048],\n",
              "       [-0.23439002,  0.2113894 ],\n",
              "       [-0.24565959,  0.31483308],\n",
              "       [-0.15089091,  0.45711692],\n",
              "       [ 0.69274995, -0.18550053],\n",
              "       [-0.59589855, -0.54754986]])"
            ]
          },
          "metadata": {},
          "execution_count": 51
        }
      ]
    },
    {
      "cell_type": "code",
      "source": [
        "train_features_q.shape"
      ],
      "metadata": {
        "colab": {
          "base_uri": "https://localhost:8080/"
        },
        "id": "uVDbYtL9ahCx",
        "outputId": "0903b758-c88d-4924-dd5c-e1b59a8da89e"
      },
      "id": "uVDbYtL9ahCx",
      "execution_count": null,
      "outputs": [
        {
          "output_type": "execute_result",
          "data": {
            "text/plain": [
              "(50, 2)"
            ]
          },
          "metadata": {},
          "execution_count": 63
        }
      ]
    },
    {
      "cell_type": "code",
      "source": [
        "test_features_rbf"
      ],
      "metadata": {
        "colab": {
          "base_uri": "https://localhost:8080/"
        },
        "id": "ykJhbpNi9km1",
        "outputId": "fb40fa7d-3561-4dda-fdc0-366dc6346054"
      },
      "id": "ykJhbpNi9km1",
      "execution_count": null,
      "outputs": [
        {
          "output_type": "execute_result",
          "data": {
            "text/plain": [
              "array([[-0.11796855,  0.33334172],\n",
              "       [-0.09525981,  0.33969982],\n",
              "       [ 0.33675451,  0.09708732],\n",
              "       [-0.44599113, -0.11455185],\n",
              "       [-0.09298296, -0.09943043],\n",
              "       [-0.2405433 ,  0.32247157],\n",
              "       [-0.07762086, -0.07879433],\n",
              "       [-0.00866196, -0.10742549],\n",
              "       [-0.03207613,  0.15753563],\n",
              "       [-0.23528389,  0.27273256],\n",
              "       [-0.22260643,  0.29379316],\n",
              "       [-0.09394978,  0.18783451],\n",
              "       [-0.11771567,  0.28787303],\n",
              "       [ 0.67617702, -0.18144568],\n",
              "       [ 0.66181229, -0.17234264],\n",
              "       [-0.30362643,  0.09475252],\n",
              "       [-0.23535133,  0.14956141],\n",
              "       [-0.09391193,  0.18408261],\n",
              "       [ 0.59906242, -0.13161294],\n",
              "       [-0.48775827, -0.4676936 ]])"
            ]
          },
          "metadata": {},
          "execution_count": 52
        }
      ]
    },
    {
      "cell_type": "code",
      "source": [
        "train_features_q"
      ],
      "metadata": {
        "colab": {
          "base_uri": "https://localhost:8080/"
        },
        "id": "Y5S9P4Wp9opM",
        "outputId": "5b6753bc-2e2f-415b-b90b-045f53007db5"
      },
      "id": "Y5S9P4Wp9opM",
      "execution_count": null,
      "outputs": [
        {
          "output_type": "execute_result",
          "data": {
            "text/plain": [
              "array([[-0.55503502,  0.07923032],\n",
              "       [-0.58676147, -0.08772943],\n",
              "       [-0.59382533, -0.23549206],\n",
              "       [-0.54285457,  0.12581656],\n",
              "       [-0.31865254,  0.52147892],\n",
              "       [-0.09885318,  0.75120647],\n",
              "       [-0.43627762, -0.27501966],\n",
              "       [-0.46208992,  0.43635021],\n",
              "       [-0.44884068,  0.09484447],\n",
              "       [-0.16373473,  0.58186484],\n",
              "       [-0.49956763, -0.38608327],\n",
              "       [-0.49363459,  0.05312043],\n",
              "       [-0.55246775, -0.1729477 ],\n",
              "       [-0.55492991, -0.40487528],\n",
              "       [-0.53716952, -0.36478571],\n",
              "       [-0.55961796, -0.28995991],\n",
              "       [-0.470649  , -0.11800922],\n",
              "       [-0.56413667,  0.11319325],\n",
              "       [-0.54565969, -0.39609464],\n",
              "       [-0.3447506 , -0.13450906],\n",
              "       [-0.44696335, -0.40610805],\n",
              "       [-0.45772824, -0.1058859 ],\n",
              "       [-0.10443968,  0.68880703],\n",
              "       [-0.5192437 ,  0.29979044],\n",
              "       [-0.61850202, -0.18135537],\n",
              "       [ 0.48309257, -0.21584314],\n",
              "       [ 0.59684767,  0.12003704],\n",
              "       [ 0.5537754 , -0.26414466],\n",
              "       [ 0.65529716, -0.09391011],\n",
              "       [ 0.56743302, -0.18250577],\n",
              "       [ 0.31445134, -0.29220432],\n",
              "       [ 0.45193486, -0.27250302],\n",
              "       [ 0.65147789,  0.01834509],\n",
              "       [ 0.6349022 ,  0.04107686],\n",
              "       [ 0.42184205, -0.29731801],\n",
              "       [ 0.57293048, -0.01625989],\n",
              "       [ 0.65861456, -0.03305104],\n",
              "       [ 0.5820846 ,  0.00673256],\n",
              "       [ 0.43637677, -0.05365851],\n",
              "       [ 0.57715252,  0.08830026],\n",
              "       [ 0.601556  , -0.03979555],\n",
              "       [ 0.27792267, -0.21650408],\n",
              "       [-0.17625067,  0.45840009],\n",
              "       [ 0.58316239, -0.2554184 ],\n",
              "       [ 0.53329395,  0.06616761],\n",
              "       [ 0.07006957,  0.4861796 ],\n",
              "       [ 0.39109647,  0.13630703],\n",
              "       [-0.15407493,  0.48280166],\n",
              "       [ 0.65147789,  0.01834509],\n",
              "       [ 0.53991892,  0.12357596]])"
            ]
          },
          "metadata": {},
          "execution_count": 53
        }
      ]
    },
    {
      "cell_type": "code",
      "source": [
        "test_features_q"
      ],
      "metadata": {
        "colab": {
          "base_uri": "https://localhost:8080/"
        },
        "id": "wQToXiun9s5k",
        "outputId": "12dab7dc-b920-4351-d09a-77f33422519d"
      },
      "id": "wQToXiun9s5k",
      "execution_count": null,
      "outputs": [
        {
          "output_type": "execute_result",
          "data": {
            "text/plain": [
              "array([[-0.40581527, -0.05166188],\n",
              "       [-0.40015424, -0.0121193 ],\n",
              "       [-0.14562142,  0.57152926],\n",
              "       [-0.43221603,  0.44994473],\n",
              "       [-0.63535825, -0.27527967],\n",
              "       [-0.55136462, -0.35177173],\n",
              "       [-0.60401336, -0.23728917],\n",
              "       [-0.53461625, -0.27291853],\n",
              "       [-0.5358296 , -0.35333862],\n",
              "       [-0.32300996,  0.26529087],\n",
              "       [ 0.18978895,  0.28506888],\n",
              "       [ 0.46610061, -0.14633504],\n",
              "       [ 0.42084924, -0.25009388],\n",
              "       [ 0.601556  , -0.03979555],\n",
              "       [ 0.60008257, -0.07986394],\n",
              "       [ 0.42573038,  0.02051096],\n",
              "       [ 0.58086037, -0.09689484],\n",
              "       [ 0.46307021, -0.20686733],\n",
              "       [ 0.59491897, -0.25148602],\n",
              "       [ 0.59491897, -0.25148602]])"
            ]
          },
          "metadata": {},
          "execution_count": 54
        }
      ]
    },
    {
      "cell_type": "code",
      "execution_count": null,
      "id": "d2be6b29-f46c-4806-bb86-d55ff4d98b9f",
      "metadata": {
        "colab": {
          "base_uri": "https://localhost:8080/"
        },
        "id": "d2be6b29-f46c-4806-bb86-d55ff4d98b9f",
        "outputId": "1ccb2105-cd76-41d0-8bcd-a76c532beca6"
      },
      "outputs": [
        {
          "output_type": "stream",
          "name": "stdout",
          "text": [
            "Logistic regression score: 0.5\n"
          ]
        }
      ],
      "source": [
        "from sklearn.linear_model import LogisticRegression\n",
        "\n",
        "logistic_regression = LogisticRegression()\n",
        "logistic_regression.fit(train_features_rbf, train_labels)\n",
        "\n",
        "logistic_score = logistic_regression.score(test_features_rbf, test_labels)\n",
        "print(f\"Logistic regression score: {logistic_score}\")"
      ]
    },
    {
      "cell_type": "code",
      "source": [
        "logistic_regression = LogisticRegression()\n",
        "logistic_regression.fit(train_features_q, train_labels)\n",
        "\n",
        "logistic_score = logistic_regression.score(test_features_q, test_labels)\n",
        "print(f\"Logistic regression score: {logistic_score}\")"
      ],
      "metadata": {
        "colab": {
          "base_uri": "https://localhost:8080/"
        },
        "id": "RukWC8IoADGD",
        "outputId": "2618b079-1685-4c34-9d31-7b6930057cd8"
      },
      "id": "RukWC8IoADGD",
      "execution_count": null,
      "outputs": [
        {
          "output_type": "stream",
          "name": "stdout",
          "text": [
            "Logistic regression score: 1.0\n"
          ]
        }
      ]
    },
    {
      "cell_type": "code",
      "execution_count": null,
      "id": "01c3f2f0-f665-4843-a030-5beca362b39a",
      "metadata": {
        "colab": {
          "base_uri": "https://localhost:8080/",
          "height": 526
        },
        "id": "01c3f2f0-f665-4843-a030-5beca362b39a",
        "outputId": "92ceac92-8ba7-4dbf-8089-89e45fd50bef"
      },
      "outputs": [
        {
          "output_type": "display_data",
          "data": {
            "text/plain": [
              "<Figure size 1000x500 with 2 Axes>"
            ],
            "image/png": "[encoded data removed]"
          },
          "metadata": {}
        },
        {
          "output_type": "execute_result",
          "data": {
            "text/plain": [
              "<matplotlib.contour.QuadContourSet at 0x7e0e0574f160>"
            ]
          },
          "metadata": {},
          "execution_count": 60
        }
      ],
      "source": [
        "fig, (q_ax, rbf_ax) = plt.subplots(1,2,figsize = (10,5))\n",
        "\n",
        "plot_features(q_ax, train_features_q, train_labels, 0 , \"s\", \"w\", \"b\", \"A train\")\n",
        "plot_features(q_ax, train_features_q, train_labels, 1, \"o\", \"w\", \"r\", \"B train\")\n",
        "\n",
        "plot_features(q_ax, test_features_q, test_labels, 0, \"s\", \"b\", \"w\", \"A test\")\n",
        "plot_features(q_ax, test_features_q, test_labels, 1, \"o\", \"r\", \"w\", \"A test\")\n",
        "\n",
        "q_ax.set_ylabel(\"Principal component #1\")\n",
        "q_ax.set_xlabel(\"Principal component #0\")\n",
        "q_ax.set_title(\"Projection of training and test data\\n using KPCA with Quantum Kernel\")\n",
        "\n",
        "# Plotting the linear separation\n",
        "h = 0.01  # step size in the mesh\n",
        "\n",
        "# create a mesh to plot in\n",
        "x_min, x_max = train_features_q[:, 0].min() - 1, train_features_q[:, 0].max() + 1\n",
        "y_min, y_max = test_features_q[:, 1].min() - 1, test_features_q[:, 1].max() + 1\n",
        "xx, yy = np.meshgrid(np.arange(x_min, x_max, h), np.arange(y_min, y_max, h))\n",
        "\n",
        "predictions = logistic_regression.predict(np.c_[xx.ravel(), yy.ravel()])\n",
        "\n",
        "# Put the result into a color plot\n",
        "predictions = predictions.reshape(xx.shape)\n",
        "q_ax.contourf(xx, yy, predictions, cmap=plt.cm.RdBu, alpha=0.2)\n",
        "\n",
        "plot_features(rbf_ax, train_features_rbf, train_labels, 0, \"s\", \"w\", \"b\", \"A train\")\n",
        "plot_features(rbf_ax, train_features_rbf, train_labels, 1, \"o\", \"w\", \"r\", \"B train\")\n",
        "plot_features(rbf_ax, test_features_rbf, test_labels, 0, \"s\", \"b\", \"w\", \"A test\")\n",
        "plot_features(rbf_ax, test_features_rbf, test_labels, 1, \"o\", \"r\", \"w\", \"A test\")\n",
        "\n",
        "rbf_ax.set_ylabel(\"Principal component #1\")\n",
        "rbf_ax.set_xlabel(\"Principal component #0\")\n",
        "rbf_ax.set_title(\"Projection of training data\\n using KernelPCA\")\n",
        "plt.show()\n",
        "# Plotting the linear separation\n",
        "h = 0.01  # step size in the mesh\n",
        "\n",
        "# create a mesh to plot in\n",
        "x_min, x_max = train_features_rbf[:, 0].min() - 1, train_features_rbf[:, 0].max() + 1\n",
        "y_min, y_max = test_features_rbf[:, 1].min() - 1, test_features_rbf[:, 1].max() + 1\n",
        "xx, yy = np.meshgrid(np.arange(x_min, x_max, h), np.arange(y_min, y_max, h))\n",
        "\n",
        "predictions = logistic_regression.predict(np.c_[xx.ravel(), yy.ravel()])\n",
        "# Put the result into a color plot\n",
        "predictions = predictions.reshape(xx.shape)\n",
        "rbf_ax.contourf(xx, yy, predictions, cmap=plt.cm.RdBu, alpha=0.2)\n"
      ]
    },
    {
      "cell_type": "code",
      "execution_count": null,
      "id": "ea20189c-1fe3-4695-83af-a30128b93b2d",
      "metadata": {
        "id": "ea20189c-1fe3-4695-83af-a30128b93b2d"
      },
      "outputs": [],
      "source": []
    }
  ],
  "metadata": {
    "kernelspec": {
      "display_name": "Python 3 (ipykernel)",
      "language": "python",
      "name": "python3"
    },
    "language_info": {
      "codemirror_mode": {
        "name": "ipython",
        "version": 3
      },
      "file_extension": ".py",
      "mimetype": "text/x-python",
      "name": "python",
      "nbconvert_exporter": "python",
      "pygments_lexer": "ipython3",
      "version": "3.10.12"
    },
    "colab": {
      "provenance": []
    }
  },
  "nbformat": 4,
  "nbformat_minor": 5
}