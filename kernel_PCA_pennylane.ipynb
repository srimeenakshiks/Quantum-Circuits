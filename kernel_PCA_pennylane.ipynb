{
  "cells": [
    {
      "cell_type": "code",
      "execution_count": null,
      "metadata": {
        "jupyter": {
          "outputs_hidden": false
        },
        "id": "AzriKSNHQPMt"
      },
      "outputs": [],
      "source": [
        "# This cell is added by sphinx-gallery\n",
        "# It can be customized to whatever you like\n",
        "%matplotlib inline"
      ]
    },
    {
      "cell_type": "code",
      "execution_count": null,
      "metadata": {
        "jupyter": {
          "outputs_hidden": false
        },
        "id": "ohZVLmtnQPMy"
      },
      "outputs": [],
      "source": [
        "qubits = 8  # the number of qubits on which the unitaries act\n",
        "n_shots = 100  # the number of times we can use each unitary"
      ]
    },
    {
      "cell_type": "code",
      "execution_count": null,
      "metadata": {
        "jupyter": {
          "outputs_hidden": false
        },
        "id": "dayfRwp4QPM0"
      },
      "outputs": [],
      "source": [
        "import pennylane as qml\n",
        "from pennylane.templates.layers import RandomLayers\n",
        "from pennylane import numpy as np\n",
        "\n",
        "np.random.seed(234087)\n",
        "\n",
        "layers, gates = 10, 10  # the number of layers and gates used in RandomLayers\n",
        "\n",
        "\n",
        "def generate_circuit(shots):\n",
        "    \"\"\"\n",
        "    generate a random circuit that returns a number of measuement samples\n",
        "    given by shots\n",
        "    \"\"\"\n",
        "    dev = qml.device(\"lightning.qubit\", wires=qubits, shots=shots)\n",
        "\n",
        "    @qml.qnode(dev)\n",
        "    def circuit(ts=False):\n",
        "\n",
        "        if ts == True:\n",
        "            ops = [qml.RY]  # time-symmetric unitaries\n",
        "        else:\n",
        "            ops = [qml.RX, qml.RY, qml.RZ]  # general unitaries\n",
        "\n",
        "        weights = np.random.rand(layers, gates) * np.pi\n",
        "        RandomLayers(weights, wires=range(qubits), rotations=ops, seed=np.random.randint(0, 10000))\n",
        "\n",
        "        return [qml.sample(op=qml.PauliY(q)) for q in range(qubits)]\n",
        "\n",
        "    return circuit"
      ]
    },
    {
      "cell_type": "code",
      "execution_count": null,
      "metadata": {
        "jupyter": {
          "outputs_hidden": false
        },
        "id": "raGSNxWXQPM1",
        "outputId": "8ceff7e0-06fc-490c-c9e6-0cf83c9e7d9c"
      },
      "outputs": [
        {
          "name": "stdout",
          "output_type": "stream",
          "text": [
            "[[ 1.  1.  1.]\n",
            " [-1.  1.  1.]\n",
            " [ 1.  1. -1.]\n",
            " [-1.  1.  1.]\n",
            " [-1. -1. -1.]\n",
            " [ 1.  1. -1.]\n",
            " [ 1. -1.  1.]\n",
            " [ 1.  1.  1.]]\n",
            "\n",
            "\n",
            "[[ 1. -1.  1.]\n",
            " [-1. -1.  1.]\n",
            " [ 1.  1. -1.]\n",
            " [ 1.  1.  1.]\n",
            " [ 1.  1. -1.]\n",
            " [ 1.  1. -1.]\n",
            " [-1.  1.  1.]\n",
            " [-1.  1.  1.]]\n"
          ]
        }
      ],
      "source": [
        "# the measurement outcomes for the first 3 shots\n",
        "circuit = generate_circuit(n_shots)\n",
        "print(np.array(circuit(ts=True))[:, 0:3])\n",
        "print(\"\\n\")\n",
        "print(np.array(circuit(ts=False))[:, 0:3])"
      ]
    },
    {
      "cell_type": "code",
      "execution_count": null,
      "metadata": {
        "jupyter": {
          "outputs_hidden": false
        },
        "id": "ZScVY4jSQPM3"
      },
      "outputs": [],
      "source": [
        "circuits = 30  # the number of circuits in each data set\n",
        "\n",
        "raw_data = []\n",
        "\n",
        "for ts in [True, False]:\n",
        "    for __ in range(circuits):\n",
        "        circuit = generate_circuit(n_shots)\n",
        "        raw_data.append(circuit(ts=ts))"
      ]
    },
    {
      "cell_type": "code",
      "execution_count": null,
      "metadata": {
        "jupyter": {
          "outputs_hidden": false
        },
        "id": "9Ci0shNCQPM4"
      },
      "outputs": [],
      "source": [
        "def process_data(raw_data):\n",
        "    \"convert raw data to vectors of means and variances of each qubit\"\n",
        "\n",
        "    raw_data = np.array(raw_data)\n",
        "    nc = len(raw_data)  # the number of circuits used to generate the data\n",
        "    nq = len(raw_data[0])  # the number of qubits in each circuit\n",
        "    new_data = np.zeros([nc, 2 * nq])\n",
        "\n",
        "    for k, outcomes in enumerate(raw_data):\n",
        "        means = [np.mean(outcomes[q, :]) for q in range(nq)]\n",
        "        variances = [np.var(outcomes[q, :]) for q in range(nq)]\n",
        "        new_data[k] = np.array(means + variances)\n",
        "\n",
        "    return new_data\n",
        "\n",
        "\n",
        "data = process_data(raw_data)"
      ]
    },
    {
      "cell_type": "code",
      "execution_count": null,
      "metadata": {
        "jupyter": {
          "outputs_hidden": false
        },
        "id": "MBdM380RQPM5"
      },
      "outputs": [],
      "source": [
        "from sklearn.decomposition import KernelPCA\n",
        "from sklearn import preprocessing\n",
        "\n",
        "kernel_pca = KernelPCA(\n",
        "    n_components=None, kernel=\"rbf\", gamma=None, fit_inverse_transform=True, alpha=0.1\n",
        ")\n",
        "\n",
        "# rescale the data so it has unit standard deviation and zero mean.\n",
        "scaler = preprocessing.StandardScaler().fit(data)\n",
        "data = scaler.transform(data)\n",
        "# try to cluster the data\n",
        "fit = kernel_pca.fit(data).transform(data)"
      ]
    },
    {
      "cell_type": "code",
      "execution_count": null,
      "metadata": {
        "jupyter": {
          "outputs_hidden": false
        },
        "id": "sGJfqiUVQPM7",
        "outputId": "175c18ad-9b18-4b21-fe0c-25fcd1f9f720"
      },
      "outputs": [
        {
          "data": {
            "image/png": "[encoded data removed]",
            "text/plain": [
              "<Figure size 640x480 with 1 Axes>"
            ]
          },
          "metadata": {},
          "output_type": "display_data"
        }
      ],
      "source": [
        "import matplotlib.pyplot as plt\n",
        "\n",
        "# make a colour map for the points\n",
        "c = np.array([0 for __ in range(circuits)] + [1 for __ in range(circuits)])\n",
        "\n",
        "plt.scatter(fit[:, 0], fit[:, 1], c=c)\n",
        "plt.show()"
      ]
    },
    {
      "cell_type": "code",
      "execution_count": null,
      "metadata": {
        "jupyter": {
          "outputs_hidden": false
        },
        "id": "xbQ03q_oQPM9",
        "outputId": "d41d429a-c45f-4ab9-d834-710f3160598b"
      },
      "outputs": [
        {
          "data": {
            "image/png": "[encoded data removed]",
            "text/plain": [
              "<Figure size 640x480 with 1 Axes>"
            ]
          },
          "metadata": {},
          "output_type": "display_data"
        }
      ],
      "source": [
        "n_shots = 10000  # 100 x more shots\n",
        "\n",
        "raw_data = []\n",
        "\n",
        "for ts in [True, False]:\n",
        "    for __ in range(circuits):\n",
        "        circuit = generate_circuit(n_shots)\n",
        "        raw_data.append(circuit(ts=ts))\n",
        "\n",
        "data = process_data(raw_data)\n",
        "scaler = preprocessing.StandardScaler().fit(data)\n",
        "data = scaler.transform(data)\n",
        "\n",
        "fit = kernel_pca.fit(data).transform(data)\n",
        "\n",
        "plt.scatter(fit[:, 0], fit[:, 1], c=c)\n",
        "plt.show()"
      ]
    },
    {
      "cell_type": "code",
      "execution_count": null,
      "metadata": {
        "jupyter": {
          "outputs_hidden": false
        },
        "id": "T0BR8zFOQPM-"
      },
      "outputs": [],
      "source": [
        "n_shots = 50\n",
        "qubits = 8\n",
        "\n",
        "dev = qml.device(\"lightning.qubit\", wires=qubits * 2, shots=n_shots)\n",
        "\n",
        "\n",
        "@qml.qnode(dev)\n",
        "def enhanced_circuit(ts=False):\n",
        "    \"implement the enhanced circuit, using a random unitary\"\n",
        "\n",
        "    if ts == True:\n",
        "        ops = [qml.RY]\n",
        "    else:\n",
        "        ops = [qml.RX, qml.RY, qml.RZ]\n",
        "\n",
        "    weights = np.random.rand(layers, n_shots) * np.pi\n",
        "    seed = np.random.randint(0, 10000)\n",
        "\n",
        "    for q in range(qubits):\n",
        "        qml.Hadamard(wires=q)\n",
        "\n",
        "    qml.broadcast(\n",
        "        qml.CNOT, pattern=[[q, qubits + q] for q in range(qubits)], wires=range(qubits * 2)\n",
        "    )\n",
        "    RandomLayers(weights, wires=range(0, qubits), rotations=ops, seed=seed)\n",
        "    RandomLayers(weights, wires=range(qubits, 2 * qubits), rotations=ops, seed=seed)\n",
        "    qml.broadcast(\n",
        "        qml.CNOT, pattern=[[q, qubits + q] for q in range(qubits)], wires=range(qubits * 2)\n",
        "    )\n",
        "\n",
        "    for q in range(qubits):\n",
        "        qml.Hadamard(wires=q)\n",
        "\n",
        "    return [qml.sample(op=qml.PauliZ(q)) for q in range(2 * qubits)]"
      ]
    },
    {
      "cell_type": "code",
      "execution_count": null,
      "metadata": {
        "jupyter": {
          "outputs_hidden": false
        },
        "id": "JQU67v_PQPM_"
      },
      "outputs": [],
      "source": [
        "raw_data = []\n",
        "\n",
        "for ts in [True, False]:\n",
        "    for __ in range(circuits):\n",
        "        raw_data.append(enhanced_circuit(ts))\n",
        "\n",
        "data = process_data(raw_data)"
      ]
    },
    {
      "cell_type": "code",
      "execution_count": null,
      "metadata": {
        "jupyter": {
          "outputs_hidden": false
        },
        "id": "-DFuF5-mQPM_",
        "outputId": "d2d9909b-40f0-475e-dc83-c938538b0a29"
      },
      "outputs": [
        {
          "data": {
            "image/png": "[encoded data removed]",
            "text/plain": [
              "<Figure size 640x480 with 1 Axes>"
            ]
          },
          "metadata": {},
          "output_type": "display_data"
        }
      ],
      "source": [
        "kernel_pca = KernelPCA(\n",
        "    n_components=None, kernel=\"rbf\", gamma=None, fit_inverse_transform=True, alpha=0.1\n",
        ")\n",
        "\n",
        "scaler = preprocessing.StandardScaler().fit(data)\n",
        "data = scaler.transform(data)\n",
        "\n",
        "fit = kernel_pca.fit(data).transform(data)\n",
        "\n",
        "c = np.array([0 for __ in range(circuits)] + [1 for __ in range(circuits)])\n",
        "plt.scatter(fit[:, 0], fit[:, 1], c=c)\n",
        "plt.show()"
      ]
    },
    {
      "cell_type": "code",
      "execution_count": null,
      "metadata": {
        "jupyter": {
          "outputs_hidden": false
        },
        "id": "2xJuoO_jQPNA",
        "outputId": "292bd2ff-46b3-4735-e733-0d44b02beab6"
      },
      "outputs": [
        {
          "data": {
            "text/plain": [
              "tensor([[1., 1., 1., 1., 1.],\n",
              "        [1., 1., 1., 1., 1.],\n",
              "        [1., 1., 1., 1., 1.],\n",
              "        [1., 1., 1., 1., 1.],\n",
              "        [1., 1., 1., 1., 1.],\n",
              "        [1., 1., 1., 1., 1.],\n",
              "        [1., 1., 1., 1., 1.],\n",
              "        [1., 1., 1., 1., 1.],\n",
              "        [1., 1., 1., 1., 1.],\n",
              "        [1., 1., 1., 1., 1.],\n",
              "        [1., 1., 1., 1., 1.],\n",
              "        [1., 1., 1., 1., 1.],\n",
              "        [1., 1., 1., 1., 1.],\n",
              "        [1., 1., 1., 1., 1.],\n",
              "        [1., 1., 1., 1., 1.],\n",
              "        [1., 1., 1., 1., 1.]], requires_grad=True)"
            ]
          },
          "execution_count": 13,
          "metadata": {},
          "output_type": "execute_result"
        }
      ],
      "source": [
        "np.array(raw_data[0])[:, 0:5]  # outcomes of first 5 shots of the first T-symmetric circuit"
      ]
    },
    {
      "cell_type": "code",
      "execution_count": null,
      "metadata": {
        "jupyter": {
          "outputs_hidden": false
        },
        "id": "WG4BnOl8QPNA"
      },
      "outputs": [],
      "source": [
        "def noise_layer(epsilon):\n",
        "    \"apply a random rotation to each qubit\"\n",
        "    for q in range(2 * qubits):\n",
        "        angles = (2 * np.random.rand(3) - 1) * epsilon\n",
        "        qml.Rot(angles[0], angles[1], angles[2], wires=q)"
      ]
    },
    {
      "cell_type": "code",
      "execution_count": null,
      "metadata": {
        "jupyter": {
          "outputs_hidden": false
        },
        "id": "My7QY9A2QPNB"
      },
      "outputs": [],
      "source": [
        "@qml.qnode(dev)\n",
        "def enhanced_circuit(ts=False):\n",
        "    \"implement the enhanced circuit, using a random unitary with a noise layer\"\n",
        "\n",
        "    if ts == True:\n",
        "        ops = [qml.RY]\n",
        "    else:\n",
        "        ops = [qml.RX, qml.RY, qml.RZ]\n",
        "\n",
        "    weights = np.random.rand(layers, n_shots) * np.pi\n",
        "    seed = np.random.randint(0, 10000)\n",
        "\n",
        "    for q in range(qubits):\n",
        "        qml.Hadamard(wires=q)\n",
        "\n",
        "    qml.broadcast(\n",
        "        qml.CNOT, pattern=[[q, qubits + q] for q in range(qubits)], wires=range(qubits * 2)\n",
        "    )\n",
        "    RandomLayers(weights, wires=range(0, qubits), rotations=ops, seed=seed)\n",
        "    RandomLayers(weights, wires=range(qubits, 2 * qubits), rotations=ops, seed=seed)\n",
        "    noise_layer(np.pi / 4)  # added noise layer\n",
        "    qml.broadcast(\n",
        "        qml.CNOT, pattern=[[qubits + q, q] for q in range(qubits)], wires=range(qubits * 2)\n",
        "    )\n",
        "\n",
        "    for q in range(qubits):\n",
        "        qml.Hadamard(wires=qubits + q)\n",
        "\n",
        "    return [qml.sample(op=qml.PauliZ(q)) for q in range(2 * qubits)]"
      ]
    },
    {
      "cell_type": "code",
      "execution_count": null,
      "metadata": {
        "jupyter": {
          "outputs_hidden": false
        },
        "id": "Yy2hYqffQPNC",
        "outputId": "df21ce9c-31d0-4e7a-aeaf-ad251b174373"
      },
      "outputs": [
        {
          "data": {
            "image/png": "[encoded data removed]",
            "text/plain": [
              "<Figure size 640x480 with 1 Axes>"
            ]
          },
          "metadata": {},
          "output_type": "display_data"
        }
      ],
      "source": [
        "raw_data = []\n",
        "\n",
        "for ts in [True, False]:\n",
        "    for __ in range(circuits):\n",
        "        raw_data.append(enhanced_circuit(ts))\n",
        "\n",
        "data = process_data(raw_data)\n",
        "\n",
        "kernel_pca = KernelPCA(\n",
        "    n_components=None, kernel=\"rbf\", gamma=None, fit_inverse_transform=True, alpha=0.1\n",
        ")\n",
        "scaler = preprocessing.StandardScaler().fit(data)\n",
        "data = scaler.transform(data)\n",
        "fit = kernel_pca.fit(data).transform(data)\n",
        "\n",
        "c = np.array([0 for __ in range(circuits)] + [1 for __ in range(circuits)])\n",
        "plt.scatter(fit[:, 0], fit[:, 1], c=c)\n",
        "plt.show()"
      ]
    }
  ],
  "metadata": {
    "kernelspec": {
      "display_name": "Python 3 (ipykernel)",
      "language": "python",
      "name": "python3"
    },
    "language_info": {
      "codemirror_mode": {
        "name": "ipython",
        "version": 3
      },
      "file_extension": ".py",
      "mimetype": "text/x-python",
      "name": "python",
      "nbconvert_exporter": "python",
      "pygments_lexer": "ipython3",
      "version": "3.10.12"
    },
    "colab": {
      "provenance": []
    }
  },
  "nbformat": 4,
  "nbformat_minor": 0
}